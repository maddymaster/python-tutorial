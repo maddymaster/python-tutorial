{
 "cells": [
  {
   "cell_type": "code",
   "execution_count": 2,
   "metadata": {},
   "outputs": [
    {
     "data": {
      "text/html": [
       "<div>\n",
       "<style scoped>\n",
       "    .dataframe tbody tr th:only-of-type {\n",
       "        vertical-align: middle;\n",
       "    }\n",
       "\n",
       "    .dataframe tbody tr th {\n",
       "        vertical-align: top;\n",
       "    }\n",
       "\n",
       "    .dataframe thead th {\n",
       "        text-align: right;\n",
       "    }\n",
       "</style>\n",
       "<table border=\"1\" class=\"dataframe\">\n",
       "  <thead>\n",
       "    <tr style=\"text-align: right;\">\n",
       "      <th></th>\n",
       "      <th>SK_ID_CURR</th>\n",
       "      <th>TARGET</th>\n",
       "      <th>NAME_CONTRACT_TYPE</th>\n",
       "      <th>CODE_GENDER</th>\n",
       "      <th>FLAG_OWN_CAR</th>\n",
       "      <th>FLAG_OWN_REALTY</th>\n",
       "      <th>CNT_CHILDREN</th>\n",
       "      <th>AMT_INCOME_TOTAL</th>\n",
       "      <th>AMT_CREDIT</th>\n",
       "      <th>AMT_ANNUITY</th>\n",
       "      <th>...</th>\n",
       "      <th>FLAG_DOCUMENT_18</th>\n",
       "      <th>FLAG_DOCUMENT_19</th>\n",
       "      <th>FLAG_DOCUMENT_20</th>\n",
       "      <th>FLAG_DOCUMENT_21</th>\n",
       "      <th>AMT_REQ_CREDIT_BUREAU_HOUR</th>\n",
       "      <th>AMT_REQ_CREDIT_BUREAU_DAY</th>\n",
       "      <th>AMT_REQ_CREDIT_BUREAU_WEEK</th>\n",
       "      <th>AMT_REQ_CREDIT_BUREAU_MON</th>\n",
       "      <th>AMT_REQ_CREDIT_BUREAU_QRT</th>\n",
       "      <th>AMT_REQ_CREDIT_BUREAU_YEAR</th>\n",
       "    </tr>\n",
       "  </thead>\n",
       "  <tbody>\n",
       "    <tr>\n",
       "      <th>0</th>\n",
       "      <td>100002</td>\n",
       "      <td>1</td>\n",
       "      <td>Cash loans</td>\n",
       "      <td>M</td>\n",
       "      <td>N</td>\n",
       "      <td>Y</td>\n",
       "      <td>0</td>\n",
       "      <td>202500.0</td>\n",
       "      <td>406597.5</td>\n",
       "      <td>24700.5</td>\n",
       "      <td>...</td>\n",
       "      <td>0</td>\n",
       "      <td>0</td>\n",
       "      <td>0</td>\n",
       "      <td>0</td>\n",
       "      <td>0.0</td>\n",
       "      <td>0.0</td>\n",
       "      <td>0.0</td>\n",
       "      <td>0.0</td>\n",
       "      <td>0.0</td>\n",
       "      <td>1.0</td>\n",
       "    </tr>\n",
       "    <tr>\n",
       "      <th>1</th>\n",
       "      <td>100003</td>\n",
       "      <td>0</td>\n",
       "      <td>Cash loans</td>\n",
       "      <td>F</td>\n",
       "      <td>N</td>\n",
       "      <td>N</td>\n",
       "      <td>0</td>\n",
       "      <td>270000.0</td>\n",
       "      <td>1293502.5</td>\n",
       "      <td>35698.5</td>\n",
       "      <td>...</td>\n",
       "      <td>0</td>\n",
       "      <td>0</td>\n",
       "      <td>0</td>\n",
       "      <td>0</td>\n",
       "      <td>0.0</td>\n",
       "      <td>0.0</td>\n",
       "      <td>0.0</td>\n",
       "      <td>0.0</td>\n",
       "      <td>0.0</td>\n",
       "      <td>0.0</td>\n",
       "    </tr>\n",
       "    <tr>\n",
       "      <th>2</th>\n",
       "      <td>100004</td>\n",
       "      <td>0</td>\n",
       "      <td>Revolving loans</td>\n",
       "      <td>M</td>\n",
       "      <td>Y</td>\n",
       "      <td>Y</td>\n",
       "      <td>0</td>\n",
       "      <td>67500.0</td>\n",
       "      <td>135000.0</td>\n",
       "      <td>6750.0</td>\n",
       "      <td>...</td>\n",
       "      <td>0</td>\n",
       "      <td>0</td>\n",
       "      <td>0</td>\n",
       "      <td>0</td>\n",
       "      <td>0.0</td>\n",
       "      <td>0.0</td>\n",
       "      <td>0.0</td>\n",
       "      <td>0.0</td>\n",
       "      <td>0.0</td>\n",
       "      <td>0.0</td>\n",
       "    </tr>\n",
       "    <tr>\n",
       "      <th>3</th>\n",
       "      <td>100006</td>\n",
       "      <td>0</td>\n",
       "      <td>Cash loans</td>\n",
       "      <td>F</td>\n",
       "      <td>N</td>\n",
       "      <td>Y</td>\n",
       "      <td>0</td>\n",
       "      <td>135000.0</td>\n",
       "      <td>312682.5</td>\n",
       "      <td>29686.5</td>\n",
       "      <td>...</td>\n",
       "      <td>0</td>\n",
       "      <td>0</td>\n",
       "      <td>0</td>\n",
       "      <td>0</td>\n",
       "      <td>NaN</td>\n",
       "      <td>NaN</td>\n",
       "      <td>NaN</td>\n",
       "      <td>NaN</td>\n",
       "      <td>NaN</td>\n",
       "      <td>NaN</td>\n",
       "    </tr>\n",
       "    <tr>\n",
       "      <th>4</th>\n",
       "      <td>100007</td>\n",
       "      <td>0</td>\n",
       "      <td>Cash loans</td>\n",
       "      <td>M</td>\n",
       "      <td>N</td>\n",
       "      <td>Y</td>\n",
       "      <td>0</td>\n",
       "      <td>121500.0</td>\n",
       "      <td>513000.0</td>\n",
       "      <td>21865.5</td>\n",
       "      <td>...</td>\n",
       "      <td>0</td>\n",
       "      <td>0</td>\n",
       "      <td>0</td>\n",
       "      <td>0</td>\n",
       "      <td>0.0</td>\n",
       "      <td>0.0</td>\n",
       "      <td>0.0</td>\n",
       "      <td>0.0</td>\n",
       "      <td>0.0</td>\n",
       "      <td>0.0</td>\n",
       "    </tr>\n",
       "  </tbody>\n",
       "</table>\n",
       "<p>5 rows × 122 columns</p>\n",
       "</div>"
      ],
      "text/plain": [
       "   SK_ID_CURR  TARGET NAME_CONTRACT_TYPE CODE_GENDER FLAG_OWN_CAR  \\\n",
       "0      100002       1         Cash loans           M            N   \n",
       "1      100003       0         Cash loans           F            N   \n",
       "2      100004       0    Revolving loans           M            Y   \n",
       "3      100006       0         Cash loans           F            N   \n",
       "4      100007       0         Cash loans           M            N   \n",
       "\n",
       "  FLAG_OWN_REALTY  CNT_CHILDREN  AMT_INCOME_TOTAL  AMT_CREDIT  AMT_ANNUITY  \\\n",
       "0               Y             0          202500.0    406597.5      24700.5   \n",
       "1               N             0          270000.0   1293502.5      35698.5   \n",
       "2               Y             0           67500.0    135000.0       6750.0   \n",
       "3               Y             0          135000.0    312682.5      29686.5   \n",
       "4               Y             0          121500.0    513000.0      21865.5   \n",
       "\n",
       "   ...  FLAG_DOCUMENT_18 FLAG_DOCUMENT_19 FLAG_DOCUMENT_20 FLAG_DOCUMENT_21  \\\n",
       "0  ...                 0                0                0                0   \n",
       "1  ...                 0                0                0                0   \n",
       "2  ...                 0                0                0                0   \n",
       "3  ...                 0                0                0                0   \n",
       "4  ...                 0                0                0                0   \n",
       "\n",
       "  AMT_REQ_CREDIT_BUREAU_HOUR AMT_REQ_CREDIT_BUREAU_DAY  \\\n",
       "0                        0.0                       0.0   \n",
       "1                        0.0                       0.0   \n",
       "2                        0.0                       0.0   \n",
       "3                        NaN                       NaN   \n",
       "4                        0.0                       0.0   \n",
       "\n",
       "   AMT_REQ_CREDIT_BUREAU_WEEK  AMT_REQ_CREDIT_BUREAU_MON  \\\n",
       "0                         0.0                        0.0   \n",
       "1                         0.0                        0.0   \n",
       "2                         0.0                        0.0   \n",
       "3                         NaN                        NaN   \n",
       "4                         0.0                        0.0   \n",
       "\n",
       "   AMT_REQ_CREDIT_BUREAU_QRT  AMT_REQ_CREDIT_BUREAU_YEAR  \n",
       "0                        0.0                         1.0  \n",
       "1                        0.0                         0.0  \n",
       "2                        0.0                         0.0  \n",
       "3                        NaN                         NaN  \n",
       "4                        0.0                         0.0  \n",
       "\n",
       "[5 rows x 122 columns]"
      ]
     },
     "execution_count": 2,
     "metadata": {},
     "output_type": "execute_result"
    }
   ],
   "source": [
    "import numpy as np\n",
    "import pandas as pd\n",
    "import matplotlib.pyplot as plt\n",
    "import seaborn as sns\n",
    "\n",
    "df = pd.read_csv(\"application_data.csv\")\n",
    "df.head()"
   ]
  },
  {
   "cell_type": "code",
   "execution_count": 3,
   "metadata": {},
   "outputs": [
    {
     "name": "stdout",
     "output_type": "stream",
     "text": [
      "(307511, 122)\n",
      "<class 'pandas.core.frame.DataFrame'>\n",
      "RangeIndex: 307511 entries, 0 to 307510\n",
      "Columns: 122 entries, SK_ID_CURR to AMT_REQ_CREDIT_BUREAU_YEAR\n",
      "dtypes: float64(65), int64(41), object(16)\n",
      "memory usage: 286.2+ MB\n",
      "None\n"
     ]
    }
   ],
   "source": [
    "# approximately 307511 rows and 122 columns\n",
    "print(df.shape)\n",
    "print(df.info())"
   ]
  },
  {
   "cell_type": "code",
   "execution_count": 4,
   "metadata": {},
   "outputs": [
    {
     "data": {
      "text/plain": [
       "SK_ID_CURR                         0\n",
       "TARGET                             0\n",
       "NAME_CONTRACT_TYPE                 0\n",
       "CODE_GENDER                        0\n",
       "FLAG_OWN_CAR                       0\n",
       "FLAG_OWN_REALTY                    0\n",
       "CNT_CHILDREN                       0\n",
       "AMT_INCOME_TOTAL                   0\n",
       "AMT_CREDIT                         0\n",
       "AMT_ANNUITY                       12\n",
       "AMT_GOODS_PRICE                  278\n",
       "NAME_TYPE_SUITE                 1292\n",
       "NAME_INCOME_TYPE                   0\n",
       "NAME_EDUCATION_TYPE                0\n",
       "NAME_FAMILY_STATUS                 0\n",
       "NAME_HOUSING_TYPE                  0\n",
       "REGION_POPULATION_RELATIVE         0\n",
       "DAYS_BIRTH                         0\n",
       "DAYS_EMPLOYED                      0\n",
       "DAYS_REGISTRATION                  0\n",
       "DAYS_ID_PUBLISH                    0\n",
       "OWN_CAR_AGE                   202929\n",
       "FLAG_MOBIL                         0\n",
       "FLAG_EMP_PHONE                     0\n",
       "FLAG_WORK_PHONE                    0\n",
       "FLAG_CONT_MOBILE                   0\n",
       "FLAG_PHONE                         0\n",
       "FLAG_EMAIL                         0\n",
       "OCCUPATION_TYPE                96391\n",
       "CNT_FAM_MEMBERS                    2\n",
       "                               ...  \n",
       "DEF_30_CNT_SOCIAL_CIRCLE        1021\n",
       "OBS_60_CNT_SOCIAL_CIRCLE        1021\n",
       "DEF_60_CNT_SOCIAL_CIRCLE        1021\n",
       "DAYS_LAST_PHONE_CHANGE             1\n",
       "FLAG_DOCUMENT_2                    0\n",
       "FLAG_DOCUMENT_3                    0\n",
       "FLAG_DOCUMENT_4                    0\n",
       "FLAG_DOCUMENT_5                    0\n",
       "FLAG_DOCUMENT_6                    0\n",
       "FLAG_DOCUMENT_7                    0\n",
       "FLAG_DOCUMENT_8                    0\n",
       "FLAG_DOCUMENT_9                    0\n",
       "FLAG_DOCUMENT_10                   0\n",
       "FLAG_DOCUMENT_11                   0\n",
       "FLAG_DOCUMENT_12                   0\n",
       "FLAG_DOCUMENT_13                   0\n",
       "FLAG_DOCUMENT_14                   0\n",
       "FLAG_DOCUMENT_15                   0\n",
       "FLAG_DOCUMENT_16                   0\n",
       "FLAG_DOCUMENT_17                   0\n",
       "FLAG_DOCUMENT_18                   0\n",
       "FLAG_DOCUMENT_19                   0\n",
       "FLAG_DOCUMENT_20                   0\n",
       "FLAG_DOCUMENT_21                   0\n",
       "AMT_REQ_CREDIT_BUREAU_HOUR     41519\n",
       "AMT_REQ_CREDIT_BUREAU_DAY      41519\n",
       "AMT_REQ_CREDIT_BUREAU_WEEK     41519\n",
       "AMT_REQ_CREDIT_BUREAU_MON      41519\n",
       "AMT_REQ_CREDIT_BUREAU_QRT      41519\n",
       "AMT_REQ_CREDIT_BUREAU_YEAR     41519\n",
       "Length: 122, dtype: int64"
      ]
     },
     "execution_count": 4,
     "metadata": {},
     "output_type": "execute_result"
    }
   ],
   "source": [
    "# summing up the missing values (column-wise)\n",
    "df.isnull().sum()"
   ]
  },
  {
   "cell_type": "code",
   "execution_count": 5,
   "metadata": {},
   "outputs": [
    {
     "data": {
      "text/plain": [
       "SK_ID_CURR                    False\n",
       "TARGET                        False\n",
       "NAME_CONTRACT_TYPE            False\n",
       "CODE_GENDER                   False\n",
       "FLAG_OWN_CAR                  False\n",
       "FLAG_OWN_REALTY               False\n",
       "CNT_CHILDREN                  False\n",
       "AMT_INCOME_TOTAL              False\n",
       "AMT_CREDIT                    False\n",
       "AMT_ANNUITY                    True\n",
       "AMT_GOODS_PRICE                True\n",
       "NAME_TYPE_SUITE                True\n",
       "NAME_INCOME_TYPE              False\n",
       "NAME_EDUCATION_TYPE           False\n",
       "NAME_FAMILY_STATUS            False\n",
       "NAME_HOUSING_TYPE             False\n",
       "REGION_POPULATION_RELATIVE    False\n",
       "DAYS_BIRTH                    False\n",
       "DAYS_EMPLOYED                 False\n",
       "DAYS_REGISTRATION             False\n",
       "DAYS_ID_PUBLISH               False\n",
       "OWN_CAR_AGE                    True\n",
       "FLAG_MOBIL                    False\n",
       "FLAG_EMP_PHONE                False\n",
       "FLAG_WORK_PHONE               False\n",
       "FLAG_CONT_MOBILE              False\n",
       "FLAG_PHONE                    False\n",
       "FLAG_EMAIL                    False\n",
       "OCCUPATION_TYPE                True\n",
       "CNT_FAM_MEMBERS                True\n",
       "                              ...  \n",
       "DEF_30_CNT_SOCIAL_CIRCLE       True\n",
       "OBS_60_CNT_SOCIAL_CIRCLE       True\n",
       "DEF_60_CNT_SOCIAL_CIRCLE       True\n",
       "DAYS_LAST_PHONE_CHANGE         True\n",
       "FLAG_DOCUMENT_2               False\n",
       "FLAG_DOCUMENT_3               False\n",
       "FLAG_DOCUMENT_4               False\n",
       "FLAG_DOCUMENT_5               False\n",
       "FLAG_DOCUMENT_6               False\n",
       "FLAG_DOCUMENT_7               False\n",
       "FLAG_DOCUMENT_8               False\n",
       "FLAG_DOCUMENT_9               False\n",
       "FLAG_DOCUMENT_10              False\n",
       "FLAG_DOCUMENT_11              False\n",
       "FLAG_DOCUMENT_12              False\n",
       "FLAG_DOCUMENT_13              False\n",
       "FLAG_DOCUMENT_14              False\n",
       "FLAG_DOCUMENT_15              False\n",
       "FLAG_DOCUMENT_16              False\n",
       "FLAG_DOCUMENT_17              False\n",
       "FLAG_DOCUMENT_18              False\n",
       "FLAG_DOCUMENT_19              False\n",
       "FLAG_DOCUMENT_20              False\n",
       "FLAG_DOCUMENT_21              False\n",
       "AMT_REQ_CREDIT_BUREAU_HOUR     True\n",
       "AMT_REQ_CREDIT_BUREAU_DAY      True\n",
       "AMT_REQ_CREDIT_BUREAU_WEEK     True\n",
       "AMT_REQ_CREDIT_BUREAU_MON      True\n",
       "AMT_REQ_CREDIT_BUREAU_QRT      True\n",
       "AMT_REQ_CREDIT_BUREAU_YEAR     True\n",
       "Length: 122, dtype: bool"
      ]
     },
     "execution_count": 5,
     "metadata": {},
     "output_type": "execute_result"
    }
   ],
   "source": [
    "# columns having at least one missing value\n",
    "df.isnull().any()\n",
    "\n",
    "# above is equivalent to axis=0 (by default, any() operates on columns)\n",
    "df.isnull().any(axis=0)"
   ]
  },
  {
   "cell_type": "code",
   "execution_count": 6,
   "metadata": {},
   "outputs": [
    {
     "data": {
      "text/plain": [
       "0          True\n",
       "1          True\n",
       "2          True\n",
       "3          True\n",
       "4          True\n",
       "5          True\n",
       "6          True\n",
       "7          True\n",
       "8          True\n",
       "9          True\n",
       "10         True\n",
       "11         True\n",
       "12         True\n",
       "13         True\n",
       "14         True\n",
       "15         True\n",
       "16         True\n",
       "17         True\n",
       "18         True\n",
       "19         True\n",
       "20         True\n",
       "21         True\n",
       "22         True\n",
       "23         True\n",
       "24         True\n",
       "25         True\n",
       "26         True\n",
       "27         True\n",
       "28         True\n",
       "29         True\n",
       "          ...  \n",
       "307481     True\n",
       "307482    False\n",
       "307483     True\n",
       "307484     True\n",
       "307485     True\n",
       "307486     True\n",
       "307487     True\n",
       "307488     True\n",
       "307489     True\n",
       "307490     True\n",
       "307491     True\n",
       "307492     True\n",
       "307493     True\n",
       "307494     True\n",
       "307495     True\n",
       "307496     True\n",
       "307497     True\n",
       "307498     True\n",
       "307499     True\n",
       "307500     True\n",
       "307501     True\n",
       "307502     True\n",
       "307503     True\n",
       "307504     True\n",
       "307505     True\n",
       "307506     True\n",
       "307507     True\n",
       "307508     True\n",
       "307509     True\n",
       "307510     True\n",
       "Length: 307511, dtype: bool"
      ]
     },
     "execution_count": 6,
     "metadata": {},
     "output_type": "execute_result"
    }
   ],
   "source": [
    "# rows having at least one missing value\n",
    "df.isnull().any(axis=1)"
   ]
  },
  {
   "cell_type": "code",
   "execution_count": 7,
   "metadata": {},
   "outputs": [
    {
     "data": {
      "text/plain": [
       "0         False\n",
       "1         False\n",
       "2         False\n",
       "3         False\n",
       "4         False\n",
       "5         False\n",
       "6         False\n",
       "7         False\n",
       "8         False\n",
       "9         False\n",
       "10        False\n",
       "11        False\n",
       "12        False\n",
       "13        False\n",
       "14        False\n",
       "15        False\n",
       "16        False\n",
       "17        False\n",
       "18        False\n",
       "19        False\n",
       "20        False\n",
       "21        False\n",
       "22        False\n",
       "23        False\n",
       "24        False\n",
       "25        False\n",
       "26        False\n",
       "27        False\n",
       "28        False\n",
       "29        False\n",
       "          ...  \n",
       "307481    False\n",
       "307482    False\n",
       "307483    False\n",
       "307484    False\n",
       "307485    False\n",
       "307486    False\n",
       "307487    False\n",
       "307488    False\n",
       "307489    False\n",
       "307490    False\n",
       "307491    False\n",
       "307492    False\n",
       "307493    False\n",
       "307494    False\n",
       "307495    False\n",
       "307496    False\n",
       "307497    False\n",
       "307498    False\n",
       "307499    False\n",
       "307500    False\n",
       "307501    False\n",
       "307502    False\n",
       "307503    False\n",
       "307504    False\n",
       "307505    False\n",
       "307506    False\n",
       "307507    False\n",
       "307508    False\n",
       "307509    False\n",
       "307510    False\n",
       "Length: 307511, dtype: bool"
      ]
     },
     "execution_count": 7,
     "metadata": {},
     "output_type": "execute_result"
    }
   ],
   "source": [
    "# rows having all missing values\n",
    "df.isnull().all(axis=1)"
   ]
  },
  {
   "cell_type": "code",
   "execution_count": 8,
   "metadata": {},
   "outputs": [
    {
     "data": {
      "text/plain": [
       "0"
      ]
     },
     "execution_count": 8,
     "metadata": {},
     "output_type": "execute_result"
    }
   ],
   "source": [
    "# sum it up to check how many rows have all missing values\n",
    "df.isnull().all(axis=1).sum()"
   ]
  },
  {
   "cell_type": "markdown",
   "metadata": {},
   "source": [
    "Thus, there are no rows having all missing values (we'd remove them if there were any).\n",
    "Often, you may also want to remove the rows having more than a certain threshold number of missing values. To do that, you need to count the number of missing values in each row using sum()."
   ]
  },
  {
   "cell_type": "code",
   "execution_count": 9,
   "metadata": {},
   "outputs": [
    {
     "data": {
      "text/plain": [
       "0          1\n",
       "1          2\n",
       "2         48\n",
       "3         56\n",
       "4         50\n",
       "5         49\n",
       "6         47\n",
       "7         48\n",
       "8         49\n",
       "9         56\n",
       "10        48\n",
       "11        49\n",
       "12        20\n",
       "13         1\n",
       "14         8\n",
       "15        47\n",
       "16        49\n",
       "17        56\n",
       "18         2\n",
       "19        49\n",
       "20        10\n",
       "21        47\n",
       "22         2\n",
       "23         3\n",
       "24         1\n",
       "25         1\n",
       "26        18\n",
       "27        49\n",
       "28        48\n",
       "29         8\n",
       "          ..\n",
       "307481    49\n",
       "307482     0\n",
       "307483     3\n",
       "307484    55\n",
       "307485    48\n",
       "307486    21\n",
       "307487    50\n",
       "307488    40\n",
       "307489     2\n",
       "307490    48\n",
       "307491    47\n",
       "307492    48\n",
       "307493    49\n",
       "307494    47\n",
       "307495    13\n",
       "307496    48\n",
       "307497    47\n",
       "307498    11\n",
       "307499    48\n",
       "307500    24\n",
       "307501    25\n",
       "307502    49\n",
       "307503    48\n",
       "307504    56\n",
       "307505     3\n",
       "307506     8\n",
       "307507    10\n",
       "307508     4\n",
       "307509    30\n",
       "307510    17\n",
       "Length: 307511, dtype: int64"
      ]
     },
     "execution_count": 9,
     "metadata": {},
     "output_type": "execute_result"
    }
   ],
   "source": [
    "# sum of misisng values in each row\n",
    "df.isnull().sum(axis=1)"
   ]
  },
  {
   "cell_type": "markdown",
   "metadata": {},
   "source": [
    "We have now identified:\n",
    "- The number of missing values in columns\n",
    "- The number of missing values in rows\n",
    "\n",
    "Let's now move ahead and treat the missing values."
   ]
  },
  {
   "cell_type": "markdown",
   "metadata": {},
   "source": [
    "#### Treating Missing Values"
   ]
  },
  {
   "cell_type": "code",
   "execution_count": 11,
   "metadata": {},
   "outputs": [
    {
     "data": {
      "text/plain": [
       "SK_ID_CURR                     0.00\n",
       "TARGET                         0.00\n",
       "NAME_CONTRACT_TYPE             0.00\n",
       "CODE_GENDER                    0.00\n",
       "FLAG_OWN_CAR                   0.00\n",
       "FLAG_OWN_REALTY                0.00\n",
       "CNT_CHILDREN                   0.00\n",
       "AMT_INCOME_TOTAL               0.00\n",
       "AMT_CREDIT                     0.00\n",
       "AMT_ANNUITY                    0.00\n",
       "AMT_GOODS_PRICE                0.09\n",
       "NAME_TYPE_SUITE                0.42\n",
       "NAME_INCOME_TYPE               0.00\n",
       "NAME_EDUCATION_TYPE            0.00\n",
       "NAME_FAMILY_STATUS             0.00\n",
       "NAME_HOUSING_TYPE              0.00\n",
       "REGION_POPULATION_RELATIVE     0.00\n",
       "DAYS_BIRTH                     0.00\n",
       "DAYS_EMPLOYED                  0.00\n",
       "DAYS_REGISTRATION              0.00\n",
       "DAYS_ID_PUBLISH                0.00\n",
       "OWN_CAR_AGE                   65.99\n",
       "FLAG_MOBIL                     0.00\n",
       "FLAG_EMP_PHONE                 0.00\n",
       "FLAG_WORK_PHONE                0.00\n",
       "FLAG_CONT_MOBILE               0.00\n",
       "FLAG_PHONE                     0.00\n",
       "FLAG_EMAIL                     0.00\n",
       "OCCUPATION_TYPE               31.35\n",
       "CNT_FAM_MEMBERS                0.00\n",
       "                              ...  \n",
       "DEF_30_CNT_SOCIAL_CIRCLE       0.33\n",
       "OBS_60_CNT_SOCIAL_CIRCLE       0.33\n",
       "DEF_60_CNT_SOCIAL_CIRCLE       0.33\n",
       "DAYS_LAST_PHONE_CHANGE         0.00\n",
       "FLAG_DOCUMENT_2                0.00\n",
       "FLAG_DOCUMENT_3                0.00\n",
       "FLAG_DOCUMENT_4                0.00\n",
       "FLAG_DOCUMENT_5                0.00\n",
       "FLAG_DOCUMENT_6                0.00\n",
       "FLAG_DOCUMENT_7                0.00\n",
       "FLAG_DOCUMENT_8                0.00\n",
       "FLAG_DOCUMENT_9                0.00\n",
       "FLAG_DOCUMENT_10               0.00\n",
       "FLAG_DOCUMENT_11               0.00\n",
       "FLAG_DOCUMENT_12               0.00\n",
       "FLAG_DOCUMENT_13               0.00\n",
       "FLAG_DOCUMENT_14               0.00\n",
       "FLAG_DOCUMENT_15               0.00\n",
       "FLAG_DOCUMENT_16               0.00\n",
       "FLAG_DOCUMENT_17               0.00\n",
       "FLAG_DOCUMENT_18               0.00\n",
       "FLAG_DOCUMENT_19               0.00\n",
       "FLAG_DOCUMENT_20               0.00\n",
       "FLAG_DOCUMENT_21               0.00\n",
       "AMT_REQ_CREDIT_BUREAU_HOUR    13.50\n",
       "AMT_REQ_CREDIT_BUREAU_DAY     13.50\n",
       "AMT_REQ_CREDIT_BUREAU_WEEK    13.50\n",
       "AMT_REQ_CREDIT_BUREAU_MON     13.50\n",
       "AMT_REQ_CREDIT_BUREAU_QRT     13.50\n",
       "AMT_REQ_CREDIT_BUREAU_YEAR    13.50\n",
       "Length: 122, dtype: float64"
      ]
     },
     "execution_count": 11,
     "metadata": {},
     "output_type": "execute_result"
    }
   ],
   "source": [
    "# summing up the missing values (column-wise)\n",
    "round(100*(df.isnull().sum()/len(df.index)), 2)"
   ]
  },
  {
   "cell_type": "code",
   "execution_count": 12,
   "metadata": {},
   "outputs": [
    {
     "data": {
      "text/plain": [
       "SK_ID_CURR                     0.00\n",
       "TARGET                         0.00\n",
       "NAME_CONTRACT_TYPE             0.00\n",
       "CODE_GENDER                    0.00\n",
       "FLAG_OWN_CAR                   0.00\n",
       "FLAG_OWN_REALTY                0.00\n",
       "CNT_CHILDREN                   0.00\n",
       "AMT_INCOME_TOTAL               0.00\n",
       "AMT_CREDIT                     0.00\n",
       "AMT_ANNUITY                    0.00\n",
       "AMT_GOODS_PRICE                0.09\n",
       "NAME_TYPE_SUITE                0.42\n",
       "NAME_INCOME_TYPE               0.00\n",
       "NAME_EDUCATION_TYPE            0.00\n",
       "NAME_FAMILY_STATUS             0.00\n",
       "NAME_HOUSING_TYPE              0.00\n",
       "REGION_POPULATION_RELATIVE     0.00\n",
       "DAYS_BIRTH                     0.00\n",
       "DAYS_EMPLOYED                  0.00\n",
       "DAYS_REGISTRATION              0.00\n",
       "DAYS_ID_PUBLISH                0.00\n",
       "FLAG_MOBIL                     0.00\n",
       "FLAG_EMP_PHONE                 0.00\n",
       "FLAG_WORK_PHONE                0.00\n",
       "FLAG_CONT_MOBILE               0.00\n",
       "FLAG_PHONE                     0.00\n",
       "FLAG_EMAIL                     0.00\n",
       "OCCUPATION_TYPE               31.35\n",
       "CNT_FAM_MEMBERS                0.00\n",
       "REGION_RATING_CLIENT           0.00\n",
       "                              ...  \n",
       "DEF_30_CNT_SOCIAL_CIRCLE       0.33\n",
       "OBS_60_CNT_SOCIAL_CIRCLE       0.33\n",
       "DEF_60_CNT_SOCIAL_CIRCLE       0.33\n",
       "DAYS_LAST_PHONE_CHANGE         0.00\n",
       "FLAG_DOCUMENT_2                0.00\n",
       "FLAG_DOCUMENT_3                0.00\n",
       "FLAG_DOCUMENT_4                0.00\n",
       "FLAG_DOCUMENT_5                0.00\n",
       "FLAG_DOCUMENT_6                0.00\n",
       "FLAG_DOCUMENT_7                0.00\n",
       "FLAG_DOCUMENT_8                0.00\n",
       "FLAG_DOCUMENT_9                0.00\n",
       "FLAG_DOCUMENT_10               0.00\n",
       "FLAG_DOCUMENT_11               0.00\n",
       "FLAG_DOCUMENT_12               0.00\n",
       "FLAG_DOCUMENT_13               0.00\n",
       "FLAG_DOCUMENT_14               0.00\n",
       "FLAG_DOCUMENT_15               0.00\n",
       "FLAG_DOCUMENT_16               0.00\n",
       "FLAG_DOCUMENT_17               0.00\n",
       "FLAG_DOCUMENT_18               0.00\n",
       "FLAG_DOCUMENT_19               0.00\n",
       "FLAG_DOCUMENT_20               0.00\n",
       "FLAG_DOCUMENT_21               0.00\n",
       "AMT_REQ_CREDIT_BUREAU_HOUR    13.50\n",
       "AMT_REQ_CREDIT_BUREAU_DAY     13.50\n",
       "AMT_REQ_CREDIT_BUREAU_WEEK    13.50\n",
       "AMT_REQ_CREDIT_BUREAU_MON     13.50\n",
       "AMT_REQ_CREDIT_BUREAU_QRT     13.50\n",
       "AMT_REQ_CREDIT_BUREAU_YEAR    13.50\n",
       "Length: 121, dtype: float64"
      ]
     },
     "execution_count": 12,
     "metadata": {},
     "output_type": "execute_result"
    }
   ],
   "source": [
    "# removing the three columns\n",
    "df = df.drop('OWN_CAR_AGE', axis=1)\n",
    "\n",
    "round(100*(df.isnull().sum()/len(df.index)), 2)"
   ]
  },
  {
   "cell_type": "code",
   "execution_count": 13,
   "metadata": {},
   "outputs": [
    {
     "data": {
      "text/plain": [
       "228601"
      ]
     },
     "execution_count": 13,
     "metadata": {},
     "output_type": "execute_result"
    }
   ],
   "source": [
    "# count the number of rows having > 5 missing values\n",
    "# use len(df.index)\n",
    "len(df[df.isnull().sum(axis=1) > 5].index)"
   ]
  },
  {
   "cell_type": "code",
   "execution_count": 14,
   "metadata": {},
   "outputs": [
    {
     "data": {
      "text/plain": [
       "74.33912933195886"
      ]
     },
     "execution_count": 14,
     "metadata": {},
     "output_type": "execute_result"
    }
   ],
   "source": [
    "# 228601 rows have more than 5 missing values\n",
    "# calculate the percentage\n",
    "100*(len(df[df.isnull().sum(axis=1) > 5].index) / len(df.index))"
   ]
  },
  {
   "cell_type": "code",
   "execution_count": 15,
   "metadata": {},
   "outputs": [
    {
     "data": {
      "text/plain": [
       "SK_ID_CURR                     0.00\n",
       "TARGET                         0.00\n",
       "NAME_CONTRACT_TYPE             0.00\n",
       "CODE_GENDER                    0.00\n",
       "FLAG_OWN_CAR                   0.00\n",
       "FLAG_OWN_REALTY                0.00\n",
       "CNT_CHILDREN                   0.00\n",
       "AMT_INCOME_TOTAL               0.00\n",
       "AMT_CREDIT                     0.00\n",
       "AMT_ANNUITY                    0.00\n",
       "AMT_GOODS_PRICE                0.06\n",
       "NAME_TYPE_SUITE                0.47\n",
       "NAME_INCOME_TYPE               0.00\n",
       "NAME_EDUCATION_TYPE            0.00\n",
       "NAME_FAMILY_STATUS             0.00\n",
       "NAME_HOUSING_TYPE              0.00\n",
       "REGION_POPULATION_RELATIVE     0.00\n",
       "DAYS_BIRTH                     0.00\n",
       "DAYS_EMPLOYED                  0.00\n",
       "DAYS_REGISTRATION              0.00\n",
       "DAYS_ID_PUBLISH                0.00\n",
       "FLAG_MOBIL                     0.00\n",
       "FLAG_EMP_PHONE                 0.00\n",
       "FLAG_WORK_PHONE                0.00\n",
       "FLAG_CONT_MOBILE               0.00\n",
       "FLAG_PHONE                     0.00\n",
       "FLAG_EMAIL                     0.00\n",
       "OCCUPATION_TYPE               31.16\n",
       "CNT_FAM_MEMBERS                0.00\n",
       "REGION_RATING_CLIENT           0.00\n",
       "                              ...  \n",
       "DEF_30_CNT_SOCIAL_CIRCLE       0.27\n",
       "OBS_60_CNT_SOCIAL_CIRCLE       0.27\n",
       "DEF_60_CNT_SOCIAL_CIRCLE       0.27\n",
       "DAYS_LAST_PHONE_CHANGE         0.00\n",
       "FLAG_DOCUMENT_2                0.00\n",
       "FLAG_DOCUMENT_3                0.00\n",
       "FLAG_DOCUMENT_4                0.00\n",
       "FLAG_DOCUMENT_5                0.00\n",
       "FLAG_DOCUMENT_6                0.00\n",
       "FLAG_DOCUMENT_7                0.00\n",
       "FLAG_DOCUMENT_8                0.00\n",
       "FLAG_DOCUMENT_9                0.00\n",
       "FLAG_DOCUMENT_10               0.00\n",
       "FLAG_DOCUMENT_11               0.00\n",
       "FLAG_DOCUMENT_12               0.00\n",
       "FLAG_DOCUMENT_13               0.00\n",
       "FLAG_DOCUMENT_14               0.00\n",
       "FLAG_DOCUMENT_15               0.00\n",
       "FLAG_DOCUMENT_16               0.00\n",
       "FLAG_DOCUMENT_17               0.00\n",
       "FLAG_DOCUMENT_18               0.00\n",
       "FLAG_DOCUMENT_19               0.00\n",
       "FLAG_DOCUMENT_20               0.00\n",
       "FLAG_DOCUMENT_21               0.00\n",
       "AMT_REQ_CREDIT_BUREAU_HOUR     0.00\n",
       "AMT_REQ_CREDIT_BUREAU_DAY      0.00\n",
       "AMT_REQ_CREDIT_BUREAU_WEEK     0.00\n",
       "AMT_REQ_CREDIT_BUREAU_MON      0.00\n",
       "AMT_REQ_CREDIT_BUREAU_QRT      0.00\n",
       "AMT_REQ_CREDIT_BUREAU_YEAR     0.00\n",
       "Length: 121, dtype: float64"
      ]
     },
     "execution_count": 15,
     "metadata": {},
     "output_type": "execute_result"
    }
   ],
   "source": [
    "# retaining the rows having <= 5 NaNs\n",
    "df = df[df.isnull().sum(axis=1) <= 5]\n",
    "\n",
    "# look at the summary again\n",
    "round(100*(df.isnull().sum()/len(df.index)), 2)"
   ]
  },
  {
   "cell_type": "code",
   "execution_count": 16,
   "metadata": {},
   "outputs": [
    {
     "data": {
      "text/plain": [
       "SK_ID_CURR                     0.00\n",
       "TARGET                         0.00\n",
       "NAME_CONTRACT_TYPE             0.00\n",
       "CODE_GENDER                    0.00\n",
       "FLAG_OWN_CAR                   0.00\n",
       "FLAG_OWN_REALTY                0.00\n",
       "CNT_CHILDREN                   0.00\n",
       "AMT_INCOME_TOTAL               0.00\n",
       "AMT_CREDIT                     0.00\n",
       "AMT_ANNUITY                    0.00\n",
       "AMT_GOODS_PRICE                0.06\n",
       "NAME_TYPE_SUITE                0.47\n",
       "NAME_INCOME_TYPE               0.00\n",
       "NAME_EDUCATION_TYPE            0.00\n",
       "NAME_FAMILY_STATUS             0.00\n",
       "NAME_HOUSING_TYPE              0.00\n",
       "REGION_POPULATION_RELATIVE     0.00\n",
       "DAYS_BIRTH                     0.00\n",
       "DAYS_EMPLOYED                  0.00\n",
       "DAYS_REGISTRATION              0.00\n",
       "DAYS_ID_PUBLISH                0.00\n",
       "FLAG_MOBIL                     0.00\n",
       "FLAG_EMP_PHONE                 0.00\n",
       "FLAG_WORK_PHONE                0.00\n",
       "FLAG_CONT_MOBILE               0.00\n",
       "FLAG_PHONE                     0.00\n",
       "FLAG_EMAIL                     0.00\n",
       "OCCUPATION_TYPE               31.16\n",
       "CNT_FAM_MEMBERS                0.00\n",
       "REGION_RATING_CLIENT           0.00\n",
       "                              ...  \n",
       "DEF_30_CNT_SOCIAL_CIRCLE       0.27\n",
       "OBS_60_CNT_SOCIAL_CIRCLE       0.27\n",
       "DEF_60_CNT_SOCIAL_CIRCLE       0.27\n",
       "DAYS_LAST_PHONE_CHANGE         0.00\n",
       "FLAG_DOCUMENT_2                0.00\n",
       "FLAG_DOCUMENT_3                0.00\n",
       "FLAG_DOCUMENT_4                0.00\n",
       "FLAG_DOCUMENT_5                0.00\n",
       "FLAG_DOCUMENT_6                0.00\n",
       "FLAG_DOCUMENT_7                0.00\n",
       "FLAG_DOCUMENT_8                0.00\n",
       "FLAG_DOCUMENT_9                0.00\n",
       "FLAG_DOCUMENT_10               0.00\n",
       "FLAG_DOCUMENT_11               0.00\n",
       "FLAG_DOCUMENT_12               0.00\n",
       "FLAG_DOCUMENT_13               0.00\n",
       "FLAG_DOCUMENT_14               0.00\n",
       "FLAG_DOCUMENT_15               0.00\n",
       "FLAG_DOCUMENT_16               0.00\n",
       "FLAG_DOCUMENT_17               0.00\n",
       "FLAG_DOCUMENT_18               0.00\n",
       "FLAG_DOCUMENT_19               0.00\n",
       "FLAG_DOCUMENT_20               0.00\n",
       "FLAG_DOCUMENT_21               0.00\n",
       "AMT_REQ_CREDIT_BUREAU_HOUR     0.00\n",
       "AMT_REQ_CREDIT_BUREAU_DAY      0.00\n",
       "AMT_REQ_CREDIT_BUREAU_WEEK     0.00\n",
       "AMT_REQ_CREDIT_BUREAU_MON      0.00\n",
       "AMT_REQ_CREDIT_BUREAU_QRT      0.00\n",
       "AMT_REQ_CREDIT_BUREAU_YEAR     0.00\n",
       "Length: 121, dtype: float64"
      ]
     },
     "execution_count": 16,
     "metadata": {},
     "output_type": "execute_result"
    }
   ],
   "source": [
    "round(100*(df.isnull().sum()/len(df.index)), 2)"
   ]
  },
  {
   "cell_type": "code",
   "execution_count": 17,
   "metadata": {},
   "outputs": [
    {
     "data": {
      "text/plain": [
       "count        54321\n",
       "unique          18\n",
       "top       Laborers\n",
       "freq         13646\n",
       "Name: OCCUPATION_TYPE, dtype: object"
      ]
     },
     "execution_count": 17,
     "metadata": {},
     "output_type": "execute_result"
    }
   ],
   "source": [
    "df['OCCUPATION_TYPE'].describe()"
   ]
  },
  {
   "cell_type": "markdown",
   "metadata": {},
   "source": [
    "No need to remove or do anything here to Occupation type as it user input data and is a dimension, not a measure"
   ]
  },
  {
   "cell_type": "code",
   "execution_count": 21,
   "metadata": {},
   "outputs": [
    {
     "data": {
      "text/html": [
       "<div>\n",
       "<style scoped>\n",
       "    .dataframe tbody tr th:only-of-type {\n",
       "        vertical-align: middle;\n",
       "    }\n",
       "\n",
       "    .dataframe tbody tr th {\n",
       "        vertical-align: top;\n",
       "    }\n",
       "\n",
       "    .dataframe thead th {\n",
       "        text-align: right;\n",
       "    }\n",
       "</style>\n",
       "<table border=\"1\" class=\"dataframe\">\n",
       "  <thead>\n",
       "    <tr style=\"text-align: right;\">\n",
       "      <th></th>\n",
       "      <th>SK_ID_CURR</th>\n",
       "      <th>TARGET</th>\n",
       "      <th>CNT_CHILDREN</th>\n",
       "      <th>AMT_INCOME_TOTAL</th>\n",
       "      <th>AMT_CREDIT</th>\n",
       "      <th>AMT_ANNUITY</th>\n",
       "      <th>AMT_GOODS_PRICE</th>\n",
       "      <th>REGION_POPULATION_RELATIVE</th>\n",
       "      <th>DAYS_BIRTH</th>\n",
       "      <th>DAYS_EMPLOYED</th>\n",
       "      <th>...</th>\n",
       "      <th>FLAG_DOCUMENT_18</th>\n",
       "      <th>FLAG_DOCUMENT_19</th>\n",
       "      <th>FLAG_DOCUMENT_20</th>\n",
       "      <th>FLAG_DOCUMENT_21</th>\n",
       "      <th>AMT_REQ_CREDIT_BUREAU_HOUR</th>\n",
       "      <th>AMT_REQ_CREDIT_BUREAU_DAY</th>\n",
       "      <th>AMT_REQ_CREDIT_BUREAU_WEEK</th>\n",
       "      <th>AMT_REQ_CREDIT_BUREAU_MON</th>\n",
       "      <th>AMT_REQ_CREDIT_BUREAU_QRT</th>\n",
       "      <th>AMT_REQ_CREDIT_BUREAU_YEAR</th>\n",
       "    </tr>\n",
       "  </thead>\n",
       "  <tbody>\n",
       "    <tr>\n",
       "      <th>count</th>\n",
       "      <td>73647.000000</td>\n",
       "      <td>73647.0</td>\n",
       "      <td>73647.000000</td>\n",
       "      <td>7.364700e+04</td>\n",
       "      <td>7.364700e+04</td>\n",
       "      <td>73645.000000</td>\n",
       "      <td>7.359900e+04</td>\n",
       "      <td>73647.000000</td>\n",
       "      <td>73647.000000</td>\n",
       "      <td>73647.000000</td>\n",
       "      <td>...</td>\n",
       "      <td>73647.000000</td>\n",
       "      <td>73647.000000</td>\n",
       "      <td>73647.000000</td>\n",
       "      <td>73647.000000</td>\n",
       "      <td>73647.000000</td>\n",
       "      <td>73647.000000</td>\n",
       "      <td>73647.000000</td>\n",
       "      <td>73647.000000</td>\n",
       "      <td>73647.000000</td>\n",
       "      <td>73647.000000</td>\n",
       "    </tr>\n",
       "    <tr>\n",
       "      <th>mean</th>\n",
       "      <td>278130.025609</td>\n",
       "      <td>0.0</td>\n",
       "      <td>0.394178</td>\n",
       "      <td>1.849643e+05</td>\n",
       "      <td>6.377995e+05</td>\n",
       "      <td>28397.062441</td>\n",
       "      <td>5.737312e+05</td>\n",
       "      <td>0.023430</td>\n",
       "      <td>-16287.223200</td>\n",
       "      <td>63074.836653</td>\n",
       "      <td>...</td>\n",
       "      <td>0.009708</td>\n",
       "      <td>0.000652</td>\n",
       "      <td>0.000842</td>\n",
       "      <td>0.000353</td>\n",
       "      <td>0.006694</td>\n",
       "      <td>0.007916</td>\n",
       "      <td>0.034801</td>\n",
       "      <td>0.304928</td>\n",
       "      <td>0.266284</td>\n",
       "      <td>1.882643</td>\n",
       "    </tr>\n",
       "    <tr>\n",
       "      <th>std</th>\n",
       "      <td>102946.227192</td>\n",
       "      <td>0.0</td>\n",
       "      <td>0.681348</td>\n",
       "      <td>1.093683e+05</td>\n",
       "      <td>4.314048e+05</td>\n",
       "      <td>15335.642402</td>\n",
       "      <td>3.960360e+05</td>\n",
       "      <td>0.016561</td>\n",
       "      <td>4316.105725</td>\n",
       "      <td>140851.673358</td>\n",
       "      <td>...</td>\n",
       "      <td>0.098053</td>\n",
       "      <td>0.025521</td>\n",
       "      <td>0.029003</td>\n",
       "      <td>0.018786</td>\n",
       "      <td>0.086238</td>\n",
       "      <td>0.124982</td>\n",
       "      <td>0.205358</td>\n",
       "      <td>1.000266</td>\n",
       "      <td>0.612923</td>\n",
       "      <td>1.877768</td>\n",
       "    </tr>\n",
       "    <tr>\n",
       "      <th>min</th>\n",
       "      <td>100003.000000</td>\n",
       "      <td>0.0</td>\n",
       "      <td>0.000000</td>\n",
       "      <td>2.700000e+04</td>\n",
       "      <td>4.500000e+04</td>\n",
       "      <td>2317.500000</td>\n",
       "      <td>4.500000e+04</td>\n",
       "      <td>0.000290</td>\n",
       "      <td>-25192.000000</td>\n",
       "      <td>-17912.000000</td>\n",
       "      <td>...</td>\n",
       "      <td>0.000000</td>\n",
       "      <td>0.000000</td>\n",
       "      <td>0.000000</td>\n",
       "      <td>0.000000</td>\n",
       "      <td>0.000000</td>\n",
       "      <td>0.000000</td>\n",
       "      <td>0.000000</td>\n",
       "      <td>0.000000</td>\n",
       "      <td>0.000000</td>\n",
       "      <td>0.000000</td>\n",
       "    </tr>\n",
       "    <tr>\n",
       "      <th>25%</th>\n",
       "      <td>188687.000000</td>\n",
       "      <td>0.0</td>\n",
       "      <td>0.000000</td>\n",
       "      <td>1.125000e+05</td>\n",
       "      <td>2.835855e+05</td>\n",
       "      <td>16992.000000</td>\n",
       "      <td>2.475000e+05</td>\n",
       "      <td>0.010500</td>\n",
       "      <td>-19892.000000</td>\n",
       "      <td>-2989.000000</td>\n",
       "      <td>...</td>\n",
       "      <td>0.000000</td>\n",
       "      <td>0.000000</td>\n",
       "      <td>0.000000</td>\n",
       "      <td>0.000000</td>\n",
       "      <td>0.000000</td>\n",
       "      <td>0.000000</td>\n",
       "      <td>0.000000</td>\n",
       "      <td>0.000000</td>\n",
       "      <td>0.000000</td>\n",
       "      <td>0.000000</td>\n",
       "    </tr>\n",
       "    <tr>\n",
       "      <th>50%</th>\n",
       "      <td>278193.000000</td>\n",
       "      <td>0.0</td>\n",
       "      <td>0.000000</td>\n",
       "      <td>1.575000e+05</td>\n",
       "      <td>5.387040e+05</td>\n",
       "      <td>25960.500000</td>\n",
       "      <td>4.545000e+05</td>\n",
       "      <td>0.020246</td>\n",
       "      <td>-15988.000000</td>\n",
       "      <td>-1324.000000</td>\n",
       "      <td>...</td>\n",
       "      <td>0.000000</td>\n",
       "      <td>0.000000</td>\n",
       "      <td>0.000000</td>\n",
       "      <td>0.000000</td>\n",
       "      <td>0.000000</td>\n",
       "      <td>0.000000</td>\n",
       "      <td>0.000000</td>\n",
       "      <td>0.000000</td>\n",
       "      <td>0.000000</td>\n",
       "      <td>1.000000</td>\n",
       "    </tr>\n",
       "    <tr>\n",
       "      <th>75%</th>\n",
       "      <td>367568.500000</td>\n",
       "      <td>0.0</td>\n",
       "      <td>1.000000</td>\n",
       "      <td>2.250000e+05</td>\n",
       "      <td>8.794800e+05</td>\n",
       "      <td>36459.000000</td>\n",
       "      <td>7.470000e+05</td>\n",
       "      <td>0.030755</td>\n",
       "      <td>-12752.000000</td>\n",
       "      <td>-309.000000</td>\n",
       "      <td>...</td>\n",
       "      <td>0.000000</td>\n",
       "      <td>0.000000</td>\n",
       "      <td>0.000000</td>\n",
       "      <td>0.000000</td>\n",
       "      <td>0.000000</td>\n",
       "      <td>0.000000</td>\n",
       "      <td>0.000000</td>\n",
       "      <td>0.000000</td>\n",
       "      <td>0.000000</td>\n",
       "      <td>3.000000</td>\n",
       "    </tr>\n",
       "    <tr>\n",
       "      <th>max</th>\n",
       "      <td>456253.000000</td>\n",
       "      <td>0.0</td>\n",
       "      <td>19.000000</td>\n",
       "      <td>4.500000e+06</td>\n",
       "      <td>4.050000e+06</td>\n",
       "      <td>225000.000000</td>\n",
       "      <td>4.050000e+06</td>\n",
       "      <td>0.072508</td>\n",
       "      <td>-7680.000000</td>\n",
       "      <td>365243.000000</td>\n",
       "      <td>...</td>\n",
       "      <td>1.000000</td>\n",
       "      <td>1.000000</td>\n",
       "      <td>1.000000</td>\n",
       "      <td>1.000000</td>\n",
       "      <td>3.000000</td>\n",
       "      <td>9.000000</td>\n",
       "      <td>8.000000</td>\n",
       "      <td>24.000000</td>\n",
       "      <td>8.000000</td>\n",
       "      <td>19.000000</td>\n",
       "    </tr>\n",
       "  </tbody>\n",
       "</table>\n",
       "<p>8 rows × 105 columns</p>\n",
       "</div>"
      ],
      "text/plain": [
       "          SK_ID_CURR   TARGET  CNT_CHILDREN  AMT_INCOME_TOTAL    AMT_CREDIT  \\\n",
       "count   73647.000000  73647.0  73647.000000      7.364700e+04  7.364700e+04   \n",
       "mean   278130.025609      0.0      0.394178      1.849643e+05  6.377995e+05   \n",
       "std    102946.227192      0.0      0.681348      1.093683e+05  4.314048e+05   \n",
       "min    100003.000000      0.0      0.000000      2.700000e+04  4.500000e+04   \n",
       "25%    188687.000000      0.0      0.000000      1.125000e+05  2.835855e+05   \n",
       "50%    278193.000000      0.0      0.000000      1.575000e+05  5.387040e+05   \n",
       "75%    367568.500000      0.0      1.000000      2.250000e+05  8.794800e+05   \n",
       "max    456253.000000      0.0     19.000000      4.500000e+06  4.050000e+06   \n",
       "\n",
       "         AMT_ANNUITY  AMT_GOODS_PRICE  REGION_POPULATION_RELATIVE  \\\n",
       "count   73645.000000     7.359900e+04                73647.000000   \n",
       "mean    28397.062441     5.737312e+05                    0.023430   \n",
       "std     15335.642402     3.960360e+05                    0.016561   \n",
       "min      2317.500000     4.500000e+04                    0.000290   \n",
       "25%     16992.000000     2.475000e+05                    0.010500   \n",
       "50%     25960.500000     4.545000e+05                    0.020246   \n",
       "75%     36459.000000     7.470000e+05                    0.030755   \n",
       "max    225000.000000     4.050000e+06                    0.072508   \n",
       "\n",
       "         DAYS_BIRTH  DAYS_EMPLOYED  ...  FLAG_DOCUMENT_18  FLAG_DOCUMENT_19  \\\n",
       "count  73647.000000   73647.000000  ...      73647.000000      73647.000000   \n",
       "mean  -16287.223200   63074.836653  ...          0.009708          0.000652   \n",
       "std     4316.105725  140851.673358  ...          0.098053          0.025521   \n",
       "min   -25192.000000  -17912.000000  ...          0.000000          0.000000   \n",
       "25%   -19892.000000   -2989.000000  ...          0.000000          0.000000   \n",
       "50%   -15988.000000   -1324.000000  ...          0.000000          0.000000   \n",
       "75%   -12752.000000    -309.000000  ...          0.000000          0.000000   \n",
       "max    -7680.000000  365243.000000  ...          1.000000          1.000000   \n",
       "\n",
       "       FLAG_DOCUMENT_20  FLAG_DOCUMENT_21  AMT_REQ_CREDIT_BUREAU_HOUR  \\\n",
       "count      73647.000000      73647.000000                73647.000000   \n",
       "mean           0.000842          0.000353                    0.006694   \n",
       "std            0.029003          0.018786                    0.086238   \n",
       "min            0.000000          0.000000                    0.000000   \n",
       "25%            0.000000          0.000000                    0.000000   \n",
       "50%            0.000000          0.000000                    0.000000   \n",
       "75%            0.000000          0.000000                    0.000000   \n",
       "max            1.000000          1.000000                    3.000000   \n",
       "\n",
       "       AMT_REQ_CREDIT_BUREAU_DAY  AMT_REQ_CREDIT_BUREAU_WEEK  \\\n",
       "count               73647.000000                73647.000000   \n",
       "mean                    0.007916                    0.034801   \n",
       "std                     0.124982                    0.205358   \n",
       "min                     0.000000                    0.000000   \n",
       "25%                     0.000000                    0.000000   \n",
       "50%                     0.000000                    0.000000   \n",
       "75%                     0.000000                    0.000000   \n",
       "max                     9.000000                    8.000000   \n",
       "\n",
       "       AMT_REQ_CREDIT_BUREAU_MON  AMT_REQ_CREDIT_BUREAU_QRT  \\\n",
       "count               73647.000000               73647.000000   \n",
       "mean                    0.304928                   0.266284   \n",
       "std                     1.000266                   0.612923   \n",
       "min                     0.000000                   0.000000   \n",
       "25%                     0.000000                   0.000000   \n",
       "50%                     0.000000                   0.000000   \n",
       "75%                     0.000000                   0.000000   \n",
       "max                    24.000000                   8.000000   \n",
       "\n",
       "       AMT_REQ_CREDIT_BUREAU_YEAR  \n",
       "count                73647.000000  \n",
       "mean                     1.882643  \n",
       "std                      1.877768  \n",
       "min                      0.000000  \n",
       "25%                      0.000000  \n",
       "50%                      1.000000  \n",
       "75%                      3.000000  \n",
       "max                     19.000000  \n",
       "\n",
       "[8 rows x 105 columns]"
      ]
     },
     "execution_count": 21,
     "metadata": {},
     "output_type": "execute_result"
    }
   ],
   "source": [
    "#now lets check describe, bu before that lets filter by target\n",
    "df_0 = df[df.TARGET != 1]\n",
    "df_0.describe()"
   ]
  },
  {
   "cell_type": "code",
   "execution_count": 22,
   "metadata": {},
   "outputs": [],
   "source": [
    "# we will remove the columns having more than 30% missing values as we wouldnt be able to utilize them\n",
    "missing = df_0.columns[100*(df_0.isnull().sum()/len(df_0.index)) > 30]\n",
    "df_0 = df_0.drop(missing, axis=1)"
   ]
  },
  {
   "cell_type": "code",
   "execution_count": 23,
   "metadata": {},
   "outputs": [],
   "source": [
    "# retaining the rows having <= 50 NaNs\n",
    "df_0 = df_0[df_0.isnull().sum(axis=1) <= 50]"
   ]
  },
  {
   "cell_type": "code",
   "execution_count": 24,
   "metadata": {},
   "outputs": [
    {
     "data": {
      "image/png": "[encoded data removed]",
      "text/plain": [
       "<Figure size 360x360 with 1 Axes>"
      ]
     },
     "metadata": {},
     "output_type": "display_data"
    }
   ],
   "source": [
    "# let us check the data is balanced or imbalanced\n",
    "imbalance_percent = pd.DataFrame(df['TARGET'].value_counts(normalize=True) * 100)\n",
    "\n",
    "plot = imbalance_percent.plot.pie(y='TARGET', figsize=(5, 5), autopct='%1.1f%%')"
   ]
  },
  {
   "cell_type": "code",
   "execution_count": 25,
   "metadata": {},
   "outputs": [
    {
     "data": {
      "image/png": "[encoded data removed]",
      "text/plain": [
       "<Figure size 720x576 with 1 Axes>"
      ]
     },
     "metadata": {},
     "output_type": "display_data"
    }
   ],
   "source": [
    "# let us visualize the effect of education level on repaying the loan\n",
    "#pie chart representation\n",
    "UC1 = pd.DataFrame(df_0['NAME_EDUCATION_TYPE'].value_counts(normalize=True) * 100)\n",
    "explode = (0, 0, 0, 0.2, 0.4)\n",
    "\n",
    "plot = UC1.plot.pie(y='NAME_EDUCATION_TYPE', startangle=90, figsize=(10, 8), autopct='%1.1f%%', explode=explode)\n",
    "\n"
   ]
  },
  {
   "cell_type": "markdown",
   "metadata": {},
   "source": [
    "Only 0.1% have an academic degree. 65% have had only Secndary education. Now lets check what is the amount of loan these category have applied for"
   ]
  },
  {
   "cell_type": "code",
   "execution_count": 26,
   "metadata": {},
   "outputs": [
    {
     "data": {
      "image/png": "[encoded data removed]",
      "text/plain": [
       "<Figure size 432x288 with 1 Axes>"
      ]
     },
     "metadata": {
      "needs_background": "light"
     },
     "output_type": "display_data"
    }
   ],
   "source": [
    "# bar graph presentation of effect of education level\n",
    "sns.countplot(y=\"NAME_EDUCATION_TYPE\", data= df_0)\n",
    "plt.show()"
   ]
  },
  {
   "cell_type": "code",
   "execution_count": 29,
   "metadata": {},
   "outputs": [
    {
     "data": {
      "image/png": "[encoded data removed]",
      "text/plain": [
       "<Figure size 720x576 with 1 Axes>"
      ]
     },
     "metadata": {},
     "output_type": "display_data"
    }
   ],
   "source": [
    "# here we can check which customers tend to repay the loan depending on the housing type\n",
    "# pie chart represenation\n",
    "UC1 = pd.DataFrame(df_0['NAME_HOUSING_TYPE'].value_counts(normalize=True) * 100)\n",
    "explode = (0, 0, 0, 0.2, 0.3, 0.4)\n",
    "plot = UC1.plot.pie(y='NAME_HOUSING_TYPE', startangle=90, figsize=(10, 8), autopct='%1.1f%%', explode = explode)"
   ]
  },
  {
   "cell_type": "code",
   "execution_count": 30,
   "metadata": {},
   "outputs": [
    {
     "data": {
      "text/plain": [
       "1     (45.0, 50.0]\n",
       "13    (35.0, 40.0]\n",
       "18    (45.0, 50.0]\n",
       "22    (30.0, 35.0]\n",
       "23    (65.0, 70.0]\n",
       "Name: YEARS_BINNED, dtype: category\n",
       "Categories (10, interval[float64]): [(20.0, 25.0] < (25.0, 30.0] < (30.0, 35.0] < (35.0, 40.0] ... (50.0, 55.0] < (55.0, 60.0] < (60.0, 65.0] < (65.0, 70.0]]"
      ]
     },
     "execution_count": 30,
     "metadata": {},
     "output_type": "execute_result"
    }
   ],
   "source": [
    "#Univariate Analytics\n",
    "# we will vreate a age groups of 5 years difference ad then bin them to visualize\n",
    "df_0[\"AGE\"] = df_0[\"DAYS_BIRTH\"]/ -365\n",
    "# Bin the age data\n",
    "df_0['YEARS_BINNED'] = pd.cut(df_0['AGE'], bins = np.linspace(20, 70, num = 11))\n",
    "df_0[\"YEARS_BINNED\"].head()"
   ]
  },
  {
   "cell_type": "code",
   "execution_count": 31,
   "metadata": {},
   "outputs": [
    {
     "data": {
      "image/png": "[encoded data removed]",
      "text/plain": [
       "<Figure size 720x576 with 1 Axes>"
      ]
     },
     "metadata": {},
     "output_type": "display_data"
    }
   ],
   "source": [
    "#we will plot the age group in pie chart and visualize the contribution\n",
    "UC1 = pd.DataFrame(df_0['YEARS_BINNED'].value_counts(normalize=True) * 100)\n",
    "explode = (0, 0, 0, 0, 0, 0, 0, 0.2, 0.3, 0.4)\n",
    "plot = UC1.plot.pie(y='YEARS_BINNED', startangle=90, figsize=(10, 8), autopct='%1.1f%%', explode = explode)"
   ]
  },
  {
   "cell_type": "code",
   "execution_count": 34,
   "metadata": {},
   "outputs": [
    {
     "data": {
      "image/png": "[encoded data removed]",
      "text/plain": [
       "<Figure size 432x288 with 1 Axes>"
      ]
     },
     "metadata": {
      "needs_background": "light"
     },
     "output_type": "display_data"
    }
   ],
   "source": [
    "# bar plot\n",
    "sns.countplot(y=\"YEARS_BINNED\", data= df_0)\n",
    "plt.title(\"Age group wise Risk\")\n",
    "plt.ylabel(\"age groups\")\n",
    "plt.show()"
   ]
  },
  {
   "cell_type": "code",
   "execution_count": 35,
   "metadata": {},
   "outputs": [
    {
     "data": {
      "image/png": "[encoded data removed]",
      "text/plain": [
       "<Figure size 432x288 with 1 Axes>"
      ]
     },
     "metadata": {
      "needs_background": "light"
     },
     "output_type": "display_data"
    }
   ],
   "source": [
    "# Create an anomalous flag column\n",
    "df_0['DAYS_EMPLOYED_ANOM'] = df_0[\"DAYS_EMPLOYED\"] == 365243\n",
    "\n",
    "# Replace the anomalous values with nan\n",
    "df_0['DAYS_EMPLOYED'].replace({365243: np.nan}, inplace = True)\n",
    "\n",
    "df_0['DAYS_EMPLOYED'].plot.hist(title = 'Days Employment Histogram');\n",
    "plt.xlabel('Days Employment');"
   ]
  },
  {
   "cell_type": "code",
   "execution_count": 36,
   "metadata": {},
   "outputs": [
    {
     "data": {
      "text/plain": [
       "count    7.364700e+04\n",
       "mean     1.849643e+05\n",
       "std      1.093683e+05\n",
       "min      2.700000e+04\n",
       "25%      1.125000e+05\n",
       "50%      1.575000e+05\n",
       "75%      2.250000e+05\n",
       "max      4.500000e+06\n",
       "Name: AMT_INCOME_TOTAL, dtype: float64"
      ]
     },
     "execution_count": 36,
     "metadata": {},
     "output_type": "execute_result"
    }
   ],
   "source": [
    "# after sepearating the data looks good\n",
    "df_0[\"AMT_INCOME_TOTAL\"].describe()"
   ]
  },
  {
   "cell_type": "code",
   "execution_count": 39,
   "metadata": {},
   "outputs": [],
   "source": [
    "# here we will catogorize the total customers based on the amount of income into 6 categories namely C1, C2, C3, C4, C5, C6# after sepearating the data looks good\n",
    "C6 = df_0[(df_0['AMT_INCOME_TOTAL'] >= 1500001.0)]\n",
    "C5 = df_0[(df_0['AMT_INCOME_TOTAL'] >= 1000001.0)& (df_0['AMT_INCOME_TOTAL'] <= 1500000.0)]\n",
    "C4 = df_0[(df_0['AMT_INCOME_TOTAL'] >= 600001) & (df_0['AMT_INCOME_TOTAL'] <= 1000000.0)]\n",
    "C3 = df_0[(df_0['AMT_INCOME_TOTAL'] >= 400001) & (df_0['AMT_INCOME_TOTAL'] <= 600000.0)]\n",
    "C2 = df_0[(df_0['AMT_INCOME_TOTAL'] >= 200001) & (df_0['AMT_INCOME_TOTAL'] <= 4000000.0)]\n",
    "C1 = df_0[(df_0['AMT_INCOME_TOTAL'] >= 0) & (df_0['AMT_INCOME_TOTAL'] <= 200000)]\n",
    "c1 = pd.DataFrame(C1)\n",
    "c2 = pd.DataFrame(C2)\n",
    "c3 = pd.DataFrame(C3)\n",
    "c4 = pd.DataFrame(C4)\n",
    "c5 = pd.DataFrame(C5)\n",
    "c6 = pd.DataFrame(C6)\n",
    "c1['Category'] = 'C1(0 to 2L)'\n",
    "c2['Category'] = 'C2(2L to 4L)'\n",
    "c3['Category'] = 'C3(4L to 6l)'\n",
    "c4['Category'] = 'C4(6L to 10L)'\n",
    "c5['Category'] = 'C5(10L to 15L)'\n",
    "c6['Category'] = 'C6(15L and above)'"
   ]
  },
  {
   "cell_type": "code",
   "execution_count": 40,
   "metadata": {},
   "outputs": [
    {
     "data": {
      "text/html": [
       "<div>\n",
       "<style scoped>\n",
       "    .dataframe tbody tr th:only-of-type {\n",
       "        vertical-align: middle;\n",
       "    }\n",
       "\n",
       "    .dataframe tbody tr th {\n",
       "        vertical-align: top;\n",
       "    }\n",
       "\n",
       "    .dataframe thead th {\n",
       "        text-align: right;\n",
       "    }\n",
       "</style>\n",
       "<table border=\"1\" class=\"dataframe\">\n",
       "  <thead>\n",
       "    <tr style=\"text-align: right;\">\n",
       "      <th></th>\n",
       "      <th>SK_ID_CURR</th>\n",
       "      <th>TARGET</th>\n",
       "      <th>NAME_CONTRACT_TYPE</th>\n",
       "      <th>CODE_GENDER</th>\n",
       "      <th>FLAG_OWN_CAR</th>\n",
       "      <th>FLAG_OWN_REALTY</th>\n",
       "      <th>CNT_CHILDREN</th>\n",
       "      <th>AMT_INCOME_TOTAL</th>\n",
       "      <th>AMT_CREDIT</th>\n",
       "      <th>AMT_ANNUITY</th>\n",
       "      <th>...</th>\n",
       "      <th>AMT_REQ_CREDIT_BUREAU_HOUR</th>\n",
       "      <th>AMT_REQ_CREDIT_BUREAU_DAY</th>\n",
       "      <th>AMT_REQ_CREDIT_BUREAU_WEEK</th>\n",
       "      <th>AMT_REQ_CREDIT_BUREAU_MON</th>\n",
       "      <th>AMT_REQ_CREDIT_BUREAU_QRT</th>\n",
       "      <th>AMT_REQ_CREDIT_BUREAU_YEAR</th>\n",
       "      <th>AGE</th>\n",
       "      <th>YEARS_BINNED</th>\n",
       "      <th>DAYS_EMPLOYED_ANOM</th>\n",
       "      <th>Category</th>\n",
       "    </tr>\n",
       "  </thead>\n",
       "  <tbody>\n",
       "    <tr>\n",
       "      <th>18</th>\n",
       "      <td>100022</td>\n",
       "      <td>0</td>\n",
       "      <td>Revolving loans</td>\n",
       "      <td>F</td>\n",
       "      <td>N</td>\n",
       "      <td>Y</td>\n",
       "      <td>0</td>\n",
       "      <td>112500.0</td>\n",
       "      <td>157500.0</td>\n",
       "      <td>7875.0</td>\n",
       "      <td>...</td>\n",
       "      <td>0.0</td>\n",
       "      <td>0.0</td>\n",
       "      <td>0.0</td>\n",
       "      <td>0.0</td>\n",
       "      <td>0.0</td>\n",
       "      <td>0.0</td>\n",
       "      <td>48.542466</td>\n",
       "      <td>(45.0, 50.0]</td>\n",
       "      <td>False</td>\n",
       "      <td>C1(0 to 2L)</td>\n",
       "    </tr>\n",
       "    <tr>\n",
       "      <th>23</th>\n",
       "      <td>100027</td>\n",
       "      <td>0</td>\n",
       "      <td>Cash loans</td>\n",
       "      <td>F</td>\n",
       "      <td>N</td>\n",
       "      <td>Y</td>\n",
       "      <td>0</td>\n",
       "      <td>83250.0</td>\n",
       "      <td>239850.0</td>\n",
       "      <td>23850.0</td>\n",
       "      <td>...</td>\n",
       "      <td>0.0</td>\n",
       "      <td>0.0</td>\n",
       "      <td>0.0</td>\n",
       "      <td>0.0</td>\n",
       "      <td>0.0</td>\n",
       "      <td>3.0</td>\n",
       "      <td>68.019178</td>\n",
       "      <td>(65.0, 70.0]</td>\n",
       "      <td>True</td>\n",
       "      <td>C1(0 to 2L)</td>\n",
       "    </tr>\n",
       "    <tr>\n",
       "      <th>24</th>\n",
       "      <td>100029</td>\n",
       "      <td>0</td>\n",
       "      <td>Cash loans</td>\n",
       "      <td>M</td>\n",
       "      <td>Y</td>\n",
       "      <td>N</td>\n",
       "      <td>2</td>\n",
       "      <td>135000.0</td>\n",
       "      <td>247500.0</td>\n",
       "      <td>12703.5</td>\n",
       "      <td>...</td>\n",
       "      <td>0.0</td>\n",
       "      <td>0.0</td>\n",
       "      <td>0.0</td>\n",
       "      <td>0.0</td>\n",
       "      <td>0.0</td>\n",
       "      <td>0.0</td>\n",
       "      <td>30.920548</td>\n",
       "      <td>(30.0, 35.0]</td>\n",
       "      <td>False</td>\n",
       "      <td>C1(0 to 2L)</td>\n",
       "    </tr>\n",
       "    <tr>\n",
       "      <th>25</th>\n",
       "      <td>100030</td>\n",
       "      <td>0</td>\n",
       "      <td>Cash loans</td>\n",
       "      <td>F</td>\n",
       "      <td>N</td>\n",
       "      <td>Y</td>\n",
       "      <td>0</td>\n",
       "      <td>90000.0</td>\n",
       "      <td>225000.0</td>\n",
       "      <td>11074.5</td>\n",
       "      <td>...</td>\n",
       "      <td>0.0</td>\n",
       "      <td>0.0</td>\n",
       "      <td>0.0</td>\n",
       "      <td>0.0</td>\n",
       "      <td>0.0</td>\n",
       "      <td>0.0</td>\n",
       "      <td>52.969863</td>\n",
       "      <td>(50.0, 55.0]</td>\n",
       "      <td>False</td>\n",
       "      <td>C1(0 to 2L)</td>\n",
       "    </tr>\n",
       "    <tr>\n",
       "      <th>39</th>\n",
       "      <td>100046</td>\n",
       "      <td>0</td>\n",
       "      <td>Revolving loans</td>\n",
       "      <td>M</td>\n",
       "      <td>Y</td>\n",
       "      <td>Y</td>\n",
       "      <td>0</td>\n",
       "      <td>180000.0</td>\n",
       "      <td>540000.0</td>\n",
       "      <td>27000.0</td>\n",
       "      <td>...</td>\n",
       "      <td>0.0</td>\n",
       "      <td>0.0</td>\n",
       "      <td>0.0</td>\n",
       "      <td>1.0</td>\n",
       "      <td>0.0</td>\n",
       "      <td>1.0</td>\n",
       "      <td>44.180822</td>\n",
       "      <td>(40.0, 45.0]</td>\n",
       "      <td>False</td>\n",
       "      <td>C1(0 to 2L)</td>\n",
       "    </tr>\n",
       "  </tbody>\n",
       "</table>\n",
       "<p>5 rows × 123 columns</p>\n",
       "</div>"
      ],
      "text/plain": [
       "    SK_ID_CURR  TARGET NAME_CONTRACT_TYPE CODE_GENDER FLAG_OWN_CAR  \\\n",
       "18      100022       0    Revolving loans           F            N   \n",
       "23      100027       0         Cash loans           F            N   \n",
       "24      100029       0         Cash loans           M            Y   \n",
       "25      100030       0         Cash loans           F            N   \n",
       "39      100046       0    Revolving loans           M            Y   \n",
       "\n",
       "   FLAG_OWN_REALTY  CNT_CHILDREN  AMT_INCOME_TOTAL  AMT_CREDIT  AMT_ANNUITY  \\\n",
       "18               Y             0          112500.0    157500.0       7875.0   \n",
       "23               Y             0           83250.0    239850.0      23850.0   \n",
       "24               N             2          135000.0    247500.0      12703.5   \n",
       "25               Y             0           90000.0    225000.0      11074.5   \n",
       "39               Y             0          180000.0    540000.0      27000.0   \n",
       "\n",
       "    ...  AMT_REQ_CREDIT_BUREAU_HOUR AMT_REQ_CREDIT_BUREAU_DAY  \\\n",
       "18  ...                         0.0                       0.0   \n",
       "23  ...                         0.0                       0.0   \n",
       "24  ...                         0.0                       0.0   \n",
       "25  ...                         0.0                       0.0   \n",
       "39  ...                         0.0                       0.0   \n",
       "\n",
       "   AMT_REQ_CREDIT_BUREAU_WEEK AMT_REQ_CREDIT_BUREAU_MON  \\\n",
       "18                        0.0                       0.0   \n",
       "23                        0.0                       0.0   \n",
       "24                        0.0                       0.0   \n",
       "25                        0.0                       0.0   \n",
       "39                        0.0                       1.0   \n",
       "\n",
       "   AMT_REQ_CREDIT_BUREAU_QRT AMT_REQ_CREDIT_BUREAU_YEAR        AGE  \\\n",
       "18                       0.0                        0.0  48.542466   \n",
       "23                       0.0                        3.0  68.019178   \n",
       "24                       0.0                        0.0  30.920548   \n",
       "25                       0.0                        0.0  52.969863   \n",
       "39                       0.0                        1.0  44.180822   \n",
       "\n",
       "    YEARS_BINNED  DAYS_EMPLOYED_ANOM     Category  \n",
       "18  (45.0, 50.0]               False  C1(0 to 2L)  \n",
       "23  (65.0, 70.0]                True  C1(0 to 2L)  \n",
       "24  (30.0, 35.0]               False  C1(0 to 2L)  \n",
       "25  (50.0, 55.0]               False  C1(0 to 2L)  \n",
       "39  (40.0, 45.0]               False  C1(0 to 2L)  \n",
       "\n",
       "[5 rows x 123 columns]"
      ]
     },
     "execution_count": 40,
     "metadata": {},
     "output_type": "execute_result"
    }
   ],
   "source": [
    "## concatinating the individual category data into single data frame ##\n",
    "DD = pd.concat([c1, c2, c3, c4, c5, c6])\n",
    "DD.head(5)"
   ]
  },
  {
   "cell_type": "code",
   "execution_count": 41,
   "metadata": {},
   "outputs": [
    {
     "data": {
      "image/png": "[encoded data removed]",
      "text/plain": [
       "<Figure size 720x576 with 1 Axes>"
      ]
     },
     "metadata": {},
     "output_type": "display_data"
    }
   ],
   "source": [
    "# PIE CHART PLOT OF ALL 6 CATEGORIES OF AMOUNT OF INCOME\n",
    "UC1 = pd.DataFrame(DD['Category'].value_counts(normalize=True) * 100)\n",
    "explode = (0,0, 0.2, 0.3, 0.4, 0.5)\n",
    "plot = UC1.plot.pie(y='Category', startangle=90, figsize=(10, 8), autopct='%1.1f%%', explode = explode)"
   ]
  },
  {
   "cell_type": "markdown",
   "metadata": {},
   "source": [
    "#### Major applicants are between 0 to 2L salary and 2 go 4L salary"
   ]
  },
  {
   "cell_type": "code",
   "execution_count": 43,
   "metadata": {},
   "outputs": [
    {
     "data": {
      "text/html": [
       "<div>\n",
       "<style scoped>\n",
       "    .dataframe tbody tr th:only-of-type {\n",
       "        vertical-align: middle;\n",
       "    }\n",
       "\n",
       "    .dataframe tbody tr th {\n",
       "        vertical-align: top;\n",
       "    }\n",
       "\n",
       "    .dataframe thead th {\n",
       "        text-align: right;\n",
       "    }\n",
       "</style>\n",
       "<table border=\"1\" class=\"dataframe\">\n",
       "  <thead>\n",
       "    <tr style=\"text-align: right;\">\n",
       "      <th></th>\n",
       "      <th>AMT_INCOME_TOTAL</th>\n",
       "      <th>AMT_CREDIT</th>\n",
       "      <th>DAYS_BIRTH</th>\n",
       "    </tr>\n",
       "  </thead>\n",
       "  <tbody>\n",
       "    <tr>\n",
       "      <th>AMT_INCOME_TOTAL</th>\n",
       "      <td>1.000000</td>\n",
       "      <td>0.376745</td>\n",
       "      <td>0.081891</td>\n",
       "    </tr>\n",
       "    <tr>\n",
       "      <th>AMT_CREDIT</th>\n",
       "      <td>0.376745</td>\n",
       "      <td>1.000000</td>\n",
       "      <td>-0.029350</td>\n",
       "    </tr>\n",
       "    <tr>\n",
       "      <th>DAYS_BIRTH</th>\n",
       "      <td>0.081891</td>\n",
       "      <td>-0.029350</td>\n",
       "      <td>1.000000</td>\n",
       "    </tr>\n",
       "  </tbody>\n",
       "</table>\n",
       "</div>"
      ],
      "text/plain": [
       "                  AMT_INCOME_TOTAL  AMT_CREDIT  DAYS_BIRTH\n",
       "AMT_INCOME_TOTAL          1.000000    0.376745    0.081891\n",
       "AMT_CREDIT                0.376745    1.000000   -0.029350\n",
       "DAYS_BIRTH                0.081891   -0.029350    1.000000"
      ]
     },
     "execution_count": 43,
     "metadata": {},
     "output_type": "execute_result"
    }
   ],
   "source": [
    "#Now lets check correlations between income and credit by age\n",
    "# Extract the  variables to show correlations\n",
    "ext_data = df_0[['AMT_INCOME_TOTAL', 'AMT_CREDIT', 'DAYS_BIRTH']]\n",
    "ext_data_corrs = ext_data.corr()\n",
    "ext_data_corrs"
   ]
  },
  {
   "cell_type": "code",
   "execution_count": 44,
   "metadata": {},
   "outputs": [
    {
     "data": {
      "image/png": "[encoded data removed]",
      "text/plain": [
       "<Figure size 576x432 with 2 Axes>"
      ]
     },
     "metadata": {
      "needs_background": "light"
     },
     "output_type": "display_data"
    }
   ],
   "source": [
    "#and visulising this reveals\n",
    "plt.figure(figsize = (8, 6))\n",
    "\n",
    "# Heatmap of correlations\n",
    "sns.heatmap(ext_data_corrs, cmap = plt.cm.RdYlBu_r, vmin = -0.25, annot = True, vmax = 0.6)\n",
    "plt.title('Correlation Heatmap');"
   ]
  },
  {
   "cell_type": "code",
   "execution_count": 47,
   "metadata": {},
   "outputs": [
    {
     "data": {
      "image/png": "[encoded data removed]",
      "text/plain": [
       "<Figure size 432x288 with 1 Axes>"
      ]
     },
     "metadata": {
      "needs_background": "light"
     },
     "output_type": "display_data"
    }
   ],
   "source": [
    "# You can see that age is a important factor. \n",
    "# lets plot the category and observe\n",
    "# plot of category vs age i.e, bivariate analysis of the variables\n",
    "## concatinating the individual category data into single data frame ##\n",
    "DD_1 = pd.concat([c1, c2, c3, c4, c5, c6])\n",
    "DD_1.head(5)\n",
    "sns.barplot(x='Category', y=\"AGE\", data=DD_1)\n",
    "plt.xticks(rotation=60)\n",
    "plt.title(\"income category vs Age\")\n",
    "plt.show()"
   ]
  },
  {
   "cell_type": "code",
   "execution_count": 48,
   "metadata": {},
   "outputs": [
    {
     "data": {
      "image/png": "[encoded data removed]",
      "text/plain": [
       "<Figure size 432x288 with 1 Axes>"
      ]
     },
     "metadata": {
      "needs_background": "light"
     },
     "output_type": "display_data"
    }
   ],
   "source": [
    "#checking gender and age\n",
    "# plot of gender vs age to perform bivariate analysis\n",
    "sns.barplot(x='CODE_GENDER', y=\"AGE\", data=DD_1)\n",
    "plt.title(\"Gender vs Age\")\n",
    "plt.show()"
   ]
  },
  {
   "cell_type": "code",
   "execution_count": 57,
   "metadata": {
    "scrolled": true
   },
   "outputs": [
    {
     "data": {
      "text/html": [
       "<div>\n",
       "<style scoped>\n",
       "    .dataframe tbody tr th:only-of-type {\n",
       "        vertical-align: middle;\n",
       "    }\n",
       "\n",
       "    .dataframe tbody tr th {\n",
       "        vertical-align: top;\n",
       "    }\n",
       "\n",
       "    .dataframe thead th {\n",
       "        text-align: right;\n",
       "    }\n",
       "</style>\n",
       "<table border=\"1\" class=\"dataframe\">\n",
       "  <thead>\n",
       "    <tr style=\"text-align: right;\">\n",
       "      <th></th>\n",
       "      <th>SK_ID_CURR</th>\n",
       "      <th>TARGET</th>\n",
       "      <th>NAME_CONTRACT_TYPE</th>\n",
       "      <th>CODE_GENDER</th>\n",
       "      <th>FLAG_OWN_CAR</th>\n",
       "      <th>FLAG_OWN_REALTY</th>\n",
       "      <th>CNT_CHILDREN</th>\n",
       "      <th>AMT_INCOME_TOTAL</th>\n",
       "      <th>AMT_CREDIT</th>\n",
       "      <th>AMT_ANNUITY</th>\n",
       "      <th>...</th>\n",
       "      <th>AMT_REQ_CREDIT_BUREAU_HOUR</th>\n",
       "      <th>AMT_REQ_CREDIT_BUREAU_DAY</th>\n",
       "      <th>AMT_REQ_CREDIT_BUREAU_WEEK</th>\n",
       "      <th>AMT_REQ_CREDIT_BUREAU_MON</th>\n",
       "      <th>AMT_REQ_CREDIT_BUREAU_QRT</th>\n",
       "      <th>AMT_REQ_CREDIT_BUREAU_YEAR</th>\n",
       "      <th>AGE</th>\n",
       "      <th>YEARS_BINNED</th>\n",
       "      <th>DAYS_EMPLOYED_ANOM</th>\n",
       "      <th>Category</th>\n",
       "    </tr>\n",
       "  </thead>\n",
       "  <tbody>\n",
       "    <tr>\n",
       "      <th>18</th>\n",
       "      <td>100022</td>\n",
       "      <td>0</td>\n",
       "      <td>Revolving loans</td>\n",
       "      <td>F</td>\n",
       "      <td>N</td>\n",
       "      <td>Y</td>\n",
       "      <td>0</td>\n",
       "      <td>112500.0</td>\n",
       "      <td>157500.0</td>\n",
       "      <td>7875.0</td>\n",
       "      <td>...</td>\n",
       "      <td>0.0</td>\n",
       "      <td>0.0</td>\n",
       "      <td>0.0</td>\n",
       "      <td>0.0</td>\n",
       "      <td>0.0</td>\n",
       "      <td>0.0</td>\n",
       "      <td>48.542466</td>\n",
       "      <td>(45.0, 50.0]</td>\n",
       "      <td>False</td>\n",
       "      <td>C1(0 to 2L)</td>\n",
       "    </tr>\n",
       "    <tr>\n",
       "      <th>23</th>\n",
       "      <td>100027</td>\n",
       "      <td>0</td>\n",
       "      <td>Cash loans</td>\n",
       "      <td>F</td>\n",
       "      <td>N</td>\n",
       "      <td>Y</td>\n",
       "      <td>0</td>\n",
       "      <td>83250.0</td>\n",
       "      <td>239850.0</td>\n",
       "      <td>23850.0</td>\n",
       "      <td>...</td>\n",
       "      <td>0.0</td>\n",
       "      <td>0.0</td>\n",
       "      <td>0.0</td>\n",
       "      <td>0.0</td>\n",
       "      <td>0.0</td>\n",
       "      <td>3.0</td>\n",
       "      <td>68.019178</td>\n",
       "      <td>(65.0, 70.0]</td>\n",
       "      <td>True</td>\n",
       "      <td>C1(0 to 2L)</td>\n",
       "    </tr>\n",
       "    <tr>\n",
       "      <th>24</th>\n",
       "      <td>100029</td>\n",
       "      <td>0</td>\n",
       "      <td>Cash loans</td>\n",
       "      <td>M</td>\n",
       "      <td>Y</td>\n",
       "      <td>N</td>\n",
       "      <td>2</td>\n",
       "      <td>135000.0</td>\n",
       "      <td>247500.0</td>\n",
       "      <td>12703.5</td>\n",
       "      <td>...</td>\n",
       "      <td>0.0</td>\n",
       "      <td>0.0</td>\n",
       "      <td>0.0</td>\n",
       "      <td>0.0</td>\n",
       "      <td>0.0</td>\n",
       "      <td>0.0</td>\n",
       "      <td>30.920548</td>\n",
       "      <td>(30.0, 35.0]</td>\n",
       "      <td>False</td>\n",
       "      <td>C1(0 to 2L)</td>\n",
       "    </tr>\n",
       "    <tr>\n",
       "      <th>25</th>\n",
       "      <td>100030</td>\n",
       "      <td>0</td>\n",
       "      <td>Cash loans</td>\n",
       "      <td>F</td>\n",
       "      <td>N</td>\n",
       "      <td>Y</td>\n",
       "      <td>0</td>\n",
       "      <td>90000.0</td>\n",
       "      <td>225000.0</td>\n",
       "      <td>11074.5</td>\n",
       "      <td>...</td>\n",
       "      <td>0.0</td>\n",
       "      <td>0.0</td>\n",
       "      <td>0.0</td>\n",
       "      <td>0.0</td>\n",
       "      <td>0.0</td>\n",
       "      <td>0.0</td>\n",
       "      <td>52.969863</td>\n",
       "      <td>(50.0, 55.0]</td>\n",
       "      <td>False</td>\n",
       "      <td>C1(0 to 2L)</td>\n",
       "    </tr>\n",
       "    <tr>\n",
       "      <th>39</th>\n",
       "      <td>100046</td>\n",
       "      <td>0</td>\n",
       "      <td>Revolving loans</td>\n",
       "      <td>M</td>\n",
       "      <td>Y</td>\n",
       "      <td>Y</td>\n",
       "      <td>0</td>\n",
       "      <td>180000.0</td>\n",
       "      <td>540000.0</td>\n",
       "      <td>27000.0</td>\n",
       "      <td>...</td>\n",
       "      <td>0.0</td>\n",
       "      <td>0.0</td>\n",
       "      <td>0.0</td>\n",
       "      <td>1.0</td>\n",
       "      <td>0.0</td>\n",
       "      <td>1.0</td>\n",
       "      <td>44.180822</td>\n",
       "      <td>(40.0, 45.0]</td>\n",
       "      <td>False</td>\n",
       "      <td>C1(0 to 2L)</td>\n",
       "    </tr>\n",
       "  </tbody>\n",
       "</table>\n",
       "<p>5 rows × 123 columns</p>\n",
       "</div>"
      ],
      "text/plain": [
       "    SK_ID_CURR  TARGET NAME_CONTRACT_TYPE CODE_GENDER FLAG_OWN_CAR  \\\n",
       "18      100022       0    Revolving loans           F            N   \n",
       "23      100027       0         Cash loans           F            N   \n",
       "24      100029       0         Cash loans           M            Y   \n",
       "25      100030       0         Cash loans           F            N   \n",
       "39      100046       0    Revolving loans           M            Y   \n",
       "\n",
       "   FLAG_OWN_REALTY  CNT_CHILDREN  AMT_INCOME_TOTAL  AMT_CREDIT  AMT_ANNUITY  \\\n",
       "18               Y             0          112500.0    157500.0       7875.0   \n",
       "23               Y             0           83250.0    239850.0      23850.0   \n",
       "24               N             2          135000.0    247500.0      12703.5   \n",
       "25               Y             0           90000.0    225000.0      11074.5   \n",
       "39               Y             0          180000.0    540000.0      27000.0   \n",
       "\n",
       "    ...  AMT_REQ_CREDIT_BUREAU_HOUR AMT_REQ_CREDIT_BUREAU_DAY  \\\n",
       "18  ...                         0.0                       0.0   \n",
       "23  ...                         0.0                       0.0   \n",
       "24  ...                         0.0                       0.0   \n",
       "25  ...                         0.0                       0.0   \n",
       "39  ...                         0.0                       0.0   \n",
       "\n",
       "   AMT_REQ_CREDIT_BUREAU_WEEK AMT_REQ_CREDIT_BUREAU_MON  \\\n",
       "18                        0.0                       0.0   \n",
       "23                        0.0                       0.0   \n",
       "24                        0.0                       0.0   \n",
       "25                        0.0                       0.0   \n",
       "39                        0.0                       1.0   \n",
       "\n",
       "   AMT_REQ_CREDIT_BUREAU_QRT AMT_REQ_CREDIT_BUREAU_YEAR        AGE  \\\n",
       "18                       0.0                        0.0  48.542466   \n",
       "23                       0.0                        3.0  68.019178   \n",
       "24                       0.0                        0.0  30.920548   \n",
       "25                       0.0                        0.0  52.969863   \n",
       "39                       0.0                        1.0  44.180822   \n",
       "\n",
       "    YEARS_BINNED  DAYS_EMPLOYED_ANOM     Category  \n",
       "18  (45.0, 50.0]               False  C1(0 to 2L)  \n",
       "23  (65.0, 70.0]                True  C1(0 to 2L)  \n",
       "24  (30.0, 35.0]               False  C1(0 to 2L)  \n",
       "25  (50.0, 55.0]               False  C1(0 to 2L)  \n",
       "39  (40.0, 45.0]               False  C1(0 to 2L)  \n",
       "\n",
       "[5 rows x 123 columns]"
      ]
     },
     "execution_count": 57,
     "metadata": {},
     "output_type": "execute_result"
    }
   ],
   "source": [
    "DD_1.head()"
   ]
  },
  {
   "cell_type": "code",
   "execution_count": 62,
   "metadata": {},
   "outputs": [],
   "source": [
    "occupation = df[\"OCCUPATION_TYPE\"]\n",
    "age = DD_1[\"AGE\"]"
   ]
  },
  {
   "cell_type": "code",
   "execution_count": null,
   "metadata": {},
   "outputs": [],
   "source": []
  },
  {
   "cell_type": "code",
   "execution_count": null,
   "metadata": {},
   "outputs": [],
   "source": []
  },
  {
   "cell_type": "code",
   "execution_count": 66,
   "metadata": {
    "scrolled": true
   },
   "outputs": [
    {
     "data": {
      "image/png": "[encoded data removed]",
      "text/plain": [
       "<Figure size 576x432 with 1 Axes>"
      ]
     },
     "metadata": {
      "needs_background": "light"
     },
     "output_type": "display_data"
    }
   ],
   "source": [
    "# analysis of occupation type and age on the loan\n",
    "plt.figure(figsize = (8, 6))\n",
    "sns.barplot(x=age, y=occupation)\n",
    "plt.title(\"Occupation vs Age\")\n",
    "plt.show()"
   ]
  },
  {
   "cell_type": "code",
   "execution_count": 52,
   "metadata": {
    "collapsed": true
   },
   "outputs": [
    {
     "data": {
      "text/plain": [
       "['SK_ID_CURR',\n",
       " 'TARGET',\n",
       " 'NAME_CONTRACT_TYPE',\n",
       " 'CODE_GENDER',\n",
       " 'FLAG_OWN_CAR',\n",
       " 'FLAG_OWN_REALTY',\n",
       " 'CNT_CHILDREN',\n",
       " 'AMT_INCOME_TOTAL',\n",
       " 'AMT_CREDIT',\n",
       " 'AMT_ANNUITY',\n",
       " 'AMT_GOODS_PRICE',\n",
       " 'NAME_TYPE_SUITE',\n",
       " 'NAME_INCOME_TYPE',\n",
       " 'NAME_EDUCATION_TYPE',\n",
       " 'NAME_FAMILY_STATUS',\n",
       " 'NAME_HOUSING_TYPE',\n",
       " 'REGION_POPULATION_RELATIVE',\n",
       " 'DAYS_BIRTH',\n",
       " 'DAYS_EMPLOYED',\n",
       " 'DAYS_REGISTRATION',\n",
       " 'DAYS_ID_PUBLISH',\n",
       " 'FLAG_MOBIL',\n",
       " 'FLAG_EMP_PHONE',\n",
       " 'FLAG_WORK_PHONE',\n",
       " 'FLAG_CONT_MOBILE',\n",
       " 'FLAG_PHONE',\n",
       " 'FLAG_EMAIL',\n",
       " 'CNT_FAM_MEMBERS',\n",
       " 'REGION_RATING_CLIENT',\n",
       " 'REGION_RATING_CLIENT_W_CITY',\n",
       " 'WEEKDAY_APPR_PROCESS_START',\n",
       " 'HOUR_APPR_PROCESS_START',\n",
       " 'REG_REGION_NOT_LIVE_REGION',\n",
       " 'REG_REGION_NOT_WORK_REGION',\n",
       " 'LIVE_REGION_NOT_WORK_REGION',\n",
       " 'REG_CITY_NOT_LIVE_CITY',\n",
       " 'REG_CITY_NOT_WORK_CITY',\n",
       " 'LIVE_CITY_NOT_WORK_CITY',\n",
       " 'ORGANIZATION_TYPE',\n",
       " 'EXT_SOURCE_2',\n",
       " 'EXT_SOURCE_3',\n",
       " 'APARTMENTS_AVG',\n",
       " 'BASEMENTAREA_AVG',\n",
       " 'YEARS_BEGINEXPLUATATION_AVG',\n",
       " 'YEARS_BUILD_AVG',\n",
       " 'COMMONAREA_AVG',\n",
       " 'ELEVATORS_AVG',\n",
       " 'ENTRANCES_AVG',\n",
       " 'FLOORSMAX_AVG',\n",
       " 'FLOORSMIN_AVG',\n",
       " 'LANDAREA_AVG',\n",
       " 'LIVINGAPARTMENTS_AVG',\n",
       " 'LIVINGAREA_AVG',\n",
       " 'NONLIVINGAPARTMENTS_AVG',\n",
       " 'NONLIVINGAREA_AVG',\n",
       " 'APARTMENTS_MODE',\n",
       " 'BASEMENTAREA_MODE',\n",
       " 'YEARS_BEGINEXPLUATATION_MODE',\n",
       " 'YEARS_BUILD_MODE',\n",
       " 'COMMONAREA_MODE',\n",
       " 'ELEVATORS_MODE',\n",
       " 'ENTRANCES_MODE',\n",
       " 'FLOORSMAX_MODE',\n",
       " 'FLOORSMIN_MODE',\n",
       " 'LANDAREA_MODE',\n",
       " 'LIVINGAPARTMENTS_MODE',\n",
       " 'LIVINGAREA_MODE',\n",
       " 'NONLIVINGAPARTMENTS_MODE',\n",
       " 'NONLIVINGAREA_MODE',\n",
       " 'APARTMENTS_MEDI',\n",
       " 'BASEMENTAREA_MEDI',\n",
       " 'YEARS_BEGINEXPLUATATION_MEDI',\n",
       " 'YEARS_BUILD_MEDI',\n",
       " 'COMMONAREA_MEDI',\n",
       " 'ELEVATORS_MEDI',\n",
       " 'ENTRANCES_MEDI',\n",
       " 'FLOORSMAX_MEDI',\n",
       " 'FLOORSMIN_MEDI',\n",
       " 'LANDAREA_MEDI',\n",
       " 'LIVINGAPARTMENTS_MEDI',\n",
       " 'LIVINGAREA_MEDI',\n",
       " 'NONLIVINGAPARTMENTS_MEDI',\n",
       " 'NONLIVINGAREA_MEDI',\n",
       " 'FONDKAPREMONT_MODE',\n",
       " 'HOUSETYPE_MODE',\n",
       " 'TOTALAREA_MODE',\n",
       " 'WALLSMATERIAL_MODE',\n",
       " 'EMERGENCYSTATE_MODE',\n",
       " 'OBS_30_CNT_SOCIAL_CIRCLE',\n",
       " 'DEF_30_CNT_SOCIAL_CIRCLE',\n",
       " 'OBS_60_CNT_SOCIAL_CIRCLE',\n",
       " 'DEF_60_CNT_SOCIAL_CIRCLE',\n",
       " 'DAYS_LAST_PHONE_CHANGE',\n",
       " 'FLAG_DOCUMENT_2',\n",
       " 'FLAG_DOCUMENT_3',\n",
       " 'FLAG_DOCUMENT_4',\n",
       " 'FLAG_DOCUMENT_5',\n",
       " 'FLAG_DOCUMENT_6',\n",
       " 'FLAG_DOCUMENT_7',\n",
       " 'FLAG_DOCUMENT_8',\n",
       " 'FLAG_DOCUMENT_9',\n",
       " 'FLAG_DOCUMENT_10',\n",
       " 'FLAG_DOCUMENT_11',\n",
       " 'FLAG_DOCUMENT_12',\n",
       " 'FLAG_DOCUMENT_13',\n",
       " 'FLAG_DOCUMENT_14',\n",
       " 'FLAG_DOCUMENT_15',\n",
       " 'FLAG_DOCUMENT_16',\n",
       " 'FLAG_DOCUMENT_17',\n",
       " 'FLAG_DOCUMENT_18',\n",
       " 'FLAG_DOCUMENT_19',\n",
       " 'FLAG_DOCUMENT_20',\n",
       " 'FLAG_DOCUMENT_21',\n",
       " 'AMT_REQ_CREDIT_BUREAU_HOUR',\n",
       " 'AMT_REQ_CREDIT_BUREAU_DAY',\n",
       " 'AMT_REQ_CREDIT_BUREAU_WEEK',\n",
       " 'AMT_REQ_CREDIT_BUREAU_MON',\n",
       " 'AMT_REQ_CREDIT_BUREAU_QRT',\n",
       " 'AMT_REQ_CREDIT_BUREAU_YEAR',\n",
       " 'AGE',\n",
       " 'YEARS_BINNED',\n",
       " 'DAYS_EMPLOYED_ANOM',\n",
       " 'Category']"
      ]
     },
     "execution_count": 52,
     "metadata": {},
     "output_type": "execute_result"
    }
   ],
   "source": [
    "# analysis of occupation type and age on the loan\n",
    "list(DD_1)"
   ]
  },
  {
   "cell_type": "code",
   "execution_count": 63,
   "metadata": {},
   "outputs": [
    {
     "data": {
      "image/png": "[encoded data removed]",
      "text/plain": [
       "<Figure size 576x432 with 1 Axes>"
      ]
     },
     "metadata": {
      "needs_background": "light"
     },
     "output_type": "display_data"
    }
   ],
   "source": [
    "# visualizing the influence of occupation on credit amount\n",
    "plt.figure(figsize = (8, 6))\n",
    "sns.barplot(x='AMT_CREDIT', y=\"OCCUPATION_TYPE\", data=df)\n",
    "plt.title(\" Credit amount vs Age\")\n",
    "plt.show()"
   ]
  },
  {
   "cell_type": "code",
   "execution_count": 68,
   "metadata": {},
   "outputs": [],
   "source": [
    "credit = df[\"AMT_CREDIT\"]"
   ]
  },
  {
   "cell_type": "code",
   "execution_count": null,
   "metadata": {},
   "outputs": [],
   "source": [
    "credit.head()"
   ]
  },
  {
   "cell_type": "code",
   "execution_count": null,
   "metadata": {},
   "outputs": [],
   "source": []
  },
  {
   "cell_type": "code",
   "execution_count": 69,
   "metadata": {},
   "outputs": [
    {
     "data": {
      "image/png": "[encoded data removed]",
      "text/plain": [
       "<Figure size 576x432 with 1 Axes>"
      ]
     },
     "metadata": {
      "needs_background": "light"
     },
     "output_type": "display_data"
    }
   ],
   "source": [
    "plt.figure(figsize = (8, 6))\n",
    "sns.barplot(x=credit, y=age)\n",
    "plt.title(\" Credit amount vs Age\")\n",
    "plt.show()"
   ]
  },
  {
   "cell_type": "code",
   "execution_count": null,
   "metadata": {},
   "outputs": [],
   "source": [
    "df_new=DD_1.groupby(['AGE','OCCUPATION_TYPE']).size()"
   ]
  },
  {
   "cell_type": "code",
   "execution_count": null,
   "metadata": {},
   "outputs": [],
   "source": [
    "df_new=df_new.unstack()"
   ]
  },
  {
   "cell_type": "code",
   "execution_count": null,
   "metadata": {},
   "outputs": [],
   "source": [
    "df_new.plot(kind='bar')\n",
    "plt.show"
   ]
  },
  {
   "cell_type": "code",
   "execution_count": null,
   "metadata": {},
   "outputs": [],
   "source": [
    "#this is not showing at all for some reason Shiv!"
   ]
  }
 ],
 "metadata": {
  "kernelspec": {
   "display_name": "Python 3",
   "language": "python",
   "name": "python3"
  },
  "language_info": {
   "codemirror_mode": {
    "name": "ipython",
    "version": 3
   },
   "file_extension": ".py",
   "mimetype": "text/x-python",
   "name": "python",
   "nbconvert_exporter": "python",
   "pygments_lexer": "ipython3",
   "version": "3.7.3"
  }
 },
 "nbformat": 4,
 "nbformat_minor": 2
}
