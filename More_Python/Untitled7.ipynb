{
 "cells": [
  {
   "cell_type": "code",
   "execution_count": 3,
   "metadata": {},
   "outputs": [
    {
     "name": "stdout",
     "output_type": "stream",
     "text": [
      "3\n"
     ]
    }
   ],
   "source": [
    "\n",
    "n = 1\n",
    "\n",
    "def squaresum(n) : \n",
    "  \n",
    "    # Iterate i from 1  \n",
    "    # and n finding  \n",
    "    # square of i and \n",
    "    # add to sum. \n",
    "    sm = 0\n",
    "    for i in range(1, n+1) : \n",
    "        sm = sm + (i * i) \n",
    "      \n",
    "    return sm\n",
    "\n",
    "def sumsquare(n):\n",
    "    smq = 0\n",
    "    for i in range(1, n+1):\n",
    "        smq = (i + i) ** 2\n",
    "    return smq\n",
    "\n",
    "# store the result in the following variable\n",
    "abs_difference = sumsquare(n) - squaresum(n)\n",
    "\n",
    "# print result --- do not change the following code\n",
    "print(abs_difference)"
   ]
  },
  {
   "cell_type": "code",
   "execution_count": null,
   "metadata": {},
   "outputs": [],
   "source": []
  }
 ],
 "metadata": {
  "kernelspec": {
   "display_name": "Python 3",
   "language": "python",
   "name": "python3"
  },
  "language_info": {
   "codemirror_mode": {
    "name": "ipython",
    "version": 3
   },
   "file_extension": ".py",
   "mimetype": "text/x-python",
   "name": "python",
   "nbconvert_exporter": "python",
   "pygments_lexer": "ipython3",
   "version": "3.7.3"
  }
 },
 "nbformat": 4,
 "nbformat_minor": 2
}
