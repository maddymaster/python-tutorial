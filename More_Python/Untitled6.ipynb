{
 "cells": [
  {
   "cell_type": "code",
   "execution_count": 1,
   "metadata": {},
   "outputs": [
    {
     "ename": "IndentationError",
     "evalue": "unindent does not match any outer indentation level (<tokenize>, line 6)",
     "output_type": "error",
     "traceback": [
      "\u001b[0;36m  File \u001b[0;32m\"<tokenize>\"\u001b[0;36m, line \u001b[0;32m6\u001b[0m\n\u001b[0;31m    if len(password) < 12:\u001b[0m\n\u001b[0m    ^\u001b[0m\n\u001b[0;31mIndentationError\u001b[0m\u001b[0;31m:\u001b[0m unindent does not match any outer indentation level\n"
     ]
    }
   ],
   "source": [
    "import re\n",
    "special_character = \"_\"\n",
    "def validitycheck(cid):\n",
    "    while True:\n",
    "         password = cid\n",
    "        if len(password) < 12:\n",
    "            print(\"invalid\")\n",
    "        elif re.search('[0-9]',password) is None:\n",
    "            print(\"invalid\")\n",
    "        elif re.search('[A-Z]',password) is None:\n",
    "            print(\"invalid\")\n",
    "        elif re.search(special_character,password) is None:\n",
    "            print(\"invalid\")\n",
    "        else:\n",
    "            print(\"valid\")\n",
    "        break\n",
    "\n",
    "cid=input()\n",
    "\n",
    "print(validitycheck(cid))"
   ]
  },
  {
   "cell_type": "code",
   "execution_count": 24,
   "metadata": {},
   "outputs": [],
   "source": [
    "import re\n",
    "def spec(s):\n",
    "        if not re.match('_', s):\n",
    "            print('valid')\n",
    "        elif re.search('[0-9]',password) is None:\n",
    "            print(\"invalid\")\n",
    "        elif re.search('[A-Z]',password) is None:\n",
    "            print(\"invalid\")\n",
    "        else:\n",
    "            print('invalid')"
   ]
  },
  {
   "cell_type": "code",
   "execution_count": 25,
   "metadata": {},
   "outputs": [
    {
     "name": "stdout",
     "output_type": "stream",
     "text": [
      "Valid\n"
     ]
    }
   ],
   "source": [
    "spec('A')"
   ]
  },
  {
   "cell_type": "code",
   "execution_count": 30,
   "metadata": {},
   "outputs": [],
   "source": [
    "def validitycheck(cid):\n",
    "    password = cid\n",
    "    if not len(password) < 12:\n",
    "        print(\"invalid\")\n",
    "    elif re.search('[0-9]',password) is None:\n",
    "        print(\"invalid\")\n",
    "    elif re.search('[A-Z]',password) is None:\n",
    "        print(\"invalid\")\n",
    "    elif re.search(special_character,password) is None:\n",
    "        print(\"invalid\")\n",
    "    else:\n",
    "        print(\"valid\")"
   ]
  },
  {
   "cell_type": "code",
   "execution_count": 32,
   "metadata": {},
   "outputs": [
    {
     "name": "stdout",
     "output_type": "stream",
     "text": [
      "invalid\n"
     ]
    }
   ],
   "source": [
    "validitycheck('abc_123_2ac_Adf')"
   ]
  },
  {
   "cell_type": "code",
   "execution_count": 46,
   "metadata": {
    "collapsed": true
   },
   "outputs": [],
   "source": [
    "special_character = \"^[a-z]([\\w-]*[a-z]|[\\w-.]*[a-z]{2,}|[a-z])*@[a-z]([\\w-]*[a-z]|[\\w-.]*[a-z]{2,}|[a-z]){4,}?\\.[a-z]{2,}$\"\n",
    "def validitycheck(cid):\n",
    "    password = cid\n",
    "    if re.search('[0-9]',password) is None:\n",
    "        print(\"invalid\")\n",
    "    elif re.search('[A-Z]',password) is None:\n",
    "        print(\"invalid\")\n",
    "    elif re.search(special_character,password) is None:\n",
    "        print(\"invalid\")\n",
    "    else:\n",
    "        print(\"valid\")"
   ]
  },
  {
   "cell_type": "code",
   "execution_count": 47,
   "metadata": {},
   "outputs": [
    {
     "name": "stdout",
     "output_type": "stream",
     "text": [
      "invalid\n"
     ]
    }
   ],
   "source": [
    "validitycheck('abc_123_2ac_Adf')"
   ]
  },
  {
   "cell_type": "code",
   "execution_count": 55,
   "metadata": {
    "collapsed": true
   },
   "outputs": [],
   "source": [
    "def checkmail(email):\n",
    "    if len(email) > 7:\n",
    "        if re.match(\"^[a-z]([\\w-]*[a-z]|[\\w-]*[a-z]{2,}|[a-z])*@[a-z]([\\w-]*[a-z]|[\\w-]*[a-z]{2,}|[a-z]){4,}?\\.[a-z]{2,}$\", email) != None:\n",
    "            print (\"valid\")\n",
    "        else:\n",
    "            print (\"invalid\")\n",
    "   "
   ]
  },
  {
   "cell_type": "code",
   "execution_count": 57,
   "metadata": {
    "collapsed": true
   },
   "outputs": [],
   "source": [
    "lst = [[1,2,3],[4,5],[6,7,8,9]]\n",
    "# output list \n",
    "output = [] "
   ]
  },
  {
   "cell_type": "code",
   "execution_count": 61,
   "metadata": {
    "collapsed": true
   },
   "outputs": [],
   "source": [
    "def magicReplace(N): \n",
    "    for num in range(N): \n",
    "          \n",
    "            # Short-circuit operator is used  \n",
    "            if num % 3 == 0: \n",
    "                output.append()\n",
    "                  \n",
    "            else: \n",
    "                pass"
   ]
  },
  {
   "cell_type": "code",
   "execution_count": 62,
   "metadata": {
    "collapsed": true
   },
   "outputs": [],
   "source": [
    "lst = [1,2,3,4,5,6]"
   ]
  },
  {
   "cell_type": "code",
   "execution_count": 63,
   "metadata": {},
   "outputs": [
    {
     "ename": "TypeError",
     "evalue": "'list' object cannot be interpreted as an integer",
     "output_type": "error",
     "traceback": [
      "\u001b[0;31m---------------------------------------------------------------------------\u001b[0m",
      "\u001b[0;31mTypeError\u001b[0m                                 Traceback (most recent call last)",
      "\u001b[0;32m<ipython-input-63-d94ad55859c0>\u001b[0m in \u001b[0;36m<module>\u001b[0;34m()\u001b[0m\n\u001b[0;32m----> 1\u001b[0;31m \u001b[0mmagicReplace\u001b[0m\u001b[0;34m(\u001b[0m\u001b[0mlst\u001b[0m\u001b[0;34m)\u001b[0m\u001b[0;34m\u001b[0m\u001b[0;34m\u001b[0m\u001b[0m\n\u001b[0m",
      "\u001b[0;32m<ipython-input-61-e929877eea7b>\u001b[0m in \u001b[0;36mmagicReplace\u001b[0;34m(N)\u001b[0m\n\u001b[1;32m      1\u001b[0m \u001b[0;32mdef\u001b[0m \u001b[0mmagicReplace\u001b[0m\u001b[0;34m(\u001b[0m\u001b[0mN\u001b[0m\u001b[0;34m)\u001b[0m\u001b[0;34m:\u001b[0m\u001b[0;34m\u001b[0m\u001b[0;34m\u001b[0m\u001b[0m\n\u001b[0;32m----> 2\u001b[0;31m     \u001b[0;32mfor\u001b[0m \u001b[0mnum\u001b[0m \u001b[0;32min\u001b[0m \u001b[0mrange\u001b[0m\u001b[0;34m(\u001b[0m\u001b[0mN\u001b[0m\u001b[0;34m)\u001b[0m\u001b[0;34m:\u001b[0m\u001b[0;34m\u001b[0m\u001b[0;34m\u001b[0m\u001b[0m\n\u001b[0m\u001b[1;32m      3\u001b[0m \u001b[0;34m\u001b[0m\u001b[0m\n\u001b[1;32m      4\u001b[0m             \u001b[0;31m# Short-circuit operator is used\u001b[0m\u001b[0;34m\u001b[0m\u001b[0;34m\u001b[0m\u001b[0;34m\u001b[0m\u001b[0m\n\u001b[1;32m      5\u001b[0m             \u001b[0;32mif\u001b[0m \u001b[0mnum\u001b[0m \u001b[0;34m%\u001b[0m \u001b[0;36m3\u001b[0m \u001b[0;34m==\u001b[0m \u001b[0;36m0\u001b[0m\u001b[0;34m:\u001b[0m\u001b[0;34m\u001b[0m\u001b[0;34m\u001b[0m\u001b[0m\n",
      "\u001b[0;31mTypeError\u001b[0m: 'list' object cannot be interpreted as an integer"
     ]
    }
   ],
   "source": [
    "magicReplace(lst)"
   ]
  },
  {
   "cell_type": "code",
   "execution_count": 92,
   "metadata": {},
   "outputs": [],
   "source": [
    "output = []\n",
    "def result(N): \n",
    "      \n",
    "    # iterate from 0 to N \n",
    "    for num in lst:\n",
    "        if num % 3 == 0:\n",
    "            output.append(num*num)\n",
    "        else:\n",
    "            output.append(num)\n",
    "    set(output)"
   ]
  },
  {
   "cell_type": "code",
   "execution_count": 93,
   "metadata": {},
   "outputs": [
    {
     "name": "stdout",
     "output_type": "stream",
     "text": [
      "[1, 2, 9, 4, 5, 36]\n"
     ]
    }
   ],
   "source": [
    "result(lst)\n",
    "print(output)"
   ]
  },
  {
   "cell_type": "code",
   "execution_count": 56,
   "metadata": {},
   "outputs": [
    {
     "name": "stdout",
     "output_type": "stream",
     "text": [
      "valid\n",
      "None\n"
     ]
    }
   ],
   "source": [
    "print(checkmail(\"maddy@getambee.com\"))"
   ]
  },
  {
   "cell_type": "code",
   "execution_count": null,
   "metadata": {
    "collapsed": true
   },
   "outputs": [],
   "source": [
    "def checkmail(email):\n",
    "    if len(email) > 7:\n",
    "        return bool(re.match(\"^.+@(\\[?)[a-zA-Z0-9-.]+.([a-zA-Z]{2,3}|[0-9]{1,3})(]?)$\", email))"
   ]
  }
 ],
 "metadata": {
  "kernelspec": {
   "display_name": "Python 3",
   "language": "python",
   "name": "python3"
  },
  "language_info": {
   "codemirror_mode": {
    "name": "ipython",
    "version": 3
   },
   "file_extension": ".py",
   "mimetype": "text/x-python",
   "name": "python",
   "nbconvert_exporter": "python",
   "pygments_lexer": "ipython3",
   "version": "3.6.8"
  }
 },
 "nbformat": 4,
 "nbformat_minor": 2
}
