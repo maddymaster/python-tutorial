{
 "cells": [
  {
   "cell_type": "code",
   "execution_count": 1,
   "metadata": {
    "collapsed": true
   },
   "outputs": [],
   "source": [
    "import pandas as pd\n",
    "import numpy as np\n",
    "from statistics import mode\n",
    "import matplotlib.pyplot as plt\n",
    "%matplotlib inline\n",
    "import datetime \n",
    "import seaborn as sns"
   ]
  },
  {
   "cell_type": "code",
   "execution_count": 2,
   "metadata": {
    "collapsed": true
   },
   "outputs": [],
   "source": [
    "df= pd.read_csv(\"patient_visit_data.csv\")"
   ]
  },
  {
   "cell_type": "markdown",
   "metadata": {},
   "source": [
    "### Let us explore  few rows of the given data"
   ]
  },
  {
   "cell_type": "code",
   "execution_count": 3,
   "metadata": {},
   "outputs": [
    {
     "data": {
      "text/html": [
       "<div>\n",
       "<style>\n",
       "    .dataframe thead tr:only-child th {\n",
       "        text-align: right;\n",
       "    }\n",
       "\n",
       "    .dataframe thead th {\n",
       "        text-align: left;\n",
       "    }\n",
       "\n",
       "    .dataframe tbody tr th {\n",
       "        vertical-align: top;\n",
       "    }\n",
       "</style>\n",
       "<table border=\"1\" class=\"dataframe\">\n",
       "  <thead>\n",
       "    <tr style=\"text-align: right;\">\n",
       "      <th></th>\n",
       "      <th>patient_id</th>\n",
       "      <th>appointment_taken_in</th>\n",
       "      <th>appointment_taken_out</th>\n",
       "      <th>notes_in</th>\n",
       "      <th>notes_out</th>\n",
       "      <th>waiting_area_in</th>\n",
       "      <th>waiting_area_out</th>\n",
       "      <th>examination_in</th>\n",
       "      <th>examination_out</th>\n",
       "      <th>examination_wait_in</th>\n",
       "      <th>examination_wait_out</th>\n",
       "      <th>doctor_in</th>\n",
       "      <th>doctor_out</th>\n",
       "      <th>surgery_admission_in</th>\n",
       "      <th>surgery_admission_out</th>\n",
       "      <th>survey_in</th>\n",
       "      <th>survey_out</th>\n",
       "    </tr>\n",
       "  </thead>\n",
       "  <tbody>\n",
       "    <tr>\n",
       "      <th>0</th>\n",
       "      <td>8151</td>\n",
       "      <td>12-11-2017 14:21</td>\n",
       "      <td>12-11-2017 14:23</td>\n",
       "      <td>12-11-2017 14:23</td>\n",
       "      <td>12-11-2017 14:25</td>\n",
       "      <td>12-11-2017 14:25</td>\n",
       "      <td>12-11-2017 14:48</td>\n",
       "      <td>12-11-2017 14:48</td>\n",
       "      <td>12-11-2017 14:51</td>\n",
       "      <td>12-11-2017 14:51</td>\n",
       "      <td>12-11-2017 14:55</td>\n",
       "      <td>12-11-2017 14:55</td>\n",
       "      <td>12-11-2017 15:07</td>\n",
       "      <td>12-11-2017 17:18</td>\n",
       "      <td>12-11-2017 17:32</td>\n",
       "      <td>13-11-2017 01:09</td>\n",
       "      <td>13-11-2017 01:17</td>\n",
       "    </tr>\n",
       "    <tr>\n",
       "      <th>1</th>\n",
       "      <td>3314</td>\n",
       "      <td>12-11-2017 11:43</td>\n",
       "      <td>12-11-2017 11:44</td>\n",
       "      <td>12-11-2017 11:44</td>\n",
       "      <td>12-11-2017 11:45</td>\n",
       "      <td>12-11-2017 11:45</td>\n",
       "      <td>12-11-2017 12:09</td>\n",
       "      <td>12-11-2017 12:09</td>\n",
       "      <td>12-11-2017 12:11</td>\n",
       "      <td>12-11-2017 12:11</td>\n",
       "      <td>12-11-2017 12:15</td>\n",
       "      <td>12-11-2017 12:15</td>\n",
       "      <td>12-11-2017 12:28</td>\n",
       "      <td>12-11-2017 14:28</td>\n",
       "      <td>12-11-2017 14:39</td>\n",
       "      <td>12-11-2017 22:04</td>\n",
       "      <td>12-11-2017 22:17</td>\n",
       "    </tr>\n",
       "    <tr>\n",
       "      <th>2</th>\n",
       "      <td>1763</td>\n",
       "      <td>12-11-2017 14:32</td>\n",
       "      <td>12-11-2017 14:34</td>\n",
       "      <td>12-11-2017 14:34</td>\n",
       "      <td>12-11-2017 14:36</td>\n",
       "      <td>12-11-2017 14:36</td>\n",
       "      <td>12-11-2017 14:54</td>\n",
       "      <td>12-11-2017 14:54</td>\n",
       "      <td>12-11-2017 14:58</td>\n",
       "      <td>12-11-2017 14:58</td>\n",
       "      <td>12-11-2017 15:02</td>\n",
       "      <td>12-11-2017 15:02</td>\n",
       "      <td>12-11-2017 15:17</td>\n",
       "      <td>12-11-2017 17:57</td>\n",
       "      <td>12-11-2017 18:09</td>\n",
       "      <td>13-11-2017 02:20</td>\n",
       "      <td>13-11-2017 02:28</td>\n",
       "    </tr>\n",
       "    <tr>\n",
       "      <th>3</th>\n",
       "      <td>9658</td>\n",
       "      <td>12-11-2017 14:44</td>\n",
       "      <td>12-11-2017 14:46</td>\n",
       "      <td>12-11-2017 14:46</td>\n",
       "      <td>12-11-2017 14:49</td>\n",
       "      <td>12-11-2017 14:49</td>\n",
       "      <td>12-11-2017 15:07</td>\n",
       "      <td>12-11-2017 15:07</td>\n",
       "      <td>12-11-2017 15:09</td>\n",
       "      <td>12-11-2017 15:09</td>\n",
       "      <td>12-11-2017 15:13</td>\n",
       "      <td>12-11-2017 15:13</td>\n",
       "      <td>12-11-2017 15:22</td>\n",
       "      <td>12-11-2017 17:32</td>\n",
       "      <td>12-11-2017 17:43</td>\n",
       "      <td>13-11-2017 02:08</td>\n",
       "      <td>13-11-2017 02:16</td>\n",
       "    </tr>\n",
       "    <tr>\n",
       "      <th>4</th>\n",
       "      <td>3249</td>\n",
       "      <td>12-11-2017 11:09</td>\n",
       "      <td>12-11-2017 11:11</td>\n",
       "      <td>12-11-2017 11:11</td>\n",
       "      <td>12-11-2017 11:13</td>\n",
       "      <td>12-11-2017 11:13</td>\n",
       "      <td>12-11-2017 11:38</td>\n",
       "      <td>12-11-2017 11:38</td>\n",
       "      <td>12-11-2017 11:42</td>\n",
       "      <td>12-11-2017 11:42</td>\n",
       "      <td>12-11-2017 11:45</td>\n",
       "      <td>12-11-2017 11:45</td>\n",
       "      <td>12-11-2017 12:01</td>\n",
       "      <td>12-11-2017 13:25</td>\n",
       "      <td>12-11-2017 13:38</td>\n",
       "      <td>12-11-2017 21:29</td>\n",
       "      <td>12-11-2017 21:39</td>\n",
       "    </tr>\n",
       "  </tbody>\n",
       "</table>\n",
       "</div>"
      ],
      "text/plain": [
       "   patient_id appointment_taken_in appointment_taken_out          notes_in  \\\n",
       "0        8151     12-11-2017 14:21      12-11-2017 14:23  12-11-2017 14:23   \n",
       "1        3314     12-11-2017 11:43      12-11-2017 11:44  12-11-2017 11:44   \n",
       "2        1763     12-11-2017 14:32      12-11-2017 14:34  12-11-2017 14:34   \n",
       "3        9658     12-11-2017 14:44      12-11-2017 14:46  12-11-2017 14:46   \n",
       "4        3249     12-11-2017 11:09      12-11-2017 11:11  12-11-2017 11:11   \n",
       "\n",
       "          notes_out   waiting_area_in  waiting_area_out    examination_in  \\\n",
       "0  12-11-2017 14:25  12-11-2017 14:25  12-11-2017 14:48  12-11-2017 14:48   \n",
       "1  12-11-2017 11:45  12-11-2017 11:45  12-11-2017 12:09  12-11-2017 12:09   \n",
       "2  12-11-2017 14:36  12-11-2017 14:36  12-11-2017 14:54  12-11-2017 14:54   \n",
       "3  12-11-2017 14:49  12-11-2017 14:49  12-11-2017 15:07  12-11-2017 15:07   \n",
       "4  12-11-2017 11:13  12-11-2017 11:13  12-11-2017 11:38  12-11-2017 11:38   \n",
       "\n",
       "    examination_out examination_wait_in examination_wait_out  \\\n",
       "0  12-11-2017 14:51    12-11-2017 14:51     12-11-2017 14:55   \n",
       "1  12-11-2017 12:11    12-11-2017 12:11     12-11-2017 12:15   \n",
       "2  12-11-2017 14:58    12-11-2017 14:58     12-11-2017 15:02   \n",
       "3  12-11-2017 15:09    12-11-2017 15:09     12-11-2017 15:13   \n",
       "4  12-11-2017 11:42    12-11-2017 11:42     12-11-2017 11:45   \n",
       "\n",
       "          doctor_in        doctor_out surgery_admission_in  \\\n",
       "0  12-11-2017 14:55  12-11-2017 15:07     12-11-2017 17:18   \n",
       "1  12-11-2017 12:15  12-11-2017 12:28     12-11-2017 14:28   \n",
       "2  12-11-2017 15:02  12-11-2017 15:17     12-11-2017 17:57   \n",
       "3  12-11-2017 15:13  12-11-2017 15:22     12-11-2017 17:32   \n",
       "4  12-11-2017 11:45  12-11-2017 12:01     12-11-2017 13:25   \n",
       "\n",
       "  surgery_admission_out         survey_in        survey_out  \n",
       "0      12-11-2017 17:32  13-11-2017 01:09  13-11-2017 01:17  \n",
       "1      12-11-2017 14:39  12-11-2017 22:04  12-11-2017 22:17  \n",
       "2      12-11-2017 18:09  13-11-2017 02:20  13-11-2017 02:28  \n",
       "3      12-11-2017 17:43  13-11-2017 02:08  13-11-2017 02:16  \n",
       "4      12-11-2017 13:38  12-11-2017 21:29  12-11-2017 21:39  "
      ]
     },
     "execution_count": 3,
     "metadata": {},
     "output_type": "execute_result"
    }
   ],
   "source": [
    "df.head()"
   ]
  },
  {
   "cell_type": "markdown",
   "metadata": {},
   "source": [
    "### Let us find out what is the data types of these columns"
   ]
  },
  {
   "cell_type": "code",
   "execution_count": 4,
   "metadata": {},
   "outputs": [
    {
     "data": {
      "text/plain": [
       "patient_id                int64\n",
       "appointment_taken_in     object\n",
       "appointment_taken_out    object\n",
       "notes_in                 object\n",
       "notes_out                object\n",
       "waiting_area_in          object\n",
       "waiting_area_out         object\n",
       "examination_in           object\n",
       "examination_out          object\n",
       "examination_wait_in      object\n",
       "examination_wait_out     object\n",
       "doctor_in                object\n",
       "doctor_out               object\n",
       "surgery_admission_in     object\n",
       "surgery_admission_out    object\n",
       "survey_in                object\n",
       "survey_out               object\n",
       "dtype: object"
      ]
     },
     "execution_count": 4,
     "metadata": {},
     "output_type": "execute_result"
    }
   ],
   "source": [
    "df.dtypes"
   ]
  },
  {
   "cell_type": "markdown",
   "metadata": {},
   "source": [
    "### Except 'patient_id' all other columns are object. Objects of pandas dataframe are mostly strings. Let us verify this with few columns"
   ]
  },
  {
   "cell_type": "code",
   "execution_count": 5,
   "metadata": {
    "collapsed": true
   },
   "outputs": [],
   "source": [
    "from pandas.api.types import is_string_dtype\n",
    "from pandas.api.types import is_numeric_dtype"
   ]
  },
  {
   "cell_type": "code",
   "execution_count": 6,
   "metadata": {},
   "outputs": [
    {
     "data": {
      "text/plain": [
       "True"
      ]
     },
     "execution_count": 6,
     "metadata": {},
     "output_type": "execute_result"
    }
   ],
   "source": [
    "is_string_dtype(df['appointment_taken_in'])"
   ]
  },
  {
   "cell_type": "code",
   "execution_count": 7,
   "metadata": {},
   "outputs": [
    {
     "data": {
      "text/plain": [
       "True"
      ]
     },
     "execution_count": 7,
     "metadata": {},
     "output_type": "execute_result"
    }
   ],
   "source": [
    "is_string_dtype(df['examination_wait_in'])"
   ]
  },
  {
   "cell_type": "markdown",
   "metadata": {},
   "source": [
    "### We can see that these strings represent date and time. So we need to convert them to datetime data type . For this we use strptime() function of datetime.Python strptime() is a class method in datetime class. Its syntax is:  datetime.strptime(date_string, format) .Both the arguments are mandatory and should be string."
   ]
  },
  {
   "cell_type": "markdown",
   "metadata": {},
   "source": [
    "###  Now let us see an example to understand lambda , map and list together"
   ]
  },
  {
   "cell_type": "markdown",
   "metadata": {},
   "source": [
    "### x = [2, 5, 11, 25, 1, 3, 4, 7, 9, 6] \n",
    "### final_list = list(map(lambda x: (x*2) , x)) \n",
    "### print(final_list) "
   ]
  },
  {
   "cell_type": "code",
   "execution_count": 8,
   "metadata": {},
   "outputs": [
    {
     "name": "stdout",
     "output_type": "stream",
     "text": [
      "[102.56, 97.7, 99.14, 100.03999999999999]\n"
     ]
    }
   ],
   "source": [
    "Celsius = [39.2, 36.5, 37.3, 37.8]\n",
    "Fahrenheit = list(map(lambda x: (float(9)/5)*x + 32, Celsius))\n",
    "print (Fahrenheit)"
   ]
  },
  {
   "cell_type": "code",
   "execution_count": 9,
   "metadata": {},
   "outputs": [
    {
     "name": "stdout",
     "output_type": "stream",
     "text": [
      "[4, 10, 22, 50, 2, 6, 8, 14, 18, 12]\n"
     ]
    }
   ],
   "source": [
    "x= [2, 5, 11, 25, 1, 3, 4, 7, 9, 6]\n",
    "final_list = list(map(lambda x: (x*2) , x))\n",
    "print(final_list)"
   ]
  },
  {
   "cell_type": "code",
   "execution_count": 10,
   "metadata": {
    "collapsed": true
   },
   "outputs": [],
   "source": [
    "df['appointment_taken_out']= list(map(lambda x: datetime.datetime.strptime(x, '%m-%d-%Y %H:%M'), df['appointment_taken_out']))"
   ]
  },
  {
   "cell_type": "code",
   "execution_count": 11,
   "metadata": {
    "collapsed": true
   },
   "outputs": [],
   "source": [
    "df['appointment_taken_in']= list(map(lambda x: datetime.datetime.strptime(x, '%m-%d-%Y %H:%M'), df['appointment_taken_in']))"
   ]
  },
  {
   "cell_type": "code",
   "execution_count": 12,
   "metadata": {
    "collapsed": true
   },
   "outputs": [],
   "source": [
    "appointment_taken_time =(df['appointment_taken_out']-df['appointment_taken_in'])"
   ]
  },
  {
   "cell_type": "markdown",
   "metadata": {},
   "source": [
    "#### Let us see the data type of appointment_taken_time"
   ]
  },
  {
   "cell_type": "code",
   "execution_count": 13,
   "metadata": {},
   "outputs": [
    {
     "data": {
      "text/plain": [
       "dtype('<m8[ns]')"
      ]
     },
     "execution_count": 13,
     "metadata": {},
     "output_type": "execute_result"
    }
   ],
   "source": [
    "appointment_taken_time.dtype"
   ]
  },
  {
   "cell_type": "code",
   "execution_count": 14,
   "metadata": {},
   "outputs": [
    {
     "data": {
      "text/plain": [
       "0   00:02:00\n",
       "1   00:01:00\n",
       "2   00:02:00\n",
       "3   00:02:00\n",
       "4   00:02:00\n",
       "dtype: timedelta64[ns]"
      ]
     },
     "execution_count": 14,
     "metadata": {},
     "output_type": "execute_result"
    }
   ],
   "source": [
    "appointment_taken_time.head()"
   ]
  },
  {
   "cell_type": "markdown",
   "metadata": {},
   "source": [
    "### This is timedelta. We will not be able to do any plotting with this. So we need to convert it to plain number representing minutes. We do it using astype('m8(m)')"
   ]
  },
  {
   "cell_type": "code",
   "execution_count": 15,
   "metadata": {
    "collapsed": true
   },
   "outputs": [],
   "source": [
    "##appointment_taken_time"
   ]
  },
  {
   "cell_type": "code",
   "execution_count": 16,
   "metadata": {
    "collapsed": true
   },
   "outputs": [],
   "source": [
    "##appointment_taken_time.astype('m8[m]')"
   ]
  },
  {
   "cell_type": "code",
   "execution_count": 17,
   "metadata": {
    "collapsed": true
   },
   "outputs": [],
   "source": [
    "###appointment_taken_time.dtype"
   ]
  },
  {
   "cell_type": "code",
   "execution_count": 18,
   "metadata": {
    "collapsed": true
   },
   "outputs": [],
   "source": [
    "##np.dtype('datetime64[ns]') == np.dtype('<M8[ns]')"
   ]
  },
  {
   "cell_type": "code",
   "execution_count": 19,
   "metadata": {},
   "outputs": [
    {
     "data": {
      "text/plain": [
       "(array([  40.,    0.,    0.,  144.,    0.,    0.,   26.,    0.,    0.,    2.]),\n",
       " array([ 1. ,  1.3,  1.6,  1.9,  2.2,  2.5,  2.8,  3.1,  3.4,  3.7,  4. ]),\n",
       " <a list of 10 Patch objects>)"
      ]
     },
     "execution_count": 19,
     "metadata": {},
     "output_type": "execute_result"
    },
    {
     "data": {
      "image/png": "[encoded data removed]",
      "text/plain": [
       "<matplotlib.figure.Figure at 0x1c409d59710>"
      ]
     },
     "metadata": {},
     "output_type": "display_data"
    }
   ],
   "source": [
    "plt.hist(appointment_taken_time.astype('m8[m]'))"
   ]
  },
  {
   "cell_type": "code",
   "execution_count": 20,
   "metadata": {},
   "outputs": [
    {
     "data": {
      "text/plain": [
       "<matplotlib.axes._subplots.AxesSubplot at 0x1c409d7cac8>"
      ]
     },
     "execution_count": 20,
     "metadata": {},
     "output_type": "execute_result"
    },
    {
     "data": {
      "image/png": "[encoded data removed]",
      "text/plain": [
       "<matplotlib.figure.Figure at 0x1c409e26cc0>"
      ]
     },
     "metadata": {},
     "output_type": "display_data"
    }
   ],
   "source": [
    "df_appointment_taken_time = pd.DataFrame(appointment_taken_time.astype('m8[m]'))\n",
    "df_appointment_taken_time.plot.box(grid='True')"
   ]
  },
  {
   "cell_type": "code",
   "execution_count": 21,
   "metadata": {},
   "outputs": [
    {
     "data": {
      "text/html": [
       "<div>\n",
       "<style>\n",
       "    .dataframe thead tr:only-child th {\n",
       "        text-align: right;\n",
       "    }\n",
       "\n",
       "    .dataframe thead th {\n",
       "        text-align: left;\n",
       "    }\n",
       "\n",
       "    .dataframe tbody tr th {\n",
       "        vertical-align: top;\n",
       "    }\n",
       "</style>\n",
       "<table border=\"1\" class=\"dataframe\">\n",
       "  <thead>\n",
       "    <tr style=\"text-align: right;\">\n",
       "      <th></th>\n",
       "      <th>count</th>\n",
       "      <th>mean</th>\n",
       "      <th>std</th>\n",
       "      <th>min</th>\n",
       "      <th>25%</th>\n",
       "      <th>50%</th>\n",
       "      <th>75%</th>\n",
       "      <th>max</th>\n",
       "    </tr>\n",
       "  </thead>\n",
       "  <tbody>\n",
       "    <tr>\n",
       "      <th>0</th>\n",
       "      <td>212.0</td>\n",
       "      <td>1.95283</td>\n",
       "      <td>0.590318</td>\n",
       "      <td>1.0</td>\n",
       "      <td>2.0</td>\n",
       "      <td>2.0</td>\n",
       "      <td>2.0</td>\n",
       "      <td>4.0</td>\n",
       "    </tr>\n",
       "  </tbody>\n",
       "</table>\n",
       "</div>"
      ],
      "text/plain": [
       "   count     mean       std  min  25%  50%  75%  max\n",
       "0  212.0  1.95283  0.590318  1.0  2.0  2.0  2.0  4.0"
      ]
     },
     "execution_count": 21,
     "metadata": {},
     "output_type": "execute_result"
    }
   ],
   "source": [
    "df_appointment_taken_time.describe().T"
   ]
  },
  {
   "cell_type": "markdown",
   "metadata": {},
   "source": [
    "### Similarly Notes Time can be analysed"
   ]
  },
  {
   "cell_type": "code",
   "execution_count": 22,
   "metadata": {
    "collapsed": true
   },
   "outputs": [],
   "source": [
    "df['notes_in']= list(map(lambda x: datetime.datetime.strptime(x, '%m-%d-%Y %H:%M'), df['notes_in']))"
   ]
  },
  {
   "cell_type": "code",
   "execution_count": 23,
   "metadata": {
    "collapsed": true
   },
   "outputs": [],
   "source": [
    "df['notes_out']= list(map(lambda x: datetime.datetime.strptime(x, '%m-%d-%Y %H:%M'), df['notes_out']))"
   ]
  },
  {
   "cell_type": "code",
   "execution_count": 24,
   "metadata": {
    "collapsed": true
   },
   "outputs": [],
   "source": [
    "notes_time =df['notes_out']-df['notes_in']"
   ]
  },
  {
   "cell_type": "code",
   "execution_count": 25,
   "metadata": {},
   "outputs": [
    {
     "data": {
      "text/plain": [
       "<matplotlib.axes._subplots.AxesSubplot at 0x1c409f1d630>"
      ]
     },
     "execution_count": 25,
     "metadata": {},
     "output_type": "execute_result"
    },
    {
     "data": {
      "image/png": "[encoded data removed]",
      "text/plain": [
       "<matplotlib.figure.Figure at 0x1c409edb7f0>"
      ]
     },
     "metadata": {},
     "output_type": "display_data"
    }
   ],
   "source": [
    "df_notes_time= pd.DataFrame(notes_time.astype('m8[m]'))\n",
    "df_notes_time.plot.box(grid='True')"
   ]
  },
  {
   "cell_type": "code",
   "execution_count": 26,
   "metadata": {},
   "outputs": [
    {
     "data": {
      "text/html": [
       "<div>\n",
       "<style>\n",
       "    .dataframe thead tr:only-child th {\n",
       "        text-align: right;\n",
       "    }\n",
       "\n",
       "    .dataframe thead th {\n",
       "        text-align: left;\n",
       "    }\n",
       "\n",
       "    .dataframe tbody tr th {\n",
       "        vertical-align: top;\n",
       "    }\n",
       "</style>\n",
       "<table border=\"1\" class=\"dataframe\">\n",
       "  <thead>\n",
       "    <tr style=\"text-align: right;\">\n",
       "      <th></th>\n",
       "      <th>count</th>\n",
       "      <th>mean</th>\n",
       "      <th>std</th>\n",
       "      <th>min</th>\n",
       "      <th>25%</th>\n",
       "      <th>50%</th>\n",
       "      <th>75%</th>\n",
       "      <th>max</th>\n",
       "    </tr>\n",
       "  </thead>\n",
       "  <tbody>\n",
       "    <tr>\n",
       "      <th>0</th>\n",
       "      <td>212.0</td>\n",
       "      <td>2.033019</td>\n",
       "      <td>0.64127</td>\n",
       "      <td>0.0</td>\n",
       "      <td>2.0</td>\n",
       "      <td>2.0</td>\n",
       "      <td>2.0</td>\n",
       "      <td>3.0</td>\n",
       "    </tr>\n",
       "  </tbody>\n",
       "</table>\n",
       "</div>"
      ],
      "text/plain": [
       "   count      mean      std  min  25%  50%  75%  max\n",
       "0  212.0  2.033019  0.64127  0.0  2.0  2.0  2.0  3.0"
      ]
     },
     "execution_count": 26,
     "metadata": {},
     "output_type": "execute_result"
    }
   ],
   "source": [
    "df_notes_time.describe().T"
   ]
  },
  {
   "cell_type": "code",
   "execution_count": 27,
   "metadata": {},
   "outputs": [
    {
     "data": {
      "text/plain": [
       "(array([   1.,    0.,    0.,   37.,    0.,    0.,  128.,    0.,    0.,   46.]),\n",
       " array([ 0. ,  0.3,  0.6,  0.9,  1.2,  1.5,  1.8,  2.1,  2.4,  2.7,  3. ]),\n",
       " <a list of 10 Patch objects>)"
      ]
     },
     "execution_count": 27,
     "metadata": {},
     "output_type": "execute_result"
    },
    {
     "data": {
      "image/png": "[encoded data removed]",
      "text/plain": [
       "<matplotlib.figure.Figure at 0x1c40a1f2da0>"
      ]
     },
     "metadata": {},
     "output_type": "display_data"
    }
   ],
   "source": [
    "plt.hist(notes_time.astype('m8[m]'))"
   ]
  },
  {
   "cell_type": "markdown",
   "metadata": {},
   "source": [
    "### Analysis of time spent in Waiting"
   ]
  },
  {
   "cell_type": "code",
   "execution_count": 28,
   "metadata": {
    "collapsed": true
   },
   "outputs": [],
   "source": [
    "df['waiting_area_in']= list(map(lambda x: datetime.datetime.strptime(x, '%m-%d-%Y %H:%M'), df['waiting_area_in']))"
   ]
  },
  {
   "cell_type": "code",
   "execution_count": 29,
   "metadata": {
    "collapsed": true
   },
   "outputs": [],
   "source": [
    "df['waiting_area_out']= list(map(lambda x: datetime.datetime.strptime(x, '%m-%d-%Y %H:%M'), df['waiting_area_out']))"
   ]
  },
  {
   "cell_type": "code",
   "execution_count": 30,
   "metadata": {
    "collapsed": true
   },
   "outputs": [],
   "source": [
    "wait_area_time =df['waiting_area_out']-df['waiting_area_in']"
   ]
  },
  {
   "cell_type": "code",
   "execution_count": 31,
   "metadata": {},
   "outputs": [
    {
     "data": {
      "text/plain": [
       "<matplotlib.axes._subplots.AxesSubplot at 0x1c40a25aa58>"
      ]
     },
     "execution_count": 31,
     "metadata": {},
     "output_type": "execute_result"
    },
    {
     "data": {
      "image/png": "[encoded data removed]",
      "text/plain": [
       "<matplotlib.figure.Figure at 0x1c40a2a0be0>"
      ]
     },
     "metadata": {},
     "output_type": "display_data"
    }
   ],
   "source": [
    "df_wait_area_time =pd.DataFrame(wait_area_time.astype('m8[m]'))\n",
    "df_wait_area_time.plot.box(grid='True')"
   ]
  },
  {
   "cell_type": "code",
   "execution_count": 32,
   "metadata": {},
   "outputs": [
    {
     "data": {
      "text/html": [
       "<div>\n",
       "<style>\n",
       "    .dataframe thead tr:only-child th {\n",
       "        text-align: right;\n",
       "    }\n",
       "\n",
       "    .dataframe thead th {\n",
       "        text-align: left;\n",
       "    }\n",
       "\n",
       "    .dataframe tbody tr th {\n",
       "        vertical-align: top;\n",
       "    }\n",
       "</style>\n",
       "<table border=\"1\" class=\"dataframe\">\n",
       "  <thead>\n",
       "    <tr style=\"text-align: right;\">\n",
       "      <th></th>\n",
       "      <th>count</th>\n",
       "      <th>mean</th>\n",
       "      <th>std</th>\n",
       "      <th>min</th>\n",
       "      <th>25%</th>\n",
       "      <th>50%</th>\n",
       "      <th>75%</th>\n",
       "      <th>max</th>\n",
       "    </tr>\n",
       "  </thead>\n",
       "  <tbody>\n",
       "    <tr>\n",
       "      <th>0</th>\n",
       "      <td>212.0</td>\n",
       "      <td>24.679245</td>\n",
       "      <td>5.063665</td>\n",
       "      <td>11.0</td>\n",
       "      <td>21.0</td>\n",
       "      <td>25.0</td>\n",
       "      <td>29.0</td>\n",
       "      <td>37.0</td>\n",
       "    </tr>\n",
       "  </tbody>\n",
       "</table>\n",
       "</div>"
      ],
      "text/plain": [
       "   count       mean       std   min   25%   50%   75%   max\n",
       "0  212.0  24.679245  5.063665  11.0  21.0  25.0  29.0  37.0"
      ]
     },
     "execution_count": 32,
     "metadata": {},
     "output_type": "execute_result"
    }
   ],
   "source": [
    "df_wait_area_time.describe().T"
   ]
  },
  {
   "cell_type": "code",
   "execution_count": 33,
   "metadata": {},
   "outputs": [
    {
     "data": {
      "text/plain": [
       "(array([  2.,   8.,  20.,  31.,  25.,  47.,  38.,  23.,  14.,   4.]),\n",
       " array([ 11. ,  13.6,  16.2,  18.8,  21.4,  24. ,  26.6,  29.2,  31.8,\n",
       "         34.4,  37. ]),\n",
       " <a list of 10 Patch objects>)"
      ]
     },
     "execution_count": 33,
     "metadata": {},
     "output_type": "execute_result"
    },
    {
     "data": {
      "image/png": "[encoded data removed]",
      "text/plain": [
       "<matplotlib.figure.Figure at 0x1c40a2e6198>"
      ]
     },
     "metadata": {},
     "output_type": "display_data"
    }
   ],
   "source": [
    "plt.hist(wait_area_time.astype('m8[m]'))"
   ]
  },
  {
   "cell_type": "markdown",
   "metadata": {},
   "source": [
    "### Analysis of time spent in Medical examination"
   ]
  },
  {
   "cell_type": "code",
   "execution_count": 34,
   "metadata": {
    "collapsed": true
   },
   "outputs": [],
   "source": [
    "df['examination_in']= list(map(lambda x: datetime.datetime.strptime(x, '%m-%d-%Y %H:%M'), df['examination_in']))"
   ]
  },
  {
   "cell_type": "code",
   "execution_count": 35,
   "metadata": {
    "collapsed": true
   },
   "outputs": [],
   "source": [
    "df['examination_out']= list(map(lambda x: datetime.datetime.strptime(x, '%m-%d-%Y %H:%M'), df['examination_out']))"
   ]
  },
  {
   "cell_type": "code",
   "execution_count": 36,
   "metadata": {
    "collapsed": true
   },
   "outputs": [],
   "source": [
    "examination_time =df['examination_out']-df['examination_in']"
   ]
  },
  {
   "cell_type": "code",
   "execution_count": 37,
   "metadata": {
    "collapsed": true
   },
   "outputs": [],
   "source": [
    "df_examination_time =pd.DataFrame(examination_time.astype('m8[m]'))"
   ]
  },
  {
   "cell_type": "code",
   "execution_count": 38,
   "metadata": {},
   "outputs": [
    {
     "data": {
      "text/plain": [
       "<matplotlib.axes._subplots.AxesSubplot at 0x1c40a385908>"
      ]
     },
     "execution_count": 38,
     "metadata": {},
     "output_type": "execute_result"
    },
    {
     "data": {
      "image/png": "[encoded data removed]",
      "text/plain": [
       "<matplotlib.figure.Figure at 0x1c40a2b3828>"
      ]
     },
     "metadata": {},
     "output_type": "display_data"
    }
   ],
   "source": [
    "df_examination_time.plot.box(grid='True')"
   ]
  },
  {
   "cell_type": "code",
   "execution_count": 39,
   "metadata": {},
   "outputs": [
    {
     "data": {
      "text/plain": [
       "(array([   1.,    0.,   43.,    0.,    0.,  123.,    0.,   44.,    0.,    1.]),\n",
       " array([ 1. ,  1.4,  1.8,  2.2,  2.6,  3. ,  3.4,  3.8,  4.2,  4.6,  5. ]),\n",
       " <a list of 10 Patch objects>)"
      ]
     },
     "execution_count": 39,
     "metadata": {},
     "output_type": "execute_result"
    },
    {
     "data": {
      "image/png": "[encoded data removed]",
      "text/plain": [
       "<matplotlib.figure.Figure at 0x1c40a3b4780>"
      ]
     },
     "metadata": {},
     "output_type": "display_data"
    }
   ],
   "source": [
    "plt.hist(examination_time.astype('m8[m]'))"
   ]
  },
  {
   "cell_type": "code",
   "execution_count": 40,
   "metadata": {},
   "outputs": [
    {
     "data": {
      "text/html": [
       "<div>\n",
       "<style>\n",
       "    .dataframe thead tr:only-child th {\n",
       "        text-align: right;\n",
       "    }\n",
       "\n",
       "    .dataframe thead th {\n",
       "        text-align: left;\n",
       "    }\n",
       "\n",
       "    .dataframe tbody tr th {\n",
       "        vertical-align: top;\n",
       "    }\n",
       "</style>\n",
       "<table border=\"1\" class=\"dataframe\">\n",
       "  <thead>\n",
       "    <tr style=\"text-align: right;\">\n",
       "      <th></th>\n",
       "      <th>count</th>\n",
       "      <th>mean</th>\n",
       "      <th>std</th>\n",
       "      <th>min</th>\n",
       "      <th>25%</th>\n",
       "      <th>50%</th>\n",
       "      <th>75%</th>\n",
       "      <th>max</th>\n",
       "    </tr>\n",
       "  </thead>\n",
       "  <tbody>\n",
       "    <tr>\n",
       "      <th>0</th>\n",
       "      <td>212.0</td>\n",
       "      <td>3.004717</td>\n",
       "      <td>0.67098</td>\n",
       "      <td>1.0</td>\n",
       "      <td>3.0</td>\n",
       "      <td>3.0</td>\n",
       "      <td>3.0</td>\n",
       "      <td>5.0</td>\n",
       "    </tr>\n",
       "  </tbody>\n",
       "</table>\n",
       "</div>"
      ],
      "text/plain": [
       "   count      mean      std  min  25%  50%  75%  max\n",
       "0  212.0  3.004717  0.67098  1.0  3.0  3.0  3.0  5.0"
      ]
     },
     "execution_count": 40,
     "metadata": {},
     "output_type": "execute_result"
    }
   ],
   "source": [
    "df_examination_time.describe().T"
   ]
  },
  {
   "cell_type": "markdown",
   "metadata": {},
   "source": [
    "### Examination Waiting time"
   ]
  },
  {
   "cell_type": "code",
   "execution_count": 41,
   "metadata": {
    "collapsed": true
   },
   "outputs": [],
   "source": [
    "df['examination_wait_in']= list(map(lambda x: datetime.datetime.strptime(x, '%m-%d-%Y %H:%M'), df['examination_wait_in']))"
   ]
  },
  {
   "cell_type": "code",
   "execution_count": 42,
   "metadata": {
    "collapsed": true
   },
   "outputs": [],
   "source": [
    "df['examination_wait_out']= list(map(lambda x: datetime.datetime.strptime(x, '%m-%d-%Y %H:%M'), df['examination_wait_out']))"
   ]
  },
  {
   "cell_type": "code",
   "execution_count": 43,
   "metadata": {
    "collapsed": true
   },
   "outputs": [],
   "source": [
    "examination_wait_time =df['examination_wait_out']-df['examination_wait_in']"
   ]
  },
  {
   "cell_type": "code",
   "execution_count": 44,
   "metadata": {
    "collapsed": true
   },
   "outputs": [],
   "source": [
    "df_examination_wait_time =pd.DataFrame(examination_wait_time.astype('m8[m]'))\n"
   ]
  },
  {
   "cell_type": "code",
   "execution_count": 45,
   "metadata": {},
   "outputs": [
    {
     "data": {
      "text/plain": [
       "<matplotlib.axes._subplots.AxesSubplot at 0x1c40a466860>"
      ]
     },
     "execution_count": 45,
     "metadata": {},
     "output_type": "execute_result"
    },
    {
     "data": {
      "image/png": "[encoded data removed]",
      "text/plain": [
       "<matplotlib.figure.Figure at 0x1c40a473550>"
      ]
     },
     "metadata": {},
     "output_type": "display_data"
    }
   ],
   "source": [
    "df_examination_wait_time.plot.box(grid='True')"
   ]
  },
  {
   "cell_type": "code",
   "execution_count": 46,
   "metadata": {},
   "outputs": [
    {
     "data": {
      "text/html": [
       "<div>\n",
       "<style>\n",
       "    .dataframe thead tr:only-child th {\n",
       "        text-align: right;\n",
       "    }\n",
       "\n",
       "    .dataframe thead th {\n",
       "        text-align: left;\n",
       "    }\n",
       "\n",
       "    .dataframe tbody tr th {\n",
       "        vertical-align: top;\n",
       "    }\n",
       "</style>\n",
       "<table border=\"1\" class=\"dataframe\">\n",
       "  <thead>\n",
       "    <tr style=\"text-align: right;\">\n",
       "      <th></th>\n",
       "      <th>count</th>\n",
       "      <th>mean</th>\n",
       "      <th>std</th>\n",
       "      <th>min</th>\n",
       "      <th>25%</th>\n",
       "      <th>50%</th>\n",
       "      <th>75%</th>\n",
       "      <th>max</th>\n",
       "    </tr>\n",
       "  </thead>\n",
       "  <tbody>\n",
       "    <tr>\n",
       "      <th>0</th>\n",
       "      <td>212.0</td>\n",
       "      <td>4.966981</td>\n",
       "      <td>1.107426</td>\n",
       "      <td>2.0</td>\n",
       "      <td>4.0</td>\n",
       "      <td>5.0</td>\n",
       "      <td>6.0</td>\n",
       "      <td>8.0</td>\n",
       "    </tr>\n",
       "  </tbody>\n",
       "</table>\n",
       "</div>"
      ],
      "text/plain": [
       "   count      mean       std  min  25%  50%  75%  max\n",
       "0  212.0  4.966981  1.107426  2.0  4.0  5.0  6.0  8.0"
      ]
     },
     "execution_count": 46,
     "metadata": {},
     "output_type": "execute_result"
    }
   ],
   "source": [
    "df_examination_wait_time.describe().T"
   ]
  },
  {
   "cell_type": "code",
   "execution_count": 47,
   "metadata": {},
   "outputs": [
    {
     "data": {
      "text/plain": [
       "(array([  1.,  16.,   0.,  57.,   0.,  72.,  50.,   0.,  13.,   3.]),\n",
       " array([ 2. ,  2.6,  3.2,  3.8,  4.4,  5. ,  5.6,  6.2,  6.8,  7.4,  8. ]),\n",
       " <a list of 10 Patch objects>)"
      ]
     },
     "execution_count": 47,
     "metadata": {},
     "output_type": "execute_result"
    },
    {
     "data": {
      "image/png": "[encoded data removed]",
      "text/plain": [
       "<matplotlib.figure.Figure at 0x1c40a3f5828>"
      ]
     },
     "metadata": {},
     "output_type": "display_data"
    }
   ],
   "source": [
    "plt.hist(examination_wait_time.astype('m8[m]'))"
   ]
  },
  {
   "cell_type": "markdown",
   "metadata": {},
   "source": [
    "### Analysis of time spent with doctor"
   ]
  },
  {
   "cell_type": "code",
   "execution_count": 48,
   "metadata": {
    "collapsed": true
   },
   "outputs": [],
   "source": [
    "df['doctor_in']= list(map(lambda x: datetime.datetime.strptime(x, '%m-%d-%Y %H:%M'), df['doctor_in']))"
   ]
  },
  {
   "cell_type": "code",
   "execution_count": 49,
   "metadata": {
    "collapsed": true
   },
   "outputs": [],
   "source": [
    "df['doctor_out']= list(map(lambda x: datetime.datetime.strptime(x, '%m-%d-%Y %H:%M'), df['doctor_out']))"
   ]
  },
  {
   "cell_type": "code",
   "execution_count": 50,
   "metadata": {
    "collapsed": true
   },
   "outputs": [],
   "source": [
    "doctor_time =df['doctor_out']-df['doctor_in']"
   ]
  },
  {
   "cell_type": "code",
   "execution_count": 51,
   "metadata": {
    "collapsed": true
   },
   "outputs": [],
   "source": [
    "df_doctor_time =pd.DataFrame(doctor_time.astype('m8[m]'))"
   ]
  },
  {
   "cell_type": "code",
   "execution_count": 52,
   "metadata": {},
   "outputs": [
    {
     "data": {
      "text/html": [
       "<div>\n",
       "<style>\n",
       "    .dataframe thead tr:only-child th {\n",
       "        text-align: right;\n",
       "    }\n",
       "\n",
       "    .dataframe thead th {\n",
       "        text-align: left;\n",
       "    }\n",
       "\n",
       "    .dataframe tbody tr th {\n",
       "        vertical-align: top;\n",
       "    }\n",
       "</style>\n",
       "<table border=\"1\" class=\"dataframe\">\n",
       "  <thead>\n",
       "    <tr style=\"text-align: right;\">\n",
       "      <th></th>\n",
       "      <th>count</th>\n",
       "      <th>mean</th>\n",
       "      <th>std</th>\n",
       "      <th>min</th>\n",
       "      <th>25%</th>\n",
       "      <th>50%</th>\n",
       "      <th>75%</th>\n",
       "      <th>max</th>\n",
       "    </tr>\n",
       "  </thead>\n",
       "  <tbody>\n",
       "    <tr>\n",
       "      <th>0</th>\n",
       "      <td>212.0</td>\n",
       "      <td>12.353774</td>\n",
       "      <td>2.407007</td>\n",
       "      <td>7.0</td>\n",
       "      <td>11.0</td>\n",
       "      <td>12.0</td>\n",
       "      <td>14.0</td>\n",
       "      <td>19.0</td>\n",
       "    </tr>\n",
       "  </tbody>\n",
       "</table>\n",
       "</div>"
      ],
      "text/plain": [
       "   count       mean       std  min   25%   50%   75%   max\n",
       "0  212.0  12.353774  2.407007  7.0  11.0  12.0  14.0  19.0"
      ]
     },
     "execution_count": 52,
     "metadata": {},
     "output_type": "execute_result"
    }
   ],
   "source": [
    "df_doctor_time.describe().T"
   ]
  },
  {
   "cell_type": "code",
   "execution_count": 53,
   "metadata": {},
   "outputs": [
    {
     "data": {
      "text/plain": [
       "<matplotlib.axes._subplots.AxesSubplot at 0x1c40a55ab38>"
      ]
     },
     "execution_count": 53,
     "metadata": {},
     "output_type": "execute_result"
    },
    {
     "data": {
      "image/png": "[encoded data removed]",
      "text/plain": [
       "<matplotlib.figure.Figure at 0x1c40a3495c0>"
      ]
     },
     "metadata": {},
     "output_type": "display_data"
    }
   ],
   "source": [
    "df_doctor_time.plot.box(grid='True')"
   ]
  },
  {
   "cell_type": "code",
   "execution_count": 54,
   "metadata": {},
   "outputs": [
    {
     "data": {
      "text/plain": [
       "(array([ 10.,  16.,  26.,  24.,  37.,  59.,  20.,  12.,   4.,   4.]),\n",
       " array([  7. ,   8.2,   9.4,  10.6,  11.8,  13. ,  14.2,  15.4,  16.6,\n",
       "         17.8,  19. ]),\n",
       " <a list of 10 Patch objects>)"
      ]
     },
     "execution_count": 54,
     "metadata": {},
     "output_type": "execute_result"
    },
    {
     "data": {
      "image/png": "[encoded data removed]",
      "text/plain": [
       "<matplotlib.figure.Figure at 0x1c40a56f5f8>"
      ]
     },
     "metadata": {},
     "output_type": "display_data"
    }
   ],
   "source": [
    "plt.hist(doctor_time.astype('m8[m]'))"
   ]
  },
  {
   "cell_type": "code",
   "execution_count": null,
   "metadata": {
    "collapsed": true
   },
   "outputs": [],
   "source": []
  },
  {
   "cell_type": "code",
   "execution_count": null,
   "metadata": {
    "collapsed": true
   },
   "outputs": [],
   "source": []
  }
 ],
 "metadata": {
  "kernelspec": {
   "display_name": "Python 3",
   "language": "python",
   "name": "python3"
  },
  "language_info": {
   "codemirror_mode": {
    "name": "ipython",
    "version": 3
   },
   "file_extension": ".py",
   "mimetype": "text/x-python",
   "name": "python",
   "nbconvert_exporter": "python",
   "pygments_lexer": "ipython3",
   "version": "3.6.3"
  }
 },
 "nbformat": 4,
 "nbformat_minor": 2
}
