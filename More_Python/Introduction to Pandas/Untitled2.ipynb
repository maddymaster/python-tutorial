{
 "cells": [
  {
   "cell_type": "code",
   "execution_count": 2,
   "metadata": {
    "collapsed": false
   },
   "outputs": [],
   "source": [
    "import pandas as pd \n",
    "#url=input()\n",
    "df=pd.read_csv('https://media-doselect.s3.amazonaws.com/generic/E4QbGd18ORJpbZZkndZ5bdKBn/googleplaystore_user_reviews.csv')\n",
    "numerics = ['int16', 'int32', 'int64', 'float16', 'float32', 'float64']\n",
    "new_df=df.select_dtypes(exclude=numerics)"
   ]
  },
  {
   "cell_type": "code",
   "execution_count": 6,
   "metadata": {
    "collapsed": false
   },
   "outputs": [],
   "source": [
    "new_df=df.select_dtypes(exclude=numerics)"
   ]
  },
  {
   "cell_type": "code",
   "execution_count": 7,
   "metadata": {
    "collapsed": true
   },
   "outputs": [],
   "source": [
    "grouped=df.groupby(new_df.columns.tolist()).mean()"
   ]
  },
  {
   "cell_type": "code",
   "execution_count": 9,
   "metadata": {
    "collapsed": false
   },
   "outputs": [
    {
     "name": "stdout",
     "output_type": "stream",
     "text": [
      "                                                                        Sentiment_Polarity  \\\n",
      "App                   Translated_Review                      Sentiment                       \n",
      "10 Best Foods for You 10 best foods 4u Excellent chose foods Positive                 1.00   \n",
      "                      A big thanks ds I got bst gd health    Positive                 0.10   \n",
      "                      Absolutely Fabulous Phenomenal         Positive                 0.45   \n",
      "                      Amazing                                Positive                 0.60   \n",
      "                      An excellent A useful                  Positive                 0.65   \n",
      "\n",
      "                                                                        Sentiment_Subjectivity  \n",
      "App                   Translated_Review                      Sentiment                          \n",
      "10 Best Foods for You 10 best foods 4u Excellent chose foods Positive                     0.65  \n",
      "                      A big thanks ds I got bst gd health    Positive                     0.15  \n",
      "                      Absolutely Fabulous Phenomenal         Positive                     0.75  \n",
      "                      Amazing                                Positive                     0.90  \n",
      "                      An excellent A useful                  Positive                     0.50  \n"
     ]
    }
   ],
   "source": [
    "print(grouped.head())"
   ]
  },
  {
   "cell_type": "code",
   "execution_count": null,
   "metadata": {
    "collapsed": true
   },
   "outputs": [],
   "source": []
  }
 ],
 "metadata": {
  "kernelspec": {
   "display_name": "Python 3",
   "language": "python",
   "name": "python3"
  },
  "language_info": {
   "codemirror_mode": {
    "name": "ipython",
    "version": 3
   },
   "file_extension": ".py",
   "mimetype": "text/x-python",
   "name": "python",
   "nbconvert_exporter": "python",
   "pygments_lexer": "ipython3",
   "version": "3.5.2"
  }
 },
 "nbformat": 4,
 "nbformat_minor": 2
}
