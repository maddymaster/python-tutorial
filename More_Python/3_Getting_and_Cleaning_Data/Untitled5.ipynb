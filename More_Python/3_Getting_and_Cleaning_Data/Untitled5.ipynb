{
 "cells": [
  {
   "cell_type": "code",
   "execution_count": 1,
   "metadata": {},
   "outputs": [
    {
     "name": "stdout",
     "output_type": "stream",
     "text": [
      "        Customer_Name Province   Region Customer_Segment  Cust_id\n",
      "0  MUHAMMED MACINTYRE  NUNAVUT  NUNAVUT   SMALL BUSINESS   Cust_1\n",
      "1        BARRY FRENCH  NUNAVUT  NUNAVUT         CONSUMER   Cust_2\n",
      "2       CLAY ROZENDAL  NUNAVUT  NUNAVUT        CORPORATE   Cust_3\n",
      "3      CARLOS SOLTERO  NUNAVUT  NUNAVUT         CONSUMER   Cust_4\n",
      "4        CARL JACKSON  NUNAVUT  NUNAVUT        CORPORATE   Cust_5\n",
      "5      MONICA FEDERLE  NUNAVUT  NUNAVUT        CORPORATE   Cust_6\n",
      "6     DOROTHY BADDERS  NUNAVUT  NUNAVUT      HOME OFFICE   Cust_7\n",
      "7     NEOLA SCHNEIDER  NUNAVUT  NUNAVUT      HOME OFFICE   Cust_8\n",
      "8         CARLOS DALY  NUNAVUT  NUNAVUT      HOME OFFICE   Cust_9\n",
      "9       CLAUDIA MINER  NUNAVUT  NUNAVUT   SMALL BUSINESS  Cust_10\n"
     ]
    }
   ],
   "source": [
    "import pandas as pd\n",
    "customer = pd.read_csv('https://query.data.world/s/y9rxL9mGdP6AXPiDaIL4yYm6DsfTV2')\n",
    "\n",
    "\n",
    "print(customer.head(10))\n",
    "\n"
   ]
  },
  {
   "cell_type": "code",
   "execution_count": 2,
   "metadata": {},
   "outputs": [
    {
     "name": "stdout",
     "output_type": "stream",
     "text": [
      "        Customer_Name Province   Region Customer_Segment    Cust_id\n",
      "0  MUHAMMED MACINTYRE  NUNAVUT  NUNAVUT   SMALL BUSINESS   [Cust_1]\n",
      "1        BARRY FRENCH  NUNAVUT  NUNAVUT         CONSUMER   [Cust_2]\n",
      "2       CLAY ROZENDAL  NUNAVUT  NUNAVUT        CORPORATE   [Cust_3]\n",
      "3      CARLOS SOLTERO  NUNAVUT  NUNAVUT         CONSUMER   [Cust_4]\n",
      "4        CARL JACKSON  NUNAVUT  NUNAVUT        CORPORATE   [Cust_5]\n",
      "5      MONICA FEDERLE  NUNAVUT  NUNAVUT        CORPORATE   [Cust_6]\n",
      "6     DOROTHY BADDERS  NUNAVUT  NUNAVUT      HOME OFFICE   [Cust_7]\n",
      "7     NEOLA SCHNEIDER  NUNAVUT  NUNAVUT      HOME OFFICE   [Cust_8]\n",
      "8         CARLOS DALY  NUNAVUT  NUNAVUT      HOME OFFICE   [Cust_9]\n",
      "9       CLAUDIA MINER  NUNAVUT  NUNAVUT   SMALL BUSINESS  [Cust_10]\n"
     ]
    }
   ],
   "source": [
    "customer['Cust_id'] = customer['Cust_id'].apply(lambda x: x.split(),\"Cust_id\"[0])\n",
    "print(customer.head(10))"
   ]
  },
  {
   "cell_type": "code",
   "execution_count": 6,
   "metadata": {},
   "outputs": [
    {
     "data": {
      "text/plain": [
       "0          [Cust_1]\n",
       "1          [Cust_2]\n",
       "2          [Cust_3]\n",
       "3          [Cust_4]\n",
       "4          [Cust_5]\n",
       "5          [Cust_6]\n",
       "6          [Cust_7]\n",
       "7          [Cust_8]\n",
       "8          [Cust_9]\n",
       "9         [Cust_10]\n",
       "10        [Cust_11]\n",
       "11        [Cust_12]\n",
       "12        [Cust_13]\n",
       "13        [Cust_14]\n",
       "14        [Cust_15]\n",
       "15        [Cust_16]\n",
       "16        [Cust_17]\n",
       "17        [Cust_18]\n",
       "18        [Cust_19]\n",
       "19        [Cust_20]\n",
       "20        [Cust_21]\n",
       "21        [Cust_22]\n",
       "22        [Cust_23]\n",
       "23        [Cust_24]\n",
       "24        [Cust_25]\n",
       "25        [Cust_26]\n",
       "26        [Cust_27]\n",
       "27        [Cust_28]\n",
       "28        [Cust_29]\n",
       "29        [Cust_30]\n",
       "           ...     \n",
       "1802    [Cust_1803]\n",
       "1803    [Cust_1804]\n",
       "1804    [Cust_1805]\n",
       "1805    [Cust_1806]\n",
       "1806    [Cust_1807]\n",
       "1807    [Cust_1808]\n",
       "1808    [Cust_1809]\n",
       "1809    [Cust_1810]\n",
       "1810    [Cust_1811]\n",
       "1811    [Cust_1812]\n",
       "1812    [Cust_1813]\n",
       "1813    [Cust_1814]\n",
       "1814    [Cust_1815]\n",
       "1815    [Cust_1816]\n",
       "1816    [Cust_1817]\n",
       "1817    [Cust_1818]\n",
       "1818    [Cust_1819]\n",
       "1819    [Cust_1820]\n",
       "1820    [Cust_1821]\n",
       "1821    [Cust_1822]\n",
       "1822    [Cust_1823]\n",
       "1823    [Cust_1824]\n",
       "1824    [Cust_1825]\n",
       "1825    [Cust_1826]\n",
       "1826    [Cust_1827]\n",
       "1827    [Cust_1828]\n",
       "1828    [Cust_1829]\n",
       "1829    [Cust_1830]\n",
       "1830    [Cust_1831]\n",
       "1831    [Cust_1832]\n",
       "Name: Cust_id, Length: 1832, dtype: object"
      ]
     },
     "execution_count": 6,
     "metadata": {},
     "output_type": "execute_result"
    }
   ],
   "source": [
    "customer['Cust_id']"
   ]
  },
  {
   "cell_type": "code",
   "execution_count": 12,
   "metadata": {},
   "outputs": [
    {
     "ename": "KeyError",
     "evalue": "\"['[Cust_1]'] not found in axis\"",
     "output_type": "error",
     "traceback": [
      "\u001b[0;31m---------------------------------------------------------------------------\u001b[0m",
      "\u001b[0;31mKeyError\u001b[0m                                  Traceback (most recent call last)",
      "\u001b[0;32m<ipython-input-12-6da3fed67e9d>\u001b[0m in \u001b[0;36m<module>\u001b[0;34m()\u001b[0m\n\u001b[0;32m----> 1\u001b[0;31m \u001b[0mnew\u001b[0m \u001b[0;34m=\u001b[0m \u001b[0mcustomer\u001b[0m\u001b[0;34m[\u001b[0m\u001b[0;34m'Cust_id'\u001b[0m\u001b[0;34m]\u001b[0m\u001b[0;34m.\u001b[0m\u001b[0mdrop\u001b[0m\u001b[0;34m(\u001b[0m\u001b[0;34m\"[Cust_1]\"\u001b[0m\u001b[0;34m)\u001b[0m\u001b[0;34m\u001b[0m\u001b[0;34m\u001b[0m\u001b[0m\n\u001b[0m",
      "\u001b[0;32m~/anaconda3/lib/python3.6/site-packages/pandas/core/series.py\u001b[0m in \u001b[0;36mdrop\u001b[0;34m(self, labels, axis, index, columns, level, inplace, errors)\u001b[0m\n\u001b[1;32m   3827\u001b[0m         return super(Series, self).drop(labels=labels, axis=axis, index=index,\n\u001b[1;32m   3828\u001b[0m                                         \u001b[0mcolumns\u001b[0m\u001b[0;34m=\u001b[0m\u001b[0mcolumns\u001b[0m\u001b[0;34m,\u001b[0m \u001b[0mlevel\u001b[0m\u001b[0;34m=\u001b[0m\u001b[0mlevel\u001b[0m\u001b[0;34m,\u001b[0m\u001b[0;34m\u001b[0m\u001b[0;34m\u001b[0m\u001b[0m\n\u001b[0;32m-> 3829\u001b[0;31m                                         inplace=inplace, errors=errors)\n\u001b[0m\u001b[1;32m   3830\u001b[0m \u001b[0;34m\u001b[0m\u001b[0m\n\u001b[1;32m   3831\u001b[0m     \u001b[0;34m@\u001b[0m\u001b[0mSubstitution\u001b[0m\u001b[0;34m(\u001b[0m\u001b[0;34m**\u001b[0m\u001b[0m_shared_doc_kwargs\u001b[0m\u001b[0;34m)\u001b[0m\u001b[0;34m\u001b[0m\u001b[0;34m\u001b[0m\u001b[0m\n",
      "\u001b[0;32m~/anaconda3/lib/python3.6/site-packages/pandas/core/generic.py\u001b[0m in \u001b[0;36mdrop\u001b[0;34m(self, labels, axis, index, columns, level, inplace, errors)\u001b[0m\n\u001b[1;32m   3778\u001b[0m         \u001b[0;32mfor\u001b[0m \u001b[0maxis\u001b[0m\u001b[0;34m,\u001b[0m \u001b[0mlabels\u001b[0m \u001b[0;32min\u001b[0m \u001b[0maxes\u001b[0m\u001b[0;34m.\u001b[0m\u001b[0mitems\u001b[0m\u001b[0;34m(\u001b[0m\u001b[0;34m)\u001b[0m\u001b[0;34m:\u001b[0m\u001b[0;34m\u001b[0m\u001b[0;34m\u001b[0m\u001b[0m\n\u001b[1;32m   3779\u001b[0m             \u001b[0;32mif\u001b[0m \u001b[0mlabels\u001b[0m \u001b[0;32mis\u001b[0m \u001b[0;32mnot\u001b[0m \u001b[0;32mNone\u001b[0m\u001b[0;34m:\u001b[0m\u001b[0;34m\u001b[0m\u001b[0;34m\u001b[0m\u001b[0m\n\u001b[0;32m-> 3780\u001b[0;31m                 \u001b[0mobj\u001b[0m \u001b[0;34m=\u001b[0m \u001b[0mobj\u001b[0m\u001b[0;34m.\u001b[0m\u001b[0m_drop_axis\u001b[0m\u001b[0;34m(\u001b[0m\u001b[0mlabels\u001b[0m\u001b[0;34m,\u001b[0m \u001b[0maxis\u001b[0m\u001b[0;34m,\u001b[0m \u001b[0mlevel\u001b[0m\u001b[0;34m=\u001b[0m\u001b[0mlevel\u001b[0m\u001b[0;34m,\u001b[0m \u001b[0merrors\u001b[0m\u001b[0;34m=\u001b[0m\u001b[0merrors\u001b[0m\u001b[0;34m)\u001b[0m\u001b[0;34m\u001b[0m\u001b[0;34m\u001b[0m\u001b[0m\n\u001b[0m\u001b[1;32m   3781\u001b[0m \u001b[0;34m\u001b[0m\u001b[0m\n\u001b[1;32m   3782\u001b[0m         \u001b[0;32mif\u001b[0m \u001b[0minplace\u001b[0m\u001b[0;34m:\u001b[0m\u001b[0;34m\u001b[0m\u001b[0;34m\u001b[0m\u001b[0m\n",
      "\u001b[0;32m~/anaconda3/lib/python3.6/site-packages/pandas/core/generic.py\u001b[0m in \u001b[0;36m_drop_axis\u001b[0;34m(self, labels, axis, level, errors)\u001b[0m\n\u001b[1;32m   3810\u001b[0m                 \u001b[0mnew_axis\u001b[0m \u001b[0;34m=\u001b[0m \u001b[0maxis\u001b[0m\u001b[0;34m.\u001b[0m\u001b[0mdrop\u001b[0m\u001b[0;34m(\u001b[0m\u001b[0mlabels\u001b[0m\u001b[0;34m,\u001b[0m \u001b[0mlevel\u001b[0m\u001b[0;34m=\u001b[0m\u001b[0mlevel\u001b[0m\u001b[0;34m,\u001b[0m \u001b[0merrors\u001b[0m\u001b[0;34m=\u001b[0m\u001b[0merrors\u001b[0m\u001b[0;34m)\u001b[0m\u001b[0;34m\u001b[0m\u001b[0;34m\u001b[0m\u001b[0m\n\u001b[1;32m   3811\u001b[0m             \u001b[0;32melse\u001b[0m\u001b[0;34m:\u001b[0m\u001b[0;34m\u001b[0m\u001b[0;34m\u001b[0m\u001b[0m\n\u001b[0;32m-> 3812\u001b[0;31m                 \u001b[0mnew_axis\u001b[0m \u001b[0;34m=\u001b[0m \u001b[0maxis\u001b[0m\u001b[0;34m.\u001b[0m\u001b[0mdrop\u001b[0m\u001b[0;34m(\u001b[0m\u001b[0mlabels\u001b[0m\u001b[0;34m,\u001b[0m \u001b[0merrors\u001b[0m\u001b[0;34m=\u001b[0m\u001b[0merrors\u001b[0m\u001b[0;34m)\u001b[0m\u001b[0;34m\u001b[0m\u001b[0;34m\u001b[0m\u001b[0m\n\u001b[0m\u001b[1;32m   3813\u001b[0m             \u001b[0mresult\u001b[0m \u001b[0;34m=\u001b[0m \u001b[0mself\u001b[0m\u001b[0;34m.\u001b[0m\u001b[0mreindex\u001b[0m\u001b[0;34m(\u001b[0m\u001b[0;34m**\u001b[0m\u001b[0;34m{\u001b[0m\u001b[0maxis_name\u001b[0m\u001b[0;34m:\u001b[0m \u001b[0mnew_axis\u001b[0m\u001b[0;34m}\u001b[0m\u001b[0;34m)\u001b[0m\u001b[0;34m\u001b[0m\u001b[0;34m\u001b[0m\u001b[0m\n\u001b[1;32m   3814\u001b[0m \u001b[0;34m\u001b[0m\u001b[0m\n",
      "\u001b[0;32m~/anaconda3/lib/python3.6/site-packages/pandas/core/indexes/base.py\u001b[0m in \u001b[0;36mdrop\u001b[0;34m(self, labels, errors)\u001b[0m\n\u001b[1;32m   4963\u001b[0m             \u001b[0;32mif\u001b[0m \u001b[0merrors\u001b[0m \u001b[0;34m!=\u001b[0m \u001b[0;34m'ignore'\u001b[0m\u001b[0;34m:\u001b[0m\u001b[0;34m\u001b[0m\u001b[0;34m\u001b[0m\u001b[0m\n\u001b[1;32m   4964\u001b[0m                 raise KeyError(\n\u001b[0;32m-> 4965\u001b[0;31m                     '{} not found in axis'.format(labels[mask]))\n\u001b[0m\u001b[1;32m   4966\u001b[0m             \u001b[0mindexer\u001b[0m \u001b[0;34m=\u001b[0m \u001b[0mindexer\u001b[0m\u001b[0;34m[\u001b[0m\u001b[0;34m~\u001b[0m\u001b[0mmask\u001b[0m\u001b[0;34m]\u001b[0m\u001b[0;34m\u001b[0m\u001b[0;34m\u001b[0m\u001b[0m\n\u001b[1;32m   4967\u001b[0m         \u001b[0;32mreturn\u001b[0m \u001b[0mself\u001b[0m\u001b[0;34m.\u001b[0m\u001b[0mdelete\u001b[0m\u001b[0;34m(\u001b[0m\u001b[0mindexer\u001b[0m\u001b[0;34m)\u001b[0m\u001b[0;34m\u001b[0m\u001b[0;34m\u001b[0m\u001b[0m\n",
      "\u001b[0;31mKeyError\u001b[0m: \"['[Cust_1]'] not found in axis\""
     ]
    }
   ],
   "source": [
    "new = customer['Cust_id'].drop(\"[Cust_1]\")"
   ]
  },
  {
   "cell_type": "code",
   "execution_count": 8,
   "metadata": {},
   "outputs": [
    {
     "data": {
      "text/plain": [
       "0          [Cust_1]\n",
       "1          [Cust_2]\n",
       "2          [Cust_3]\n",
       "3          [Cust_4]\n",
       "4          [Cust_5]\n",
       "5          [Cust_6]\n",
       "6          [Cust_7]\n",
       "7          [Cust_8]\n",
       "8          [Cust_9]\n",
       "9         [Cust_10]\n",
       "10        [Cust_11]\n",
       "11        [Cust_12]\n",
       "12        [Cust_13]\n",
       "13        [Cust_14]\n",
       "14        [Cust_15]\n",
       "15        [Cust_16]\n",
       "16        [Cust_17]\n",
       "17        [Cust_18]\n",
       "18        [Cust_19]\n",
       "19        [Cust_20]\n",
       "20        [Cust_21]\n",
       "21        [Cust_22]\n",
       "22        [Cust_23]\n",
       "23        [Cust_24]\n",
       "24        [Cust_25]\n",
       "25        [Cust_26]\n",
       "26        [Cust_27]\n",
       "27        [Cust_28]\n",
       "28        [Cust_29]\n",
       "29        [Cust_30]\n",
       "           ...     \n",
       "1802    [Cust_1803]\n",
       "1803    [Cust_1804]\n",
       "1804    [Cust_1805]\n",
       "1805    [Cust_1806]\n",
       "1806    [Cust_1807]\n",
       "1807    [Cust_1808]\n",
       "1808    [Cust_1809]\n",
       "1809    [Cust_1810]\n",
       "1810    [Cust_1811]\n",
       "1811    [Cust_1812]\n",
       "1812    [Cust_1813]\n",
       "1813    [Cust_1814]\n",
       "1814    [Cust_1815]\n",
       "1815    [Cust_1816]\n",
       "1816    [Cust_1817]\n",
       "1817    [Cust_1818]\n",
       "1818    [Cust_1819]\n",
       "1819    [Cust_1820]\n",
       "1820    [Cust_1821]\n",
       "1821    [Cust_1822]\n",
       "1822    [Cust_1823]\n",
       "1823    [Cust_1824]\n",
       "1824    [Cust_1825]\n",
       "1825    [Cust_1826]\n",
       "1826    [Cust_1827]\n",
       "1827    [Cust_1828]\n",
       "1828    [Cust_1829]\n",
       "1829    [Cust_1830]\n",
       "1830    [Cust_1831]\n",
       "1831    [Cust_1832]\n",
       "Name: Cust_id, Length: 1832, dtype: object"
      ]
     },
     "execution_count": 8,
     "metadata": {},
     "output_type": "execute_result"
    }
   ],
   "source": [
    "customer['Cust_id'].drop(labels=\"Cust\")"
   ]
  },
  {
   "cell_type": "code",
   "execution_count": null,
   "metadata": {
    "collapsed": true
   },
   "outputs": [],
   "source": []
  }
 ],
 "metadata": {
  "kernelspec": {
   "display_name": "Python 3",
   "language": "python",
   "name": "python3"
  },
  "language_info": {
   "codemirror_mode": {
    "name": "ipython",
    "version": 3
   },
   "file_extension": ".py",
   "mimetype": "text/x-python",
   "name": "python",
   "nbconvert_exporter": "python",
   "pygments_lexer": "ipython3",
   "version": "3.6.8"
  }
 },
 "nbformat": 4,
 "nbformat_minor": 2
}
