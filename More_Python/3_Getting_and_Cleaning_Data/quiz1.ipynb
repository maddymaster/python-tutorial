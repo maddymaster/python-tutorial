{
 "cells": [
  {
   "cell_type": "code",
   "execution_count": null,
   "metadata": {
    "collapsed": true
   },
   "outputs": [],
   "source": [
    "import pandas as pd \n",
    "import sys,ast\n",
    "import numpy as np\n",
    "df=pd.read_csv('https://media-doselect.s3.amazonaws.com/generic/wkyk2AWYdJbqgXoRo3Y8w42nX/test.csv')\n",
    "input_str = sys.stdin.read()\n",
    "input_list = ast.literal_eval(input_str)\n",
    "cols=input_list[0]#the columns to group the dataframe by\n",
    "values=input_list[1]# The group to print\n",
    "#Write your code here\n",
    "\n",
    "newdf1= df.groupby(cols).agg(np.mean)\n",
    "grouped = df.groupby(cols)\n",
    "zipped = zip(cols, values)\n",
    "df1 = df.query(' & '.join(['{}=={}'.format(i,j) for i, j in zipped]))\n",
    "print(df1)"
   ]
  }
 ],
 "metadata": {
  "kernelspec": {
   "display_name": "Python 3",
   "language": "python",
   "name": "python3"
  },
  "language_info": {
   "codemirror_mode": {
    "name": "ipython",
    "version": 3
   },
   "file_extension": ".py",
   "mimetype": "text/x-python",
   "name": "python",
   "nbconvert_exporter": "python",
   "pygments_lexer": "ipython3",
   "version": "3.6.8"
  }
 },
 "nbformat": 4,
 "nbformat_minor": 2
}
