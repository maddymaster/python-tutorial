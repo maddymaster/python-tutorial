{
 "cells": [
  {
   "cell_type": "code",
   "execution_count": 8,
   "id": "684ca093",
   "metadata": {},
   "outputs": [
    {
     "name": "stdout",
     "output_type": "stream",
     "text": [
      "Hello Wassup\n"
     ]
    }
   ],
   "source": [
    "print(\"Hello\", \"Wassup\")"
   ]
  },
  {
   "cell_type": "code",
   "execution_count": 2,
   "id": "42d03bfe",
   "metadata": {},
   "outputs": [
    {
     "data": {
      "text/plain": [
       "6"
      ]
     },
     "execution_count": 2,
     "metadata": {},
     "output_type": "execute_result"
    }
   ],
   "source": [
    "len(\"String\")"
   ]
  },
  {
   "cell_type": "code",
   "execution_count": 3,
   "id": "913961c7",
   "metadata": {},
   "outputs": [],
   "source": [
    "def say_hello():\n",
    "    print(\"Hello\")\n",
    "    \n",
    "    "
   ]
  },
  {
   "cell_type": "code",
   "execution_count": 4,
   "id": "ca65dd27",
   "metadata": {},
   "outputs": [
    {
     "name": "stdout",
     "output_type": "stream",
     "text": [
      "Hello\n"
     ]
    }
   ],
   "source": [
    "say_hello()"
   ]
  },
  {
   "cell_type": "code",
   "execution_count": 6,
   "id": "41694144",
   "metadata": {},
   "outputs": [],
   "source": [
    "#python function with parameters and arguments\n",
    "def say_hello(name):\n",
    "    print(\"Hello\", name)"
   ]
  },
  {
   "cell_type": "code",
   "execution_count": 7,
   "id": "95c1d23d",
   "metadata": {},
   "outputs": [
    {
     "name": "stdout",
     "output_type": "stream",
     "text": [
      "Hello Tom\n"
     ]
    }
   ],
   "source": [
    "say_hello(\"Tom\")"
   ]
  },
  {
   "cell_type": "code",
   "execution_count": 9,
   "id": "7b542918",
   "metadata": {},
   "outputs": [],
   "source": [
    "#multiple arguments\n",
    "def say_hello(name, location):\n",
    "    print(\"Hello\", name, \"welcome to\", location)"
   ]
  },
  {
   "cell_type": "code",
   "execution_count": 11,
   "id": "511efbc3",
   "metadata": {},
   "outputs": [
    {
     "name": "stdout",
     "output_type": "stream",
     "text": [
      "Hello Tom welcome to Simplilearn\n"
     ]
    }
   ],
   "source": [
    "say_hello(\"Tom\", \"Simplilearn\")"
   ]
  },
  {
   "cell_type": "code",
   "execution_count": 14,
   "id": "9c58cca0",
   "metadata": {},
   "outputs": [
    {
     "name": "stdout",
     "output_type": "stream",
     "text": [
      "Lets greet the entire class\n",
      "Hello, World\n"
     ]
    }
   ],
   "source": [
    "# Return from a function\n",
    "def say_hello1(name):\n",
    "    print(\"Hello, \" + name)\n",
    "print(\"Lets greet the entire class\")\n",
    "say_hello1(\"World\")"
   ]
  },
  {
   "cell_type": "code",
   "execution_count": 15,
   "id": "339d93ec",
   "metadata": {},
   "outputs": [],
   "source": [
    "#function that adds two numbers\n",
    "def add(a,b):\n",
    "    return a +b"
   ]
  },
  {
   "cell_type": "code",
   "execution_count": 16,
   "id": "e9efc3f0",
   "metadata": {},
   "outputs": [
    {
     "data": {
      "text/plain": [
       "9"
      ]
     },
     "execution_count": 16,
     "metadata": {},
     "output_type": "execute_result"
    }
   ],
   "source": [
    "add(4,5)"
   ]
  },
  {
   "cell_type": "code",
   "execution_count": 17,
   "id": "be334b5d",
   "metadata": {},
   "outputs": [],
   "source": [
    "result = add(5,6)"
   ]
  },
  {
   "cell_type": "code",
   "execution_count": 18,
   "id": "086968be",
   "metadata": {},
   "outputs": [
    {
     "name": "stdout",
     "output_type": "stream",
     "text": [
      "11\n"
     ]
    }
   ],
   "source": [
    "print(result)"
   ]
  },
  {
   "cell_type": "code",
   "execution_count": null,
   "id": "e121ce25",
   "metadata": {},
   "outputs": [],
   "source": []
  }
 ],
 "metadata": {
  "kernelspec": {
   "display_name": "Python 3",
   "language": "python",
   "name": "python3"
  },
  "language_info": {
   "codemirror_mode": {
    "name": "ipython",
    "version": 3
   },
   "file_extension": ".py",
   "mimetype": "text/x-python",
   "name": "python",
   "nbconvert_exporter": "python",
   "pygments_lexer": "ipython3",
   "version": "3.8.8"
  }
 },
 "nbformat": 4,
 "nbformat_minor": 5
}
