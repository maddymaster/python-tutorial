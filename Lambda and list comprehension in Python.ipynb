{
 "cells": [
  {
   "cell_type": "markdown",
   "id": "71890ef4",
   "metadata": {},
   "source": [
    "### Lambda Expressions\n",
    "\n",
    "*Lambda is a tool for building functions*\n",
    "\n",
    "Lambda is a tool for building functions, or more precisely, for building function objects. That means that Python has two tools for building functions: def and lambda.\n",
    "\n",
    "Python Lambda function is known as the anonymous function that is defined without a name. Python allows us to not declare the function in the standard manner, i.e., by using the def keyword. Rather, the anonymous functions are declared by using the lambda keyword. However, Lambda functions can accept any number of arguments, but they can return only one value in the form of expression.\n",
    "\n",
    "The anonymous function contains a small piece of code. It simulates inline functions of C and C++, but it is not exactly an inline function.\n",
    "\n",
    "The syntax to define an anonymous function is given below."
   ]
  },
  {
   "cell_type": "markdown",
   "id": "b439564d",
   "metadata": {},
   "source": [
    "### Syntax\n",
    "`lambda arguments: expression `"
   ]
  },
  {
   "cell_type": "code",
   "execution_count": 2,
   "id": "72d84ac5",
   "metadata": {},
   "outputs": [],
   "source": [
    "#examlpe 1: \n",
    "#Lets write a simple function that adds 1\n",
    "def add_one(x):\n",
    "    return x + 1"
   ]
  },
  {
   "cell_type": "code",
   "execution_count": 4,
   "id": "e7f4bcd7",
   "metadata": {},
   "outputs": [
    {
     "data": {
      "text/plain": [
       "3"
      ]
     },
     "execution_count": 4,
     "metadata": {},
     "output_type": "execute_result"
    }
   ],
   "source": [
    "add_one(2)"
   ]
  },
  {
   "cell_type": "code",
   "execution_count": 3,
   "id": "bc941e3f",
   "metadata": {},
   "outputs": [
    {
     "data": {
      "text/plain": [
       "3"
      ]
     },
     "execution_count": 3,
     "metadata": {},
     "output_type": "execute_result"
    }
   ],
   "source": [
    "# convert this function to lambda\n",
    "(lambda x: x + 1)(2)"
   ]
  },
  {
   "cell_type": "code",
   "execution_count": 6,
   "id": "6d299cdc",
   "metadata": {},
   "outputs": [],
   "source": [
    "#example 2: \n",
    "#Lets write a simple function that squares a number\n",
    "def sqr(num):\n",
    "    result = num**2\n",
    "    return result"
   ]
  },
  {
   "cell_type": "code",
   "execution_count": 7,
   "id": "0bb8c17e",
   "metadata": {},
   "outputs": [
    {
     "data": {
      "text/plain": [
       "36"
      ]
     },
     "execution_count": 7,
     "metadata": {},
     "output_type": "execute_result"
    }
   ],
   "source": [
    "sqr(6)"
   ]
  },
  {
   "cell_type": "code",
   "execution_count": 8,
   "id": "224e0aea",
   "metadata": {},
   "outputs": [],
   "source": [
    "#lets break this down a bit \n",
    "def sqr(num):\n",
    "    return num**2"
   ]
  },
  {
   "cell_type": "code",
   "execution_count": 9,
   "id": "92bf6c93",
   "metadata": {},
   "outputs": [
    {
     "data": {
      "text/plain": [
       "25"
      ]
     },
     "execution_count": 9,
     "metadata": {},
     "output_type": "execute_result"
    }
   ],
   "source": [
    "sqr(5)"
   ]
  },
  {
   "cell_type": "markdown",
   "id": "1822cf2c",
   "metadata": {},
   "source": [
    "can we make it simpler by writing it in just one line?"
   ]
  },
  {
   "cell_type": "code",
   "execution_count": 10,
   "id": "b611096f",
   "metadata": {},
   "outputs": [],
   "source": [
    "def sqr(num): return num**2"
   ]
  },
  {
   "cell_type": "code",
   "execution_count": 11,
   "id": "cebe4d24",
   "metadata": {},
   "outputs": [
    {
     "data": {
      "text/plain": [
       "16"
      ]
     },
     "execution_count": 11,
     "metadata": {},
     "output_type": "execute_result"
    }
   ],
   "source": [
    "sqr(4)"
   ]
  },
  {
   "cell_type": "markdown",
   "id": "a67ea18a",
   "metadata": {},
   "source": [
    "This is the form a function that a lambda expression intends to replicate. A lambda expression can then be written as:\n",
    "\n"
   ]
  },
  {
   "cell_type": "code",
   "execution_count": 12,
   "id": "b839d17f",
   "metadata": {},
   "outputs": [
    {
     "data": {
      "text/plain": [
       "<function __main__.<lambda>(num)>"
      ]
     },
     "execution_count": 12,
     "metadata": {},
     "output_type": "execute_result"
    }
   ],
   "source": [
    "lambda num: num**2"
   ]
  },
  {
   "cell_type": "markdown",
   "id": "de77037a",
   "metadata": {},
   "source": [
    "Note how we get a function back. We can assign this function to a label:"
   ]
  },
  {
   "cell_type": "code",
   "execution_count": 13,
   "id": "f58a0d7c",
   "metadata": {},
   "outputs": [],
   "source": [
    "sqr = lambda num: num**2"
   ]
  },
  {
   "cell_type": "code",
   "execution_count": 14,
   "id": "0c379399",
   "metadata": {},
   "outputs": [
    {
     "data": {
      "text/plain": [
       "9"
      ]
     },
     "execution_count": 14,
     "metadata": {},
     "output_type": "execute_result"
    }
   ],
   "source": [
    "sqr(3)"
   ]
  },
  {
   "cell_type": "code",
   "execution_count": 15,
   "id": "4c049100",
   "metadata": {},
   "outputs": [],
   "source": [
    "# Example 3: \n",
    "#write a function to check if a number is even\n",
    "even = lambda x: x%2==0"
   ]
  },
  {
   "cell_type": "code",
   "execution_count": 16,
   "id": "5eaf077a",
   "metadata": {},
   "outputs": [
    {
     "data": {
      "text/plain": [
       "False"
      ]
     },
     "execution_count": 16,
     "metadata": {},
     "output_type": "execute_result"
    }
   ],
   "source": [
    "even(3)"
   ]
  },
  {
   "cell_type": "code",
   "execution_count": 17,
   "id": "f2f8afce",
   "metadata": {},
   "outputs": [
    {
     "data": {
      "text/plain": [
       "True"
      ]
     },
     "execution_count": 17,
     "metadata": {},
     "output_type": "execute_result"
    }
   ],
   "source": [
    "even(4)"
   ]
  },
  {
   "cell_type": "code",
   "execution_count": 18,
   "id": "36d40f60",
   "metadata": {},
   "outputs": [
    {
     "data": {
      "text/plain": [
       "'h'"
      ]
     },
     "execution_count": 18,
     "metadata": {},
     "output_type": "execute_result"
    }
   ],
   "source": [
    "#Example 4\n",
    "#Grab first character of a string:\n",
    "first = lambda s: s[0]\n",
    "first('hello')"
   ]
  },
  {
   "cell_type": "code",
   "execution_count": 21,
   "id": "4eb7d60f",
   "metadata": {},
   "outputs": [
    {
     "data": {
      "text/plain": [
       "'dlroW'"
      ]
     },
     "execution_count": 21,
     "metadata": {},
     "output_type": "execute_result"
    }
   ],
   "source": [
    "#Example 5\n",
    "#Reverse a string:\n",
    "rev = lambda s: s[::-1]\n",
    "rev('World')"
   ]
  },
  {
   "cell_type": "markdown",
   "id": "35eead40",
   "metadata": {},
   "source": [
    "What is lambda good for? Why do we need lambda?\n",
    "Actually, we don’t absolutely need lambda; we could get along without it. But there are certain situations where it makes writing code a bit easier, and the written code a bit cleaner. What kind of situations? … Situations in which (a) the function is fairly simple, and (b) it is going to be used only once.\n",
    "\n",
    "Normally, functions are created for one of two purposes: (a) to reduce code duplication, or (b) to modularize code.\n",
    "\n",
    "If your application contains duplicate chunks of code in various places, then you can put one copy of that code into a function, give the function a name, and then — using that function name — call it from various places in your code.\n",
    "If you have a chunk of code that performs one well-defined operation — but is really long and gnarly and interrupts the otherwise readable flow of your program — then you can pull that long gnarly code out and put it into a function all by itself.\n",
    "But suppose you need to create a function that is going to be used only once — called from only one place in your application. Well, first of all, you don’t need to give the function a name. It can be “anonymous”. And you can just define it right in the place where you want to use it. That’s where lambda is useful.\n",
    "\n",
    "But, but, but… you say.\n",
    "\n",
    "First of all — Why would you want a function that is called only once? That eliminates reason (a) for making a function.\n",
    "And the body of a lambda can contain only a single expression. That means that lambdas must be short. So that eliminates reason (b) for making a function.\n"
   ]
  },
  {
   "cell_type": "code",
   "execution_count": null,
   "id": "d5b259a4",
   "metadata": {},
   "outputs": [],
   "source": []
  }
 ],
 "metadata": {
  "kernelspec": {
   "display_name": "Python 3",
   "language": "python",
   "name": "python3"
  },
  "language_info": {
   "codemirror_mode": {
    "name": "ipython",
    "version": 3
   },
   "file_extension": ".py",
   "mimetype": "text/x-python",
   "name": "python",
   "nbconvert_exporter": "python",
   "pygments_lexer": "ipython3",
   "version": "3.8.8"
  }
 },
 "nbformat": 4,
 "nbformat_minor": 5
}
