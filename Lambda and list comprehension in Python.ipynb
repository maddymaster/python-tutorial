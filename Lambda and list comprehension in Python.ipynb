{
 "cells": [
  {
   "cell_type": "markdown",
   "id": "8bf0cdc2",
   "metadata": {},
   "source": [
    "### Lambda Expressions\n",
    "\n",
    "*Lambda is a tool for building functions*\n",
    "\n",
    "Lambda is a tool for building functions, or more precisely, for building function objects. That means that Python has two tools for building functions: def and lambda.\n",
    "\n",
    "Python Lambda function is known as the anonymous function that is defined without a name. Python allows us to not declare the function in the standard manner, i.e., by using the def keyword. Rather, the anonymous functions are declared by using the lambda keyword. However, Lambda functions can accept any number of arguments, but they can return only one value in the form of expression.\n",
    "\n",
    "The anonymous function contains a small piece of code. It simulates inline functions of C and C++, but it is not exactly an inline function.\n",
    "\n",
    "The syntax to define an anonymous function is given below."
   ]
  },
  {
   "cell_type": "markdown",
   "id": "08581221",
   "metadata": {},
   "source": [
    "### Syntax\n",
    "`lambda arguments: expression `"
   ]
  },
  {
   "cell_type": "code",
   "execution_count": 2,
   "id": "7b5de3ac",
   "metadata": {},
   "outputs": [],
   "source": [
    "#examlpe 1: \n",
    "#Lets write a simple function that adds 1\n",
    "def add_one(x):\n",
    "    return x + 1"
   ]
  },
  {
   "cell_type": "code",
   "execution_count": 4,
   "id": "f1ab5256",
   "metadata": {},
   "outputs": [
    {
     "data": {
      "text/plain": [
       "3"
      ]
     },
     "execution_count": 4,
     "metadata": {},
     "output_type": "execute_result"
    }
   ],
   "source": [
    "add_one(2)"
   ]
  },
  {
   "cell_type": "code",
   "execution_count": 3,
   "id": "541489c6",
   "metadata": {},
   "outputs": [
    {
     "data": {
      "text/plain": [
       "3"
      ]
     },
     "execution_count": 3,
     "metadata": {},
     "output_type": "execute_result"
    }
   ],
   "source": [
    "# convert this function to lambda\n",
    "(lambda x: x + 1)(2)"
   ]
  },
  {
   "cell_type": "code",
   "execution_count": 6,
   "id": "4d2ff93c",
   "metadata": {},
   "outputs": [],
   "source": [
    "#example 2: \n",
    "#Lets write a simple function that squares a number\n",
    "def sqr(num):\n",
    "    result = num**2\n",
    "    return result"
   ]
  },
  {
   "cell_type": "code",
   "execution_count": 7,
   "id": "33dd1df5",
   "metadata": {},
   "outputs": [
    {
     "data": {
      "text/plain": [
       "36"
      ]
     },
     "execution_count": 7,
     "metadata": {},
     "output_type": "execute_result"
    }
   ],
   "source": [
    "sqr(6)"
   ]
  },
  {
   "cell_type": "code",
   "execution_count": 8,
   "id": "4373176a",
   "metadata": {},
   "outputs": [],
   "source": [
    "#lets break this down a bit \n",
    "def sqr(num):\n",
    "    return num**2"
   ]
  },
  {
   "cell_type": "code",
   "execution_count": 9,
   "id": "c62def29",
   "metadata": {},
   "outputs": [
    {
     "data": {
      "text/plain": [
       "25"
      ]
     },
     "execution_count": 9,
     "metadata": {},
     "output_type": "execute_result"
    }
   ],
   "source": [
    "sqr(5)"
   ]
  },
  {
   "cell_type": "markdown",
   "id": "d23a5ed4",
   "metadata": {},
   "source": [
    "can we make it simpler by writing it in just one line?"
   ]
  },
  {
   "cell_type": "code",
   "execution_count": 10,
   "id": "2e2d84a5",
   "metadata": {},
   "outputs": [],
   "source": [
    "def sqr(num): return num**2"
   ]
  },
  {
   "cell_type": "code",
   "execution_count": 11,
   "id": "6a3580b9",
   "metadata": {},
   "outputs": [
    {
     "data": {
      "text/plain": [
       "16"
      ]
     },
     "execution_count": 11,
     "metadata": {},
     "output_type": "execute_result"
    }
   ],
   "source": [
    "sqr(4)"
   ]
  },
  {
   "cell_type": "markdown",
   "id": "48a4f976",
   "metadata": {},
   "source": [
    "This is the form a function that a lambda expression intends to replicate. A lambda expression can then be written as:\n",
    "\n"
   ]
  },
  {
   "cell_type": "code",
   "execution_count": 12,
   "id": "681cd481",
   "metadata": {},
   "outputs": [
    {
     "data": {
      "text/plain": [
       "<function __main__.<lambda>(num)>"
      ]
     },
     "execution_count": 12,
     "metadata": {},
     "output_type": "execute_result"
    }
   ],
   "source": [
    "lambda num: num**2"
   ]
  },
  {
   "cell_type": "markdown",
   "id": "15652c8e",
   "metadata": {},
   "source": [
    "Note how we get a function back. We can assign this function to a label:"
   ]
  },
  {
   "cell_type": "code",
   "execution_count": 13,
   "id": "6a9d0836",
   "metadata": {},
   "outputs": [],
   "source": [
    "sqr = lambda num: num**2"
   ]
  },
  {
   "cell_type": "code",
   "execution_count": 14,
   "id": "da9a7c79",
   "metadata": {},
   "outputs": [
    {
     "data": {
      "text/plain": [
       "9"
      ]
     },
     "execution_count": 14,
     "metadata": {},
     "output_type": "execute_result"
    }
   ],
   "source": [
    "sqr(3)"
   ]
  },
  {
   "cell_type": "code",
   "execution_count": 15,
   "id": "1b175cd6",
   "metadata": {},
   "outputs": [],
   "source": [
    "# Example 3: \n",
    "#write a function to check if a number is even\n",
    "even = lambda x: x%2==0"
   ]
  },
  {
   "cell_type": "code",
   "execution_count": 16,
   "id": "f746fa30",
   "metadata": {},
   "outputs": [
    {
     "data": {
      "text/plain": [
       "False"
      ]
     },
     "execution_count": 16,
     "metadata": {},
     "output_type": "execute_result"
    }
   ],
   "source": [
    "even(3)"
   ]
  },
  {
   "cell_type": "code",
   "execution_count": 17,
   "id": "daee4483",
   "metadata": {},
   "outputs": [
    {
     "data": {
      "text/plain": [
       "True"
      ]
     },
     "execution_count": 17,
     "metadata": {},
     "output_type": "execute_result"
    }
   ],
   "source": [
    "even(4)"
   ]
  },
  {
   "cell_type": "code",
   "execution_count": 18,
   "id": "a7232469",
   "metadata": {},
   "outputs": [
    {
     "data": {
      "text/plain": [
       "'h'"
      ]
     },
     "execution_count": 18,
     "metadata": {},
     "output_type": "execute_result"
    }
   ],
   "source": [
    "#Example 4\n",
    "#Grab first character of a string:\n",
    "first = lambda s: s[0]\n",
    "first('hello')"
   ]
  },
  {
   "cell_type": "code",
   "execution_count": 21,
   "id": "75cf4a02",
   "metadata": {},
   "outputs": [
    {
     "data": {
      "text/plain": [
       "'dlroW'"
      ]
     },
     "execution_count": 21,
     "metadata": {},
     "output_type": "execute_result"
    }
   ],
   "source": [
    "#Example 5\n",
    "#Reverse a string:\n",
    "rev = lambda s: s[::-1]\n",
    "rev('World')"
   ]
  },
  {
   "cell_type": "markdown",
   "id": "3056e49c",
   "metadata": {},
   "source": [
    "What is lambda good for? Why do we need lambda?\n",
    "Actually, we don’t absolutely need lambda; we could get along without it. But there are certain situations where it makes writing code a bit easier, and the written code a bit cleaner. What kind of situations? … Situations in which (a) the function is fairly simple, and (b) it is going to be used only once.\n",
    "\n",
    "Normally, functions are created for one of two purposes: (a) to reduce code duplication, or (b) to modularize code.\n",
    "\n",
    "If your application contains duplicate chunks of code in various places, then you can put one copy of that code into a function, give the function a name, and then — using that function name — call it from various places in your code.\n",
    "If you have a chunk of code that performs one well-defined operation — but is really long and gnarly and interrupts the otherwise readable flow of your program — then you can pull that long gnarly code out and put it into a function all by itself.\n",
    "But suppose you need to create a function that is going to be used only once — called from only one place in your application. Well, first of all, you don’t need to give the function a name. It can be “anonymous”. And you can just define it right in the place where you want to use it. That’s where lambda is useful.\n",
    "\n",
    "But, but, but… you say.\n",
    "\n",
    "First of all — Why would you want a function that is called only once? That eliminates reason (a) for making a function.\n",
    "And the body of a lambda can contain only a single expression. That means that lambdas must be short. So that eliminates reason (b) for making a function.\n"
   ]
  },
  {
   "cell_type": "markdown",
   "id": "a945166c",
   "metadata": {},
   "source": [
    "### List Comprehension"
   ]
  },
  {
   "cell_type": "markdown",
   "id": "d2ea7e2b",
   "metadata": {},
   "source": [
    "In addition to sequence operations and list methods, Python includes a more advanced operation called a list comprehension.\n",
    "\n",
    "List comprehensions allow us to build out lists using a different notation. You can think of it as essentially a one line for loop built inside of brackets. For a simple example:"
   ]
  },
  {
   "cell_type": "code",
   "execution_count": 23,
   "id": "54aec4fd",
   "metadata": {},
   "outputs": [],
   "source": [
    "#Example 1: \n",
    "# Grab every letter in string\n",
    "lst = [x for x in 'simplilearn']"
   ]
  },
  {
   "cell_type": "code",
   "execution_count": 24,
   "id": "474668a2",
   "metadata": {},
   "outputs": [
    {
     "data": {
      "text/plain": [
       "['s', 'i', 'm', 'p', 'l', 'i', 'l', 'e', 'a', 'r', 'n']"
      ]
     },
     "execution_count": 24,
     "metadata": {},
     "output_type": "execute_result"
    }
   ],
   "source": [
    "#print/check\n",
    "lst"
   ]
  },
  {
   "cell_type": "markdown",
   "id": "49bcb2c4",
   "metadata": {},
   "source": [
    "This is the basic idea of a list comprehension. If you're familiar with mathematical notation this format should feel familiar for example: x^2 : x in { 0,1,2...10}\n",
    "\n",
    "Lets see a few more example of list comprehensions in Python:"
   ]
  },
  {
   "cell_type": "code",
   "execution_count": 27,
   "id": "9380fd0a",
   "metadata": {},
   "outputs": [],
   "source": [
    "#example 2:\n",
    "# Square numbers from 1 to 10 and turn it into a list\n",
    "lst1 = [x**2 for x in range(0,11)]"
   ]
  },
  {
   "cell_type": "code",
   "execution_count": 28,
   "id": "d09c3689",
   "metadata": {},
   "outputs": [
    {
     "data": {
      "text/plain": [
       "[0, 1, 4, 9, 16, 25, 36, 49, 64, 81, 100]"
      ]
     },
     "execution_count": 28,
     "metadata": {},
     "output_type": "execute_result"
    }
   ],
   "source": [
    "lst1"
   ]
  },
  {
   "cell_type": "code",
   "execution_count": 30,
   "id": "c7569655",
   "metadata": {},
   "outputs": [],
   "source": [
    "#example 3: we can use comprehensions with conditional if statements too\n",
    "# Check for even numbers in a range\n",
    "lst2 = [x for x in range(11) if x % 2 == 0]"
   ]
  },
  {
   "cell_type": "code",
   "execution_count": 31,
   "id": "1c22e34c",
   "metadata": {},
   "outputs": [
    {
     "data": {
      "text/plain": [
       "[0, 2, 4, 6, 8, 10]"
      ]
     },
     "execution_count": 31,
     "metadata": {},
     "output_type": "execute_result"
    }
   ],
   "source": [
    "lst2"
   ]
  },
  {
   "cell_type": "code",
   "execution_count": 33,
   "id": "017bb578",
   "metadata": {},
   "outputs": [
    {
     "data": {
      "text/plain": [
       "[32.0, 50.0, 68.18, 94.1]"
      ]
     },
     "execution_count": 33,
     "metadata": {},
     "output_type": "execute_result"
    }
   ],
   "source": [
    "#example 4: we can do many things from simple arithmetic to complex ones too\n",
    "# Convert Celsius to Fahrenheit\n",
    "celsius = [0,10,20.1,34.5]\n",
    "\n",
    "fahrenheit = [ ((float(9)/5)*temp + 32) for temp in celsius ]\n",
    "\n",
    "fahrenheit"
   ]
  },
  {
   "cell_type": "code",
   "execution_count": 34,
   "id": "2471b746",
   "metadata": {},
   "outputs": [
    {
     "data": {
      "text/plain": [
       "[0, 1, 16, 81, 256, 625, 1296, 2401, 4096, 6561, 10000]"
      ]
     },
     "execution_count": 34,
     "metadata": {},
     "output_type": "execute_result"
    }
   ],
   "source": [
    "#example 5: \n",
    "#We can also perform nested list comprehensions, for example:\n",
    "\n",
    "\n",
    "lst = [ x**2 for x in [x**2 for x in range(11)]]\n",
    "lst"
   ]
  },
  {
   "cell_type": "code",
   "execution_count": null,
   "id": "fb49401c",
   "metadata": {},
   "outputs": [],
   "source": []
  }
 ],
 "metadata": {
  "kernelspec": {
   "display_name": "Python 3",
   "language": "python",
   "name": "python3"
  },
  "language_info": {
   "codemirror_mode": {
    "name": "ipython",
    "version": 3
   },
   "file_extension": ".py",
   "mimetype": "text/x-python",
   "name": "python",
   "nbconvert_exporter": "python",
   "pygments_lexer": "ipython3",
   "version": "3.8.8"
  }
 },
 "nbformat": 4,
 "nbformat_minor": 5
}
