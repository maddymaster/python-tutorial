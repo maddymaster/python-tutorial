{
 "cells": [
  {
   "cell_type": "markdown",
   "id": "adde945b",
   "metadata": {},
   "source": [
    "Everything in Python is an object"
   ]
  },
  {
   "cell_type": "code",
   "execution_count": null,
   "id": "0b33e0b1",
   "metadata": {},
   "outputs": [],
   "source": [
    "#error\n",
    "len(5)"
   ]
  },
  {
   "cell_type": "code",
   "execution_count": null,
   "id": "c3aa993f",
   "metadata": {},
   "outputs": [],
   "source": [
    "dir(5)"
   ]
  },
  {
   "cell_type": "markdown",
   "id": "48e911c8",
   "metadata": {},
   "source": [
    "### Methods & Functions\n",
    "Methods are built in functions. Functions are user defined."
   ]
  },
  {
   "cell_type": "code",
   "execution_count": null,
   "id": "b1a2adf0",
   "metadata": {},
   "outputs": [],
   "source": [
    "dir(\"test\")"
   ]
  },
  {
   "cell_type": "code",
   "execution_count": null,
   "id": "e654acaa",
   "metadata": {},
   "outputs": [],
   "source": [
    "\"test\".__len__()"
   ]
  },
  {
   "cell_type": "code",
   "execution_count": null,
   "id": "920dd6c6",
   "metadata": {},
   "outputs": [],
   "source": [
    "#better way\n",
    "len(\"test\")"
   ]
  },
  {
   "cell_type": "code",
   "execution_count": null,
   "id": "5a34a285",
   "metadata": {},
   "outputs": [],
   "source": [
    "\"test\".isupper()"
   ]
  },
  {
   "cell_type": "code",
   "execution_count": null,
   "id": "1e46ff8d",
   "metadata": {},
   "outputs": [],
   "source": [
    "\"test\".islower()"
   ]
  },
  {
   "cell_type": "code",
   "execution_count": null,
   "id": "5dde2306",
   "metadata": {},
   "outputs": [],
   "source": [
    "'uvwxyz'.replace('x', 'z')"
   ]
  },
  {
   "cell_type": "markdown",
   "id": "586ff64e",
   "metadata": {},
   "source": [
    "#### What is a Python object?\n",
    "Now that we’ve used objects and know that everything in Python is an object, it’s time to define what an object is:\n",
    "\n",
    "Object\n",
    "An object is a collection of data (variables) and methods that operate on that data. Objects are defined by a Python class."
   ]
  },
  {
   "cell_type": "code",
   "execution_count": null,
   "id": "0e323f1d",
   "metadata": {},
   "outputs": [],
   "source": [
    "a = 4\n",
    "b = 6"
   ]
  },
  {
   "cell_type": "code",
   "execution_count": null,
   "id": "2e3542c0",
   "metadata": {},
   "outputs": [],
   "source": [
    "c = a + b"
   ]
  },
  {
   "cell_type": "code",
   "execution_count": null,
   "id": "734bceb9",
   "metadata": {},
   "outputs": [],
   "source": [
    "print (c)"
   ]
  },
  {
   "cell_type": "markdown",
   "id": "df2ab774",
   "metadata": {},
   "source": [
    "Objects and object-oriented programming are concepts that became popular in the early 1990s. Early computer languages, like C, did not have the concept of an object. However, it turned out that objects are an easy-to-understand paradigm for humans . Objects can be used to model many real-life concepts and situations. Most, if not all, new languages have the concept of objects these days. So what you’re about to learn will conceptually apply to other languages too: this is fundamental computer science.\n",
    "\n"
   ]
  },
  {
   "cell_type": "markdown",
   "id": "2849e5d0",
   "metadata": {},
   "source": [
    "### Python map() function"
   ]
  },
  {
   "cell_type": "markdown",
   "id": "1e785323",
   "metadata": {},
   "source": [
    "`map()` function returns a map object(which is an iterator) of the results after applying the given function to each item of a given iterable (list, tuple etc.)\n"
   ]
  },
  {
   "cell_type": "markdown",
   "id": "ed815295",
   "metadata": {},
   "source": [
    "Syntax: \n",
    "    `map(fun,iter)`"
   ]
  },
  {
   "cell_type": "markdown",
   "id": "0d42adcd",
   "metadata": {},
   "source": [
    "Parameters :\n",
    "\n",
    "`fun` : It is a function to which map passes each element of given iterable.\n",
    "\n",
    "`iter` : It is a iterable which is to be mapped.\n",
    "\n",
    "NOTE : You can pass one or more iterable to the map() function.\n",
    "\n",
    "Returns :\n",
    "\n",
    "`Returns a list of the results after applying the given function  \n",
    "to each item of a given iterable (list, tuple etc.) `\n",
    " \n",
    "NOTE : The returned value from map() (map object) then can be passed to functions like list() (to create a list), set() (to create a set) ."
   ]
  },
  {
   "cell_type": "code",
   "execution_count": 2,
   "id": "d122896e",
   "metadata": {},
   "outputs": [
    {
     "name": "stdout",
     "output_type": "stream",
     "text": [
      "[['s', 'a', 't'], ['b', 'a', 't'], ['c', 'a', 't'], ['m', 'a', 't']]\n"
     ]
    }
   ],
   "source": [
    "#example 1: \n",
    "    \n",
    "# List of strings\n",
    "l = ['sat', 'bat', 'cat', 'mat']\n",
    "  \n",
    "# map() can listify the list of strings individually\n",
    "test = list(map(list, l))\n",
    "print(test)"
   ]
  },
  {
   "cell_type": "code",
   "execution_count": 3,
   "id": "0889d3db",
   "metadata": {},
   "outputs": [
    {
     "name": "stdout",
     "output_type": "stream",
     "text": [
      "[5, 7, 9]\n"
     ]
    }
   ],
   "source": [
    "#example 2: \n",
    "    # Add two lists using map and lambda\n",
    "  \n",
    "numbers1 = [1, 2, 3]\n",
    "numbers2 = [4, 5, 6]\n",
    "  \n",
    "result = map(lambda x, y: x + y, numbers1, numbers2)\n",
    "print(list(result))"
   ]
  },
  {
   "cell_type": "code",
   "execution_count": 5,
   "id": "ec681710",
   "metadata": {},
   "outputs": [
    {
     "name": "stdout",
     "output_type": "stream",
     "text": [
      "[2, 4, 6, 8]\n"
     ]
    }
   ],
   "source": [
    "# A function to Return double of n using map() function\n",
    "def addition(n):\n",
    "    return n + n\n",
    "  \n",
    "# We double all numbers using map()\n",
    "numbers = (1, 2, 3, 4)\n",
    "result = map(addition, numbers)\n",
    "print(list(result))"
   ]
  },
  {
   "cell_type": "code",
   "execution_count": 6,
   "id": "97f808b9",
   "metadata": {},
   "outputs": [
    {
     "name": "stdout",
     "output_type": "stream",
     "text": [
      "[2, 4, 6, 8]\n"
     ]
    }
   ],
   "source": [
    "# same example using a lambda function\n",
    "# Double all numbers using map and lambda\n",
    "  \n",
    "numbers = (1, 2, 3, 4)\n",
    "result = map(lambda x: x + x, numbers)\n",
    "print(list(result))"
   ]
  },
  {
   "cell_type": "code",
   "execution_count": null,
   "id": "f6ca8d8f",
   "metadata": {},
   "outputs": [],
   "source": []
  }
 ],
 "metadata": {
  "kernelspec": {
   "display_name": "Python 3",
   "language": "python",
   "name": "python3"
  },
  "language_info": {
   "codemirror_mode": {
    "name": "ipython",
    "version": 3
   },
   "file_extension": ".py",
   "mimetype": "text/x-python",
   "name": "python",
   "nbconvert_exporter": "python",
   "pygments_lexer": "ipython3",
   "version": "3.8.8"
  }
 },
 "nbformat": 4,
 "nbformat_minor": 5
}
