{
 "cells": [
  {
   "cell_type": "markdown",
   "id": "ca828cbd",
   "metadata": {},
   "source": [
    "Python StatsModels allows users to explore data, perform statistical tests and estimate statistical models.\n",
    "\n",
    "It is supposed to complement to SciPy’s stats module. It is part of the Python scientific stack that deals with data science, statistics and data analysis.\n",
    "\n",
    "\n",
    "StatsModels is built on top of NumPy and SciPy."
   ]
  },
  {
   "cell_type": "code",
   "execution_count": 1,
   "id": "1d49197d",
   "metadata": {},
   "outputs": [
    {
     "name": "stdout",
     "output_type": "stream",
     "text": [
      "                            OLS Regression Results                            \n",
      "==============================================================================\n",
      "Dep. Variable:                Lottery   R-squared:                       0.348\n",
      "Model:                            OLS   Adj. R-squared:                  0.333\n",
      "Method:                 Least Squares   F-statistic:                     22.20\n",
      "Date:                Wed, 20 Apr 2022   Prob (F-statistic):           1.90e-08\n",
      "Time:                        11:47:10   Log-Likelihood:                -379.82\n",
      "No. Observations:                  86   AIC:                             765.6\n",
      "Df Residuals:                      83   BIC:                             773.0\n",
      "Df Model:                           2                                         \n",
      "Covariance Type:            nonrobust                                         \n",
      "===================================================================================\n",
      "                      coef    std err          t      P>|t|      [0.025      0.975]\n",
      "-----------------------------------------------------------------------------------\n",
      "Intercept         246.4341     35.233      6.995      0.000     176.358     316.510\n",
      "Literacy           -0.4889      0.128     -3.832      0.000      -0.743      -0.235\n",
      "np.log(Pop1831)   -31.3114      5.977     -5.239      0.000     -43.199     -19.424\n",
      "==============================================================================\n",
      "Omnibus:                        3.713   Durbin-Watson:                   2.019\n",
      "Prob(Omnibus):                  0.156   Jarque-Bera (JB):                3.394\n",
      "Skew:                          -0.487   Prob(JB):                        0.183\n",
      "Kurtosis:                       3.003   Cond. No.                         702.\n",
      "==============================================================================\n",
      "\n",
      "Notes:\n",
      "[1] Standard Errors assume that the covariance matrix of the errors is correctly specified.\n"
     ]
    }
   ],
   "source": [
    "#Simple example\n",
    "import numpy as np\n",
    "import statsmodels.api as sm\n",
    "import statsmodels.formula.api as smf\n",
    "# Load data\n",
    "dat = sm.datasets.get_rdataset(\"Guerry\", \"HistData\").data\n",
    "# Fit regression model (using the natural log of one of the regressors)\n",
    "results = smf.ols('Lottery ~ Literacy + np.log(Pop1831)', data=dat).fit()\n",
    "# Inspect the results\n",
    "print(results.summary())"
   ]
  },
  {
   "cell_type": "markdown",
   "id": "62c76de3",
   "metadata": {},
   "source": [
    "#### Python StatsModels Linear Regression"
   ]
  },
  {
   "cell_type": "code",
   "execution_count": 2,
   "id": "977d8845",
   "metadata": {},
   "outputs": [
    {
     "name": "stdout",
     "output_type": "stream",
     "text": [
      "                            OLS Regression Results                            \n",
      "==============================================================================\n",
      "Dep. Variable:                      y   R-squared:                       0.416\n",
      "Model:                            OLS   Adj. R-squared:                  0.353\n",
      "Method:                 Least Squares   F-statistic:                     6.646\n",
      "Date:                Wed, 20 Apr 2022   Prob (F-statistic):            0.00157\n",
      "Time:                        11:47:50   Log-Likelihood:                -12.978\n",
      "No. Observations:                  32   AIC:                             33.96\n",
      "Df Residuals:                      28   BIC:                             39.82\n",
      "Df Model:                           3                                         \n",
      "Covariance Type:            nonrobust                                         \n",
      "==============================================================================\n",
      "                 coef    std err          t      P>|t|      [0.025      0.975]\n",
      "------------------------------------------------------------------------------\n",
      "x1             0.4639      0.162      2.864      0.008       0.132       0.796\n",
      "x2             0.0105      0.019      0.539      0.594      -0.029       0.050\n",
      "x3             0.3786      0.139      2.720      0.011       0.093       0.664\n",
      "const         -1.4980      0.524     -2.859      0.008      -2.571      -0.425\n",
      "==============================================================================\n",
      "Omnibus:                        0.176   Durbin-Watson:                   2.346\n",
      "Prob(Omnibus):                  0.916   Jarque-Bera (JB):                0.167\n",
      "Skew:                           0.141   Prob(JB):                        0.920\n",
      "Kurtosis:                       2.786   Cond. No.                         176.\n",
      "==============================================================================\n",
      "\n",
      "Notes:\n",
      "[1] Standard Errors assume that the covariance matrix of the errors is correctly specified.\n"
     ]
    }
   ],
   "source": [
    "# Load modules and data\n",
    "import numpy as np\n",
    "import statsmodels.api as sm\n",
    "spector_data = sm.datasets.spector.load()\n",
    "spector_data.exog = sm.add_constant(spector_data.exog, prepend=False)\n",
    "# Fit and summarize OLS model\n",
    "mod = sm.OLS(spector_data.endog, spector_data.exog)\n",
    "res = mod.fit()\n",
    "print(res.summary())"
   ]
  },
  {
   "cell_type": "markdown",
   "id": "4c45d48f",
   "metadata": {},
   "source": [
    "##### Generalized linear models (GLMs)\n",
    "These currently support estimation using the one-parameter exponential families. Let’s have a better look into this:"
   ]
  },
  {
   "cell_type": "code",
   "execution_count": 3,
   "id": "4765cbff",
   "metadata": {},
   "outputs": [
    {
     "name": "stdout",
     "output_type": "stream",
     "text": [
      "                 Generalized Linear Model Regression Results                  \n",
      "==============================================================================\n",
      "Dep. Variable:                      y   No. Observations:                   32\n",
      "Model:                            GLM   Df Residuals:                       24\n",
      "Model Family:                   Gamma   Df Model:                            7\n",
      "Link Function:          inverse_power   Scale:                       0.0035843\n",
      "Method:                          IRLS   Log-Likelihood:                -83.017\n",
      "Date:                Wed, 20 Apr 2022   Deviance:                     0.087389\n",
      "Time:                        11:48:41   Pearson chi2:                   0.0860\n",
      "No. Iterations:                     6                                         \n",
      "Covariance Type:            nonrobust                                         \n",
      "==============================================================================\n",
      "                 coef    std err          z      P>|z|      [0.025      0.975]\n",
      "------------------------------------------------------------------------------\n",
      "const         -0.0178      0.011     -1.548      0.122      -0.040       0.005\n",
      "x1          4.962e-05   1.62e-05      3.060      0.002    1.78e-05    8.14e-05\n",
      "x2             0.0020      0.001      3.824      0.000       0.001       0.003\n",
      "x3         -7.181e-05   2.71e-05     -2.648      0.008      -0.000   -1.87e-05\n",
      "x4             0.0001   4.06e-05      2.757      0.006    3.23e-05       0.000\n",
      "x5         -1.468e-07   1.24e-07     -1.187      0.235   -3.89e-07    9.56e-08\n",
      "x6            -0.0005      0.000     -2.159      0.031      -0.001   -4.78e-05\n",
      "x7         -2.427e-06   7.46e-07     -3.253      0.001   -3.89e-06   -9.65e-07\n",
      "==============================================================================\n"
     ]
    },
    {
     "name": "stderr",
     "output_type": "stream",
     "text": [
      "/Users/techolution/opt/anaconda3/lib/python3.8/site-packages/statsmodels/genmod/generalized_linear_model.py:293: DomainWarning: The inverse_power link function does not respect the domain of the Gamma family.\n",
      "  warnings.warn((f\"The {type(family.link).__name__} link function \"\n"
     ]
    }
   ],
   "source": [
    "# Load modules and data\n",
    "import statsmodels.api as sm\n",
    "data = sm.datasets.scotland.load()\n",
    "data.exog = sm.add_constant(data.exog)\n",
    "# Instantiate a gamma family model with the default link function.\n",
    "gamma_model = sm.GLM(data.endog, data.exog, family=sm.families.Gamma())\n",
    "gamma_results = gamma_model.fit()\n",
    "print(gamma_results.summary())"
   ]
  },
  {
   "cell_type": "markdown",
   "id": "587bb618",
   "metadata": {},
   "source": [
    "Running the above code gives us an easy to read and understand output like this:"
   ]
  },
  {
   "cell_type": "markdown",
   "id": "aea5ef67",
   "metadata": {},
   "source": [
    "#### Generalized Estimating Equations (GEEs)\n",
    "GEEs as clear from name are generalized linear models for panel, cluster or repeated measure data when the observations are possibly correlated within a cluster but not across the same."
   ]
  },
  {
   "cell_type": "code",
   "execution_count": 4,
   "id": "475616bb",
   "metadata": {},
   "outputs": [
    {
     "name": "stdout",
     "output_type": "stream",
     "text": [
      "                               GEE Regression Results                              \n",
      "===================================================================================\n",
      "Dep. Variable:                           y   No. Observations:                  236\n",
      "Model:                                 GEE   No. clusters:                       59\n",
      "Method:                        Generalized   Min. cluster size:                   4\n",
      "                      Estimating Equations   Max. cluster size:                   4\n",
      "Family:                            Poisson   Mean cluster size:                 4.0\n",
      "Dependence structure:         Exchangeable   Num. iterations:                     2\n",
      "Date:                     Wed, 20 Apr 2022   Scale:                           1.000\n",
      "Covariance type:                    robust   Time:                         11:49:27\n",
      "====================================================================================\n",
      "                       coef    std err          z      P>|z|      [0.025      0.975]\n",
      "------------------------------------------------------------------------------------\n",
      "Intercept            0.5730      0.361      1.589      0.112      -0.134       1.280\n",
      "trt[T.progabide]    -0.1519      0.171     -0.888      0.375      -0.487       0.183\n",
      "age                  0.0223      0.011      1.960      0.050    2.11e-06       0.045\n",
      "base                 0.0226      0.001     18.451      0.000       0.020       0.025\n",
      "==============================================================================\n",
      "Skew:                          3.7823   Kurtosis:                      28.6672\n",
      "Centered skew:                 2.7597   Centered kurtosis:             21.9865\n",
      "==============================================================================\n"
     ]
    }
   ],
   "source": [
    "# Load modules and data\n",
    "import statsmodels.api as sm\n",
    "import statsmodels.formula.api as smf\n",
    "data = sm.datasets.get_rdataset('epil', package='MASS').data\n",
    "fam = sm.families.Poisson()\n",
    "ind = sm.cov_struct.Exchangeable()\n",
    "# Instantiate model with the default link function.\n",
    "mod = smf.gee(\"y ~ age + trt + base\", \"subject\", data,cov_struct=ind, family=fam)\n",
    "res = mod.fit()\n",
    "print(res.summary())"
   ]
  },
  {
   "cell_type": "markdown",
   "id": "c986dddf",
   "metadata": {},
   "source": [
    "### Robust Linear Models\n",
    "Let’s create a more robust linear model. You must have observed it so far how easy it is to make such models with statsmodels:"
   ]
  },
  {
   "cell_type": "code",
   "execution_count": 5,
   "id": "5cddb232",
   "metadata": {},
   "outputs": [
    {
     "name": "stdout",
     "output_type": "stream",
     "text": [
      "[-41.02649835   0.82938433   0.92606597  -0.12784672]\n"
     ]
    }
   ],
   "source": [
    "# Load modules and data\n",
    "import statsmodels.api as sm\n",
    "data = sm.datasets.stackloss.load()\n",
    "data.exog = sm.add_constant(data.exog)\n",
    "# Fit model and print summary\n",
    "rlm_model = sm.RLM(data.endog, data.exog, M=sm.robust.norms.HuberT())\n",
    "rlm_results = rlm_model.fit()\n",
    "print(rlm_results.params)"
   ]
  },
  {
   "cell_type": "markdown",
   "id": "0d3d3a8d",
   "metadata": {},
   "source": [
    "#### Linear Mixed Effects Models\n",
    "Sometimes we have to work with dependent data. Such data is common to find when working with longitudinal and other study designs where multiple study designs are made. To analyse such data with regression Linear Mixed Effects models are very helpful:"
   ]
  },
  {
   "cell_type": "code",
   "execution_count": 6,
   "id": "949d7c66",
   "metadata": {},
   "outputs": [
    {
     "name": "stdout",
     "output_type": "stream",
     "text": [
      "         Mixed Linear Model Regression Results\n",
      "========================================================\n",
      "Model:            MixedLM Dependent Variable: Weight    \n",
      "No. Observations: 861     Method:             REML      \n",
      "No. Groups:       72      Scale:              11.3669   \n",
      "Min. group size:  11      Log-Likelihood:     -2404.7753\n",
      "Max. group size:  12      Converged:          Yes       \n",
      "Mean group size:  12.0                                  \n",
      "--------------------------------------------------------\n",
      "             Coef.  Std.Err.    z    P>|z| [0.025 0.975]\n",
      "--------------------------------------------------------\n",
      "Intercept    15.724    0.788  19.952 0.000 14.179 17.268\n",
      "Time          6.943    0.033 207.939 0.000  6.877  7.008\n",
      "Group Var    40.394    2.149                            \n",
      "========================================================\n",
      "\n"
     ]
    }
   ],
   "source": [
    "# Load modules and data\n",
    "import statsmodels.api as sm\n",
    "import statsmodels.formula.api as smf\n",
    "# Fit model and print summary\n",
    "data = sm.datasets.get_rdataset(\"dietox\", \"geepack\").data\n",
    "md = smf.mixedlm(\"Weight ~ Time\", data, groups=data[\"Pig\"])\n",
    "mdf = md.fit()\n",
    "print(mdf.summary())"
   ]
  },
  {
   "cell_type": "markdown",
   "id": "06a6f6f1",
   "metadata": {},
   "source": [
    "Conclusion\n",
    "In this tutorial, we have seen that StatsModels make it easy to perform statistical analysis. We have seen several examples of creating stats models.\n",
    "\n",
    "Python StatsModels module makes it easy to create models without much of hassle and with just a few lines of code. It also presents the output in a manner that is easier to read and understand."
   ]
  },
  {
   "cell_type": "code",
   "execution_count": null,
   "id": "f6876590",
   "metadata": {},
   "outputs": [],
   "source": []
  }
 ],
 "metadata": {
  "kernelspec": {
   "display_name": "Python 3",
   "language": "python",
   "name": "python3"
  },
  "language_info": {
   "codemirror_mode": {
    "name": "ipython",
    "version": 3
   },
   "file_extension": ".py",
   "mimetype": "text/x-python",
   "name": "python",
   "nbconvert_exporter": "python",
   "pygments_lexer": "ipython3",
   "version": "3.8.8"
  }
 },
 "nbformat": 4,
 "nbformat_minor": 5
}
