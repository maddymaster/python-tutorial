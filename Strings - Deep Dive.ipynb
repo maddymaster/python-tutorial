{
 "cells": [
  {
   "cell_type": "markdown",
   "id": "c12bdbbb",
   "metadata": {},
   "source": [
    "### Multiline strings\n",
    "Python also has syntax for creating multiline strings, using triple quotes. By this I mean three double quotes or three single quotes, both work but I’ll demonstrate with double quotes:"
   ]
  },
  {
   "cell_type": "code",
   "execution_count": 3,
   "id": "80dbe2d2",
   "metadata": {},
   "outputs": [],
   "source": [
    "my_big_string = \"\"\"This is line 1,\n",
    "this is line 2,\n",
    "this is line 3.\"\"\""
   ]
  },
  {
   "cell_type": "code",
   "execution_count": null,
   "id": "3d528124",
   "metadata": {},
   "outputs": [],
   "source": []
  },
  {
   "cell_type": "code",
   "execution_count": null,
   "id": "96dca325",
   "metadata": {},
   "outputs": [],
   "source": []
  },
  {
   "cell_type": "code",
   "execution_count": null,
   "id": "17d915a1",
   "metadata": {},
   "outputs": [],
   "source": [
    "line = \"\"\"He said: \"Hello, I've got a question\" from the audience\"\"\""
   ]
  },
  {
   "cell_type": "markdown",
   "id": "0e290932",
   "metadata": {},
   "source": [
    "### String operations\n",
    "Strings come with a number of handy, built-in operations you can execute. I’ll show you only a couple here since I don’t want to divert your attention from the tutorial too much.\n",
    "\n",
    "In the REPL, you can use auto-completion. In the next code fragment, we create a string, mystring, and on the next line we type its name followed by hitting the <TAB> key twice:"
   ]
  },
  {
   "cell_type": "code",
   "execution_count": 7,
   "id": "0562f8d6",
   "metadata": {},
   "outputs": [],
   "source": [
    "mystring = \"Hello world\""
   ]
  },
  {
   "cell_type": "markdown",
   "id": "94c35b9d",
   "metadata": {},
   "source": [
    "Press tab twice to see all the build in methods"
   ]
  },
  {
   "cell_type": "code",
   "execution_count": null,
   "id": "d5f1d61f",
   "metadata": {},
   "outputs": [],
   "source": [
    "mystring."
   ]
  },
  {
   "cell_type": "code",
   "execution_count": null,
   "id": "2e5cee53",
   "metadata": {},
   "outputs": [],
   "source": []
  },
  {
   "cell_type": "code",
   "execution_count": null,
   "id": "8e351ad2",
   "metadata": {},
   "outputs": [],
   "source": []
  },
  {
   "cell_type": "code",
   "execution_count": null,
   "id": "acb1958d",
   "metadata": {},
   "outputs": [],
   "source": []
  },
  {
   "cell_type": "markdown",
   "id": "32dbe90d",
   "metadata": {},
   "source": [
    "### Getting the string length\n",
    "\n",
    "A common operation is to get the string length. Unlike the operations above, this can be done with Python’s len() function like this:"
   ]
  },
  {
   "cell_type": "code",
   "execution_count": null,
   "id": "9501d4bf",
   "metadata": {},
   "outputs": [],
   "source": []
  },
  {
   "cell_type": "code",
   "execution_count": null,
   "id": "25ce6de1",
   "metadata": {},
   "outputs": [],
   "source": []
  },
  {
   "cell_type": "markdown",
   "id": "8a0f7e97",
   "metadata": {},
   "source": [
    "### Split a string\n",
    "Another common operation is splitting a string. For this, we can use one of the built-in operations, conveniently called split. Let’s start simple, by splitting up two words on the space character between them:"
   ]
  },
  {
   "cell_type": "code",
   "execution_count": null,
   "id": "d02ed5fc",
   "metadata": {},
   "outputs": [],
   "source": []
  },
  {
   "cell_type": "code",
   "execution_count": null,
   "id": "edefca9e",
   "metadata": {},
   "outputs": [],
   "source": []
  },
  {
   "cell_type": "code",
   "execution_count": null,
   "id": "e7b71648",
   "metadata": {},
   "outputs": [],
   "source": []
  },
  {
   "cell_type": "code",
   "execution_count": null,
   "id": "7403b2ab",
   "metadata": {},
   "outputs": [],
   "source": []
  },
  {
   "cell_type": "markdown",
   "id": "8224a871",
   "metadata": {},
   "source": [
    "The split operation takes one argument, which is the sequence of characters to split on. The output is a Python list, containing all the separate words.\n",
    "\n",
    "#### Split on whitespace\n",
    "A common use-case is to split on whitespace. The problem is that whitespace can be a lot of things. Three common ones that you probably know already are:\n",
    "\n",
    "* space characters\n",
    "* tabs\n",
    "* newlines\n",
    "But there are many more, and to make it even more complicated, whitespace doesn’t mean just one of these characters, but can also be a whole sequence of them. E.g., three consecutive spaces and a tab character form one piece of whitespace.\n",
    "\n",
    "Exactly because this is such a common operation among programmers, and because it’s hard to do it perfectly, Python has a convenient shortcut for it. Calling the split operation without any arguments splits a string on whitespace, as can be seen below:"
   ]
  },
  {
   "cell_type": "code",
   "execution_count": 12,
   "id": "8783eb05",
   "metadata": {},
   "outputs": [
    {
     "data": {
      "text/plain": [
       "['Hello', 'there,', 'stranger.']"
      ]
     },
     "execution_count": 12,
     "metadata": {},
     "output_type": "execute_result"
    }
   ],
   "source": [
    "'Hello \\t\\n there,\\t\\t\\t stranger.'.split()"
   ]
  },
  {
   "cell_type": "code",
   "execution_count": null,
   "id": "4ab3fef3",
   "metadata": {},
   "outputs": [],
   "source": []
  },
  {
   "cell_type": "code",
   "execution_count": null,
   "id": "c26669c2",
   "metadata": {},
   "outputs": [],
   "source": []
  },
  {
   "cell_type": "markdown",
   "id": "f8f8f888",
   "metadata": {},
   "source": [
    "#### Replace parts of a string\n",
    "Let’s look at one more built-in operation on strings: the replace function. It’s used to replace one or more characters or sequences of characters:\n",
    "\n"
   ]
  },
  {
   "cell_type": "code",
   "execution_count": 13,
   "id": "89f284f5",
   "metadata": {},
   "outputs": [
    {
     "data": {
      "text/plain": [
       "'hello world'"
      ]
     },
     "execution_count": 13,
     "metadata": {},
     "output_type": "execute_result"
    }
   ],
   "source": [
    "'Hello world'.replace('H', 'h')"
   ]
  },
  {
   "cell_type": "code",
   "execution_count": 14,
   "id": "36fe4dc8",
   "metadata": {},
   "outputs": [
    {
     "data": {
      "text/plain": [
       "'He__o wor_d'"
      ]
     },
     "execution_count": 14,
     "metadata": {},
     "output_type": "execute_result"
    }
   ],
   "source": [
    "'Hello world'.replace('l', '_')"
   ]
  },
  {
   "cell_type": "code",
   "execution_count": 15,
   "id": "ad1a3a4f",
   "metadata": {},
   "outputs": [
    {
     "data": {
      "text/plain": [
       "'Hello readers'"
      ]
     },
     "execution_count": 15,
     "metadata": {},
     "output_type": "execute_result"
    }
   ],
   "source": [
    "'Hello world'.replace('world', 'readers')"
   ]
  },
  {
   "cell_type": "markdown",
   "id": "7b7306c2",
   "metadata": {},
   "source": [
    "### More string methods"
   ]
  },
  {
   "cell_type": "code",
   "execution_count": 23,
   "id": "cfe7ff72",
   "metadata": {},
   "outputs": [],
   "source": [
    "s = \"simplilearn\""
   ]
  },
  {
   "cell_type": "code",
   "execution_count": 24,
   "id": "8f69d6a6",
   "metadata": {},
   "outputs": [
    {
     "data": {
      "text/plain": [
       "'Simplilearn'"
      ]
     },
     "execution_count": 24,
     "metadata": {},
     "output_type": "execute_result"
    }
   ],
   "source": [
    "# Capitalize first word in string\n",
    "s.capitalize()"
   ]
  },
  {
   "cell_type": "code",
   "execution_count": 25,
   "id": "b1684da6",
   "metadata": {},
   "outputs": [
    {
     "data": {
      "text/plain": [
       "'SIMPLILEARN'"
      ]
     },
     "execution_count": 25,
     "metadata": {},
     "output_type": "execute_result"
    }
   ],
   "source": [
    "s.upper()"
   ]
  },
  {
   "cell_type": "code",
   "execution_count": 26,
   "id": "a822574a",
   "metadata": {},
   "outputs": [
    {
     "data": {
      "text/plain": [
       "'simplilearn'"
      ]
     },
     "execution_count": 26,
     "metadata": {},
     "output_type": "execute_result"
    }
   ],
   "source": [
    "s.lower()"
   ]
  },
  {
   "cell_type": "code",
   "execution_count": 27,
   "id": "03e6039a",
   "metadata": {},
   "outputs": [
    {
     "data": {
      "text/plain": [
       "2"
      ]
     },
     "execution_count": 27,
     "metadata": {},
     "output_type": "execute_result"
    }
   ],
   "source": [
    "s.count('i')"
   ]
  },
  {
   "cell_type": "code",
   "execution_count": 28,
   "id": "2a6268fb",
   "metadata": {},
   "outputs": [
    {
     "data": {
      "text/plain": [
       "1"
      ]
     },
     "execution_count": 28,
     "metadata": {},
     "output_type": "execute_result"
    }
   ],
   "source": [
    "s.find('i')"
   ]
  },
  {
   "cell_type": "markdown",
   "id": "3a879549",
   "metadata": {},
   "source": [
    "### Formatting\n",
    "The center() method allows you to place your string 'centered' between a provided string with a certain length. Personally, I've never actually used this in code as it seems pretty esoteric..."
   ]
  },
  {
   "cell_type": "code",
   "execution_count": 29,
   "id": "6cd32ba3",
   "metadata": {},
   "outputs": [
    {
     "data": {
      "text/plain": [
       "'sssssimplilearnsssss'"
      ]
     },
     "execution_count": 29,
     "metadata": {},
     "output_type": "execute_result"
    }
   ],
   "source": [
    "s.center(20,'s')"
   ]
  },
  {
   "cell_type": "code",
   "execution_count": 30,
   "id": "8287b570",
   "metadata": {},
   "outputs": [
    {
     "data": {
      "text/plain": [
       "'hello   hi'"
      ]
     },
     "execution_count": 30,
     "metadata": {},
     "output_type": "execute_result"
    }
   ],
   "source": [
    "#expandtabs() will expand tab notations \\t into spaces:\n",
    "\n",
    "'hello\\thi'.expandtabs()"
   ]
  },
  {
   "cell_type": "markdown",
   "id": "a0bcc1fb",
   "metadata": {},
   "source": [
    "### is check methods\n",
    "\n",
    "These various methods below check it the string is some case. Lets explore them:"
   ]
  },
  {
   "cell_type": "code",
   "execution_count": 31,
   "id": "97d151c8",
   "metadata": {},
   "outputs": [],
   "source": [
    "s = 'hello'\n"
   ]
  },
  {
   "cell_type": "code",
   "execution_count": 32,
   "id": "5cfacf96",
   "metadata": {},
   "outputs": [
    {
     "data": {
      "text/plain": [
       "True"
      ]
     },
     "execution_count": 32,
     "metadata": {},
     "output_type": "execute_result"
    }
   ],
   "source": [
    "s.isalnum() #isalnum() will return True if all characters in S are alphanumeric"
   ]
  },
  {
   "cell_type": "code",
   "execution_count": 33,
   "id": "967801aa",
   "metadata": {},
   "outputs": [
    {
     "data": {
      "text/plain": [
       "True"
      ]
     },
     "execution_count": 33,
     "metadata": {},
     "output_type": "execute_result"
    }
   ],
   "source": [
    "s.isalpha()  # isalpha() wil return True if all characters in S are alphabetic"
   ]
  },
  {
   "cell_type": "code",
   "execution_count": 34,
   "id": "4e045158",
   "metadata": {},
   "outputs": [
    {
     "data": {
      "text/plain": [
       "True"
      ]
     },
     "execution_count": 34,
     "metadata": {},
     "output_type": "execute_result"
    }
   ],
   "source": [
    "s.islower()"
   ]
  },
  {
   "cell_type": "markdown",
   "id": "7b058b76",
   "metadata": {},
   "source": [
    "islower() will return True if all cased characters in S are lowercase and there is at least one cased character in S, False otherwise."
   ]
  },
  {
   "cell_type": "markdown",
   "id": "6bfdd065",
   "metadata": {},
   "source": [
    "### Built-in Reg. Expressions\n",
    "Strings have some built-in methods that can resemble regular expression operations. We can use split() to split the string at a certain element and return a list of the result. We can use partition to return a tuple that includes the separator (the first occurrence) and the first half and the end half."
   ]
  },
  {
   "cell_type": "code",
   "execution_count": 35,
   "id": "7fbfe2a2",
   "metadata": {},
   "outputs": [
    {
     "data": {
      "text/plain": [
       "['h', 'llo']"
      ]
     },
     "execution_count": 35,
     "metadata": {},
     "output_type": "execute_result"
    }
   ],
   "source": [
    "s.split('e')"
   ]
  },
  {
   "cell_type": "code",
   "execution_count": 36,
   "id": "5660e805",
   "metadata": {},
   "outputs": [
    {
     "data": {
      "text/plain": [
       "('h', 'e', 'llo')"
      ]
     },
     "execution_count": 36,
     "metadata": {},
     "output_type": "execute_result"
    }
   ],
   "source": [
    "s.partition('e')"
   ]
  },
  {
   "cell_type": "markdown",
   "id": "bac4a4ac",
   "metadata": {},
   "source": [
    "#### lstrip(): How to Remove Spaces and Chars from the Beginning of a String in Python\n",
    "Use the `lstrip()` method to remove spaces from the beginning of a string."
   ]
  },
  {
   "cell_type": "code",
   "execution_count": 37,
   "id": "6d44b8ba",
   "metadata": {},
   "outputs": [
    {
     "name": "stdout",
     "output_type": "stream",
     "text": [
      "   This is a regular text.\n",
      "This is a regular text.\n"
     ]
    }
   ],
   "source": [
    "regular_text = \"   This is a regular text.\"\n",
    "\n",
    "no_space_begin_text = regular_text.lstrip()\n",
    "\n",
    "print(regular_text)\n",
    "#'   This is a regular text.'\n",
    "\n",
    "print(no_space_begin_text)\n",
    "#'This is a regular text.'"
   ]
  },
  {
   "cell_type": "markdown",
   "id": "db750f9e",
   "metadata": {},
   "source": [
    "##### How to Remove Chars\n",
    "The `lstrip()` method also accepts specific chars for removal as parameters."
   ]
  },
  {
   "cell_type": "code",
   "execution_count": 38,
   "id": "f7815119",
   "metadata": {},
   "outputs": [
    {
     "name": "stdout",
     "output_type": "stream",
     "text": [
      "$@G#This is a regular text.\n",
      "This is a regular text.\n"
     ]
    }
   ],
   "source": [
    "regular_text = \"$@G#This is a example text.\"\n",
    "\n",
    "clean_begin_text = regular_text.lstrip(\"#$@G\")\n",
    "\n",
    "print(regular_text)\n",
    "#$@G#This is a regular text.\n",
    "\n",
    "print(clean_begin_text)\n",
    "#This is a regular text."
   ]
  },
  {
   "cell_type": "markdown",
   "id": "d5a9c5ca",
   "metadata": {},
   "source": [
    "#### How to Use Title Case in Python\n",
    "Use the title() method to transform the first letter in each word into upper case and the rest of characters into lower case."
   ]
  },
  {
   "cell_type": "code",
   "execution_count": 39,
   "id": "af1e48ee",
   "metadata": {},
   "outputs": [
    {
     "name": "stdout",
     "output_type": "stream",
     "text": [
      "This is a regular text.\n",
      "This Is A Regular Text.\n"
     ]
    }
   ],
   "source": [
    "regular_text = \"This is a regular text.\"\n",
    "\n",
    "title_case_text = regular_text.title()\n",
    "\n",
    "print(regular_text)\n",
    "#This is a regular text.\n",
    "\n",
    "print(title_case_text)\n",
    "#This Is A Regular Text."
   ]
  },
  {
   "cell_type": "code",
   "execution_count": 41,
   "id": "a0212e67",
   "metadata": {},
   "outputs": [
    {
     "name": "stdout",
     "output_type": "stream",
     "text": [
      "Simplilearn\n",
      "nraelilpmiS\n"
     ]
    }
   ],
   "source": [
    "### Reversing a string\n",
    "\n",
    "my_string = \"Simplilearn\"\n",
    "my_string_reversed = my_string[::-1]\n",
    "print(my_string)\n",
    "print(my_string_reversed)"
   ]
  },
  {
   "cell_type": "code",
   "execution_count": null,
   "id": "c0033464",
   "metadata": {},
   "outputs": [],
   "source": []
  },
  {
   "cell_type": "code",
   "execution_count": null,
   "id": "c9547bd7",
   "metadata": {},
   "outputs": [],
   "source": []
  }
 ],
 "metadata": {
  "kernelspec": {
   "display_name": "Python 3",
   "language": "python",
   "name": "python3"
  },
  "language_info": {
   "codemirror_mode": {
    "name": "ipython",
    "version": 3
   },
   "file_extension": ".py",
   "mimetype": "text/x-python",
   "name": "python",
   "nbconvert_exporter": "python",
   "pygments_lexer": "ipython3",
   "version": "3.8.8"
  }
 },
 "nbformat": 4,
 "nbformat_minor": 5
}
