{
 "cells": [
  {
   "cell_type": "markdown",
   "id": "680e4d0a",
   "metadata": {},
   "source": [
    "### Files\n",
    "\n",
    "Files are named locations on disk to store related information. They are used to permanently store data in a non-volatile memory (e.g. hard disk).\n",
    "\n",
    "Python uses file objects to interact with external files on your computer. These file objects can be any sort of file you have on your computer, whether it be an audio file, a text file, emails, Excel documents, etc. Note: You will probably need to install certain libraries or modules to interact with those various file types, but they are easily available. \n",
    "\n",
    "Python has a built-in open function that allows us to open and play with basic file types. First we will need a file though. We're going to use some iPython magic to create a text file!\n",
    "\n",
    "Hence, in Python, a file operation takes place in the following order:\n",
    "\n",
    "1. Open a file\n",
    "2. Read or write (perform operation)\n",
    "3. Close the file"
   ]
  },
  {
   "cell_type": "markdown",
   "id": "8c2293db",
   "metadata": {},
   "source": [
    "### Writing a file"
   ]
  },
  {
   "cell_type": "code",
   "execution_count": 11,
   "id": "e6a78e10",
   "metadata": {},
   "outputs": [
    {
     "name": "stdout",
     "output_type": "stream",
     "text": [
      "Overwriting test.txt\n"
     ]
    }
   ],
   "source": [
    "%%writefile test.txt\n",
    "Hello, this is a quick test file"
   ]
  },
  {
   "cell_type": "code",
   "execution_count": 12,
   "id": "5f0f8915",
   "metadata": {},
   "outputs": [],
   "source": [
    "### Opening a file \n",
    "# Open the text.txt we made earlier\n",
    "my_file = open('test.txt')"
   ]
  },
  {
   "cell_type": "code",
   "execution_count": 13,
   "id": "01160727",
   "metadata": {},
   "outputs": [
    {
     "data": {
      "text/plain": [
       "'Hello, this is a quick test file\\n'"
      ]
     },
     "execution_count": 13,
     "metadata": {},
     "output_type": "execute_result"
    }
   ],
   "source": [
    "# We can now read the file\n",
    "my_file.read()"
   ]
  },
  {
   "cell_type": "code",
   "execution_count": 14,
   "id": "85dc8a64",
   "metadata": {},
   "outputs": [
    {
     "data": {
      "text/plain": [
       "''"
      ]
     },
     "execution_count": 14,
     "metadata": {},
     "output_type": "execute_result"
    }
   ],
   "source": [
    "# But what happens if we try to read it again?\n",
    "my_file.read()"
   ]
  },
  {
   "cell_type": "markdown",
   "id": "ddb5c023",
   "metadata": {},
   "source": [
    "This happens because you can imagine the reading \"cursor\" is at the end of the file after having read it. So there is nothing left to read. We can reset the \"cursor\" like this:"
   ]
  },
  {
   "cell_type": "code",
   "execution_count": 15,
   "id": "76c14415",
   "metadata": {},
   "outputs": [
    {
     "data": {
      "text/plain": [
       "0"
      ]
     },
     "execution_count": 15,
     "metadata": {},
     "output_type": "execute_result"
    }
   ],
   "source": [
    "# Seek to the start of file (index 0)\n",
    "my_file.seek(0)"
   ]
  },
  {
   "cell_type": "code",
   "execution_count": 16,
   "id": "4e921941",
   "metadata": {},
   "outputs": [
    {
     "data": {
      "text/plain": [
       "'Hello, this is a quick test file\\n'"
      ]
     },
     "execution_count": 16,
     "metadata": {},
     "output_type": "execute_result"
    }
   ],
   "source": [
    "# Now read again\n",
    "my_file.read()"
   ]
  },
  {
   "cell_type": "markdown",
   "id": "1d22b1f7",
   "metadata": {},
   "source": [
    "In order to not have to reset every time, we can also use the readlines method. Use caution with large files, since everything will be held in memory. We will learn how to iterate over large files later in the course."
   ]
  },
  {
   "cell_type": "code",
   "execution_count": 17,
   "id": "a9ffa415",
   "metadata": {},
   "outputs": [
    {
     "data": {
      "text/plain": [
       "[]"
      ]
     },
     "execution_count": 17,
     "metadata": {},
     "output_type": "execute_result"
    }
   ],
   "source": [
    "# Readlines returns a list of the lines in the file.\n",
    "my_file.readlines()"
   ]
  },
  {
   "cell_type": "code",
   "execution_count": 20,
   "id": "c35f3d24",
   "metadata": {},
   "outputs": [
    {
     "data": {
      "text/plain": [
       "0"
      ]
     },
     "execution_count": 20,
     "metadata": {},
     "output_type": "execute_result"
    }
   ],
   "source": [
    "my_file.seek(0)"
   ]
  },
  {
   "cell_type": "code",
   "execution_count": null,
   "id": "506cd2e9",
   "metadata": {},
   "outputs": [],
   "source": [
    "my_file.readlines()"
   ]
  },
  {
   "cell_type": "markdown",
   "id": "59b124a1",
   "metadata": {},
   "source": [
    "### Creating a file in write() mode"
   ]
  },
  {
   "cell_type": "code",
   "execution_count": 21,
   "id": "f438e5a2",
   "metadata": {},
   "outputs": [],
   "source": [
    "file = open('test.txt','w')\n",
    "file.write(\"This is the write command\")\n",
    "file.write(\"It allows us to write in a particular file\")\n",
    "file.close()"
   ]
  },
  {
   "cell_type": "code",
   "execution_count": 22,
   "id": "1b54f1d8",
   "metadata": {},
   "outputs": [
    {
     "ename": "ValueError",
     "evalue": "I/O operation on closed file.",
     "output_type": "error",
     "traceback": [
      "\u001b[0;31m---------------------------------------------------------------------------\u001b[0m",
      "\u001b[0;31mValueError\u001b[0m                                Traceback (most recent call last)",
      "\u001b[0;32m<ipython-input-22-5d3c54c9c0d3>\u001b[0m in \u001b[0;36m<module>\u001b[0;34m\u001b[0m\n\u001b[0;32m----> 1\u001b[0;31m \u001b[0mfile\u001b[0m\u001b[0;34m.\u001b[0m\u001b[0mreadlines\u001b[0m\u001b[0;34m(\u001b[0m\u001b[0;34m)\u001b[0m\u001b[0;34m\u001b[0m\u001b[0;34m\u001b[0m\u001b[0m\n\u001b[0m",
      "\u001b[0;31mValueError\u001b[0m: I/O operation on closed file."
     ]
    }
   ],
   "source": [
    "file.readlines()"
   ]
  },
  {
   "cell_type": "code",
   "execution_count": 23,
   "id": "e612ae97",
   "metadata": {},
   "outputs": [],
   "source": [
    "file = open('test.txt')"
   ]
  },
  {
   "cell_type": "code",
   "execution_count": 24,
   "id": "6cc2d365",
   "metadata": {},
   "outputs": [
    {
     "data": {
      "text/plain": [
       "['This is the write commandIt allows us to write in a particular file']"
      ]
     },
     "execution_count": 24,
     "metadata": {},
     "output_type": "execute_result"
    }
   ],
   "source": [
    "file.readlines()"
   ]
  },
  {
   "cell_type": "code",
   "execution_count": 26,
   "id": "acc6359a",
   "metadata": {},
   "outputs": [],
   "source": [
    "#append mode\n",
    "# Python code to illustrate append() mode\n",
    "file = open('geek.txt','a')\n",
    "file.write(\"This will add this line\")\n",
    "file.close()"
   ]
  },
  {
   "cell_type": "code",
   "execution_count": 28,
   "id": "e4731c86",
   "metadata": {},
   "outputs": [],
   "source": [
    "# Python code to illustrate with()\n",
    "with open(\"test.txt\") as file: \n",
    "    data = file.read()\n",
    "# do something with data"
   ]
  },
  {
   "cell_type": "markdown",
   "id": "25e45952",
   "metadata": {},
   "source": [
    "#### Using write along with the with() function\n",
    "We can also use the write function along with the  with() function: "
   ]
  },
  {
   "cell_type": "code",
   "execution_count": 29,
   "id": "c8fa02e8",
   "metadata": {},
   "outputs": [],
   "source": [
    "# Python code to illustrate with() alongwith write()\n",
    "with open(\"file.txt\", \"w\") as f:\n",
    "    f.write(\"Hello World!!!\")"
   ]
  },
  {
   "cell_type": "markdown",
   "id": "72e53b58",
   "metadata": {},
   "source": [
    "#### split() using file handling\n",
    "We can also split lines using file handling in Python. This splits the variable when space is encountered. You can also split using any characters as we wish. Here is the code:"
   ]
  },
  {
   "cell_type": "code",
   "execution_count": 33,
   "id": "7a78eb76",
   "metadata": {},
   "outputs": [
    {
     "name": "stdout",
     "output_type": "stream",
     "text": [
      "['Hello', 'World!!!']\n"
     ]
    }
   ],
   "source": [
    "# Python code to illustrate split() function\n",
    "with open(\"file.txt\", \"r\") as file:\n",
    "    data = file.readlines()\n",
    "    for line in data:\n",
    "        word = line.split()\n",
    "        print (word)"
   ]
  },
  {
   "cell_type": "code",
   "execution_count": null,
   "id": "110cfafe",
   "metadata": {},
   "outputs": [],
   "source": []
  },
  {
   "cell_type": "code",
   "execution_count": null,
   "id": "85c5ff37",
   "metadata": {},
   "outputs": [],
   "source": []
  }
 ],
 "metadata": {
  "kernelspec": {
   "display_name": "Python 3",
   "language": "python",
   "name": "python3"
  },
  "language_info": {
   "codemirror_mode": {
    "name": "ipython",
    "version": 3
   },
   "file_extension": ".py",
   "mimetype": "text/x-python",
   "name": "python",
   "nbconvert_exporter": "python",
   "pygments_lexer": "ipython3",
   "version": "3.8.8"
  }
 },
 "nbformat": 4,
 "nbformat_minor": 5
}
