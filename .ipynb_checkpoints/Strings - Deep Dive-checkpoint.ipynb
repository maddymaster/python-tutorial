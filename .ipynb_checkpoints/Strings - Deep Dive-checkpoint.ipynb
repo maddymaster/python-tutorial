{
 "cells": [
  {
   "cell_type": "markdown",
   "id": "319b01da",
   "metadata": {},
   "source": [
    "### Multiline strings\n",
    "Python also has syntax for creating multiline strings, using triple quotes. By this I mean three double quotes or three single quotes, both work but I’ll demonstrate with double quotes:"
   ]
  },
  {
   "cell_type": "code",
   "execution_count": 3,
   "id": "97db75d2",
   "metadata": {},
   "outputs": [],
   "source": [
    "my_big_string = \"\"\"This is line 1,\n",
    "this is line 2,\n",
    "this is line 3.\"\"\""
   ]
  },
  {
   "cell_type": "code",
   "execution_count": null,
   "id": "b17cfd33",
   "metadata": {},
   "outputs": [],
   "source": []
  },
  {
   "cell_type": "code",
   "execution_count": null,
   "id": "36dfc852",
   "metadata": {},
   "outputs": [],
   "source": []
  },
  {
   "cell_type": "code",
   "execution_count": null,
   "id": "0f6bead5",
   "metadata": {},
   "outputs": [],
   "source": [
    "line = \"\"\"He said: \"Hello, I've got a question\" from the audience\"\"\""
   ]
  },
  {
   "cell_type": "markdown",
   "id": "70bae2cc",
   "metadata": {},
   "source": [
    "### String operations\n",
    "Strings come with a number of handy, built-in operations you can execute. I’ll show you only a couple here since I don’t want to divert your attention from the tutorial too much.\n",
    "\n",
    "In the REPL, you can use auto-completion. In the next code fragment, we create a string, mystring, and on the next line we type its name followed by hitting the <TAB> key twice:"
   ]
  },
  {
   "cell_type": "code",
   "execution_count": 7,
   "id": "0889c42c",
   "metadata": {},
   "outputs": [],
   "source": [
    "mystring = \"Hello world\""
   ]
  },
  {
   "cell_type": "code",
   "execution_count": null,
   "id": "a40e88fa",
   "metadata": {},
   "outputs": [],
   "source": [
    "mystring."
   ]
  },
  {
   "cell_type": "code",
   "execution_count": null,
   "id": "82613fad",
   "metadata": {},
   "outputs": [],
   "source": []
  },
  {
   "cell_type": "code",
   "execution_count": null,
   "id": "dea81eef",
   "metadata": {},
   "outputs": [],
   "source": []
  },
  {
   "cell_type": "code",
   "execution_count": null,
   "id": "7320468c",
   "metadata": {},
   "outputs": [],
   "source": []
  },
  {
   "cell_type": "markdown",
   "id": "f469be6b",
   "metadata": {},
   "source": [
    "### Getting the string length\n",
    "\n",
    "A common operation is to get the string length. Unlike the operations above, this can be done with Python’s len() function like this:"
   ]
  },
  {
   "cell_type": "code",
   "execution_count": null,
   "id": "1dca8f61",
   "metadata": {},
   "outputs": [],
   "source": []
  },
  {
   "cell_type": "code",
   "execution_count": null,
   "id": "528e424e",
   "metadata": {},
   "outputs": [],
   "source": []
  },
  {
   "cell_type": "markdown",
   "id": "d8c7ce9f",
   "metadata": {},
   "source": [
    "### Split a string\n",
    "Another common operation is splitting a string. For this, we can use one of the built-in operations, conveniently called split. Let’s start simple, by splitting up two words on the space character between them:"
   ]
  },
  {
   "cell_type": "code",
   "execution_count": null,
   "id": "0baaa11a",
   "metadata": {},
   "outputs": [],
   "source": []
  },
  {
   "cell_type": "code",
   "execution_count": null,
   "id": "57c237f6",
   "metadata": {},
   "outputs": [],
   "source": []
  },
  {
   "cell_type": "code",
   "execution_count": null,
   "id": "28f3a6c3",
   "metadata": {},
   "outputs": [],
   "source": []
  },
  {
   "cell_type": "code",
   "execution_count": null,
   "id": "3f7bf40d",
   "metadata": {},
   "outputs": [],
   "source": []
  },
  {
   "cell_type": "markdown",
   "id": "0d4299e8",
   "metadata": {},
   "source": [
    "The split operation takes one argument, which is the sequence of characters to split on. The output is a Python list, containing all the separate words.\n",
    "\n",
    "#### Split on whitespace\n",
    "A common use-case is to split on whitespace. The problem is that whitespace can be a lot of things. Three common ones that you probably know already are:\n",
    "\n",
    "* space characters\n",
    "* tabs\n",
    "* newlines\n",
    "But there are many more, and to make it even more complicated, whitespace doesn’t mean just one of these characters, but can also be a whole sequence of them. E.g., three consecutive spaces and a tab character form one piece of whitespace.\n",
    "\n",
    "Exactly because this is such a common operation among programmers, and because it’s hard to do it perfectly, Python has a convenient shortcut for it. Calling the split operation without any arguments splits a string on whitespace, as can be seen below:"
   ]
  },
  {
   "cell_type": "code",
   "execution_count": null,
   "id": "f3ef1296",
   "metadata": {},
   "outputs": [],
   "source": [
    "'Hello \\t\\n there,\\t\\t\\t stranger.'.split()"
   ]
  },
  {
   "cell_type": "code",
   "execution_count": null,
   "id": "ac68f023",
   "metadata": {},
   "outputs": [],
   "source": []
  },
  {
   "cell_type": "code",
   "execution_count": null,
   "id": "7601a35f",
   "metadata": {},
   "outputs": [],
   "source": []
  },
  {
   "cell_type": "markdown",
   "id": "0869cc90",
   "metadata": {},
   "source": [
    "#### Replace parts of a string\n",
    "Let’s look at one more built-in operation on strings: the replace function. It’s used to replace one or more characters or sequences of characters:\n",
    "\n"
   ]
  },
  {
   "cell_type": "code",
   "execution_count": null,
   "id": "3432d1fd",
   "metadata": {},
   "outputs": [],
   "source": [
    "'Hello world'.replace('H', 'h')"
   ]
  },
  {
   "cell_type": "code",
   "execution_count": null,
   "id": "64c05b9e",
   "metadata": {},
   "outputs": [],
   "source": [
    "'Hello world'.replace('l', '_')"
   ]
  },
  {
   "cell_type": "code",
   "execution_count": null,
   "id": "2042a3e1",
   "metadata": {},
   "outputs": [],
   "source": [
    "'Hello world'.replace('world', 'readers')"
   ]
  },
  {
   "cell_type": "markdown",
   "id": "3a1b5c2f",
   "metadata": {},
   "source": [
    "### More string methods"
   ]
  },
  {
   "cell_type": "code",
   "execution_count": null,
   "id": "edc83a56",
   "metadata": {},
   "outputs": [],
   "source": [
    "s = simplilearn"
   ]
  },
  {
   "cell_type": "code",
   "execution_count": null,
   "id": "6766e8c6",
   "metadata": {},
   "outputs": [],
   "source": [
    "# Capitalize first word in string\n",
    "s.capitalize()"
   ]
  },
  {
   "cell_type": "code",
   "execution_count": null,
   "id": "1f89e3fa",
   "metadata": {},
   "outputs": [],
   "source": [
    "s.upper()"
   ]
  },
  {
   "cell_type": "code",
   "execution_count": null,
   "id": "6d913919",
   "metadata": {},
   "outputs": [],
   "source": [
    "s.lower()"
   ]
  },
  {
   "cell_type": "code",
   "execution_count": null,
   "id": "67122bb4",
   "metadata": {},
   "outputs": [],
   "source": [
    "s.count('i')"
   ]
  },
  {
   "cell_type": "code",
   "execution_count": null,
   "id": "e679ed66",
   "metadata": {},
   "outputs": [],
   "source": [
    "s.find('i')"
   ]
  },
  {
   "cell_type": "markdown",
   "id": "12b302f2",
   "metadata": {},
   "source": [
    "### Formatting\n",
    "The center() method allows you to place your string 'centered' between a provided string with a certain length. Personally, I've never actually used this in code as it seems pretty esoteric..."
   ]
  },
  {
   "cell_type": "code",
   "execution_count": null,
   "id": "c85e2ab1",
   "metadata": {},
   "outputs": [],
   "source": [
    "s.center(20,'s')"
   ]
  },
  {
   "cell_type": "code",
   "execution_count": null,
   "id": "6fd3acf9",
   "metadata": {},
   "outputs": [],
   "source": [
    "#expandtabs() will expand tab notations \\t into spaces:\n",
    "\n",
    "'hello\\thi'.expandtabs()"
   ]
  },
  {
   "cell_type": "markdown",
   "id": "e1bf3e85",
   "metadata": {},
   "source": [
    "### is check methods\n",
    "\n",
    "These various methods below check it the string is some case. Lets explore them:"
   ]
  },
  {
   "cell_type": "code",
   "execution_count": 11,
   "id": "497d3ccc",
   "metadata": {},
   "outputs": [],
   "source": [
    "s = 'hello'\n"
   ]
  },
  {
   "cell_type": "code",
   "execution_count": null,
   "id": "189fad8d",
   "metadata": {},
   "outputs": [],
   "source": [
    "s.isalnum() #isalnum() will return True if all characters in S are alphanumeric"
   ]
  },
  {
   "cell_type": "code",
   "execution_count": null,
   "id": "5bd736c7",
   "metadata": {},
   "outputs": [],
   "source": [
    "s.isalpha()  # isalpha() wil return True if all characters in S are alphabetic"
   ]
  },
  {
   "cell_type": "code",
   "execution_count": null,
   "id": "c448914d",
   "metadata": {},
   "outputs": [],
   "source": [
    "s.islower()"
   ]
  },
  {
   "cell_type": "markdown",
   "id": "954f4f2a",
   "metadata": {},
   "source": [
    "islower() will return True if all cased characters in S are lowercase and there is at least one cased character in S, False otherwise."
   ]
  },
  {
   "cell_type": "markdown",
   "id": "46ee80ae",
   "metadata": {},
   "source": [
    "### Built-in Reg. Expressions\n",
    "Strings have some built-in methods that can resemble regular expression operations. We can use split() to split the string at a certain element and return a list of the result. We can use partition to return a tuple that includes the separator (the first occurrence) and the first half and the end half."
   ]
  },
  {
   "cell_type": "code",
   "execution_count": null,
   "id": "29a6ec6e",
   "metadata": {},
   "outputs": [],
   "source": [
    "s.split('e')"
   ]
  },
  {
   "cell_type": "code",
   "execution_count": null,
   "id": "c8334b38",
   "metadata": {},
   "outputs": [],
   "source": [
    "s.partition('e')"
   ]
  }
 ],
 "metadata": {
  "kernelspec": {
   "display_name": "Python 3",
   "language": "python",
   "name": "python3"
  },
  "language_info": {
   "codemirror_mode": {
    "name": "ipython",
    "version": 3
   },
   "file_extension": ".py",
   "mimetype": "text/x-python",
   "name": "python",
   "nbconvert_exporter": "python",
   "pygments_lexer": "ipython3",
   "version": "3.8.8"
  }
 },
 "nbformat": 4,
 "nbformat_minor": 5
}
